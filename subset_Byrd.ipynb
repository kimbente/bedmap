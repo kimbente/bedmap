{
 "cells": [
  {
   "cell_type": "code",
   "execution_count": 1,
   "metadata": {},
   "outputs": [],
   "source": [
    "import pandas as pd\n",
    "# Geopandas is a geo dataframe\n",
    "# import geopandas as gpd\n",
    "import numpy as np\n",
    "import matplotlib.pyplot as plt"
   ]
  },
  {
   "cell_type": "markdown",
   "metadata": {},
   "source": [
    "# Load all preprocessed data"
   ]
  },
  {
   "cell_type": "code",
   "execution_count": 2,
   "metadata": {},
   "outputs": [],
   "source": [
    "all = pd.read_csv(\"/home/kim/data/bedmap/bedmap123_preprocessed.csv\")"
   ]
  },
  {
   "cell_type": "code",
   "execution_count": 3,
   "metadata": {},
   "outputs": [
    {
     "data": {
      "text/html": [
       "<div>\n",
       "<style scoped>\n",
       "    .dataframe tbody tr th:only-of-type {\n",
       "        vertical-align: middle;\n",
       "    }\n",
       "\n",
       "    .dataframe tbody tr th {\n",
       "        vertical-align: top;\n",
       "    }\n",
       "\n",
       "    .dataframe thead th {\n",
       "        text-align: right;\n",
       "    }\n",
       "</style>\n",
       "<table border=\"1\" class=\"dataframe\">\n",
       "  <thead>\n",
       "    <tr style=\"text-align: right;\">\n",
       "      <th></th>\n",
       "      <th>Unnamed: 0.1</th>\n",
       "      <th>Unnamed: 0</th>\n",
       "      <th>lon</th>\n",
       "      <th>lat</th>\n",
       "      <th>x</th>\n",
       "      <th>y</th>\n",
       "      <th>s</th>\n",
       "      <th>t</th>\n",
       "      <th>b</th>\n",
       "      <th>b_inferred</th>\n",
       "      <th>source</th>\n",
       "    </tr>\n",
       "  </thead>\n",
       "  <tbody>\n",
       "    <tr>\n",
       "      <th>0</th>\n",
       "      <td>1</td>\n",
       "      <td>247</td>\n",
       "      <td>-163.00000</td>\n",
       "      <td>-78.78833</td>\n",
       "      <td>-3.572549e+05</td>\n",
       "      <td>-1.168528e+06</td>\n",
       "      <td>197.0</td>\n",
       "      <td>415.0</td>\n",
       "      <td>-218.0</td>\n",
       "      <td>True</td>\n",
       "      <td>BEDMAP1_1966-2000_AIR_BM1.csv</td>\n",
       "    </tr>\n",
       "    <tr>\n",
       "      <th>1</th>\n",
       "      <td>6</td>\n",
       "      <td>252</td>\n",
       "      <td>-177.10000</td>\n",
       "      <td>-78.97667</td>\n",
       "      <td>-6.077581e+04</td>\n",
       "      <td>-1.199732e+06</td>\n",
       "      <td>46.0</td>\n",
       "      <td>329.0</td>\n",
       "      <td>-283.0</td>\n",
       "      <td>True</td>\n",
       "      <td>BEDMAP1_1966-2000_AIR_BM1.csv</td>\n",
       "    </tr>\n",
       "    <tr>\n",
       "      <th>2</th>\n",
       "      <td>61</td>\n",
       "      <td>307</td>\n",
       "      <td>-84.81081</td>\n",
       "      <td>-77.51699</td>\n",
       "      <td>-1.355903e+06</td>\n",
       "      <td>1.231389e+05</td>\n",
       "      <td>529.0</td>\n",
       "      <td>2213.0</td>\n",
       "      <td>-1684.0</td>\n",
       "      <td>True</td>\n",
       "      <td>BEDMAP1_1966-2000_AIR_BM1.csv</td>\n",
       "    </tr>\n",
       "    <tr>\n",
       "      <th>3</th>\n",
       "      <td>62</td>\n",
       "      <td>308</td>\n",
       "      <td>-84.76042</td>\n",
       "      <td>-77.56345</td>\n",
       "      <td>-1.350710e+06</td>\n",
       "      <td>1.238651e+05</td>\n",
       "      <td>514.0</td>\n",
       "      <td>2213.0</td>\n",
       "      <td>-1699.0</td>\n",
       "      <td>True</td>\n",
       "      <td>BEDMAP1_1966-2000_AIR_BM1.csv</td>\n",
       "    </tr>\n",
       "    <tr>\n",
       "      <th>4</th>\n",
       "      <td>63</td>\n",
       "      <td>309</td>\n",
       "      <td>-84.70397</td>\n",
       "      <td>-77.61578</td>\n",
       "      <td>-1.344861e+06</td>\n",
       "      <td>1.246650e+05</td>\n",
       "      <td>505.0</td>\n",
       "      <td>2180.0</td>\n",
       "      <td>-1675.0</td>\n",
       "      <td>True</td>\n",
       "      <td>BEDMAP1_1966-2000_AIR_BM1.csv</td>\n",
       "    </tr>\n",
       "  </tbody>\n",
       "</table>\n",
       "</div>"
      ],
      "text/plain": [
       "   Unnamed: 0.1  Unnamed: 0        lon       lat             x             y  \\\n",
       "0             1         247 -163.00000 -78.78833 -3.572549e+05 -1.168528e+06   \n",
       "1             6         252 -177.10000 -78.97667 -6.077581e+04 -1.199732e+06   \n",
       "2            61         307  -84.81081 -77.51699 -1.355903e+06  1.231389e+05   \n",
       "3            62         308  -84.76042 -77.56345 -1.350710e+06  1.238651e+05   \n",
       "4            63         309  -84.70397 -77.61578 -1.344861e+06  1.246650e+05   \n",
       "\n",
       "       s       t       b  b_inferred                         source  \n",
       "0  197.0   415.0  -218.0        True  BEDMAP1_1966-2000_AIR_BM1.csv  \n",
       "1   46.0   329.0  -283.0        True  BEDMAP1_1966-2000_AIR_BM1.csv  \n",
       "2  529.0  2213.0 -1684.0        True  BEDMAP1_1966-2000_AIR_BM1.csv  \n",
       "3  514.0  2213.0 -1699.0        True  BEDMAP1_1966-2000_AIR_BM1.csv  \n",
       "4  505.0  2180.0 -1675.0        True  BEDMAP1_1966-2000_AIR_BM1.csv  "
      ]
     },
     "execution_count": 3,
     "metadata": {},
     "output_type": "execute_result"
    }
   ],
   "source": [
    "all.head()"
   ]
  },
  {
   "cell_type": "markdown",
   "metadata": {},
   "source": [
    "# Subset based on Polar Stereographic projection"
   ]
  },
  {
   "cell_type": "markdown",
   "metadata": {},
   "source": [
    "(y min coordinate, y max coordinate):  -1000000 , -800500\n",
    "(x min coordinate, x max coordinate):  350000 , 549500"
   ]
  },
  {
   "cell_type": "code",
   "execution_count": 42,
   "metadata": {},
   "outputs": [],
   "source": [
    "byrd_200km = all[(all[\"x\"] > 350000) & (all[\"x\"] < 549500) & (all[\"y\"] > -1000000) & (all[\"y\"] < -800500)]\n",
    "# 470772 data points\n",
    "\n",
    "# drop rows where no values are missing (i.e. -9999) and where bed is lower than surface\n",
    "byrd_200km = byrd_200km.loc[(byrd_200km['s'] != -9999.0) & (byrd_200km['t'] != -9999.0) & (byrd_200km['b'] != -9999.0) & (byrd_200km['s'] > byrd_200km['b'])]\n",
    "# down to 465760 data points\n",
    "\n",
    "# # drop first two columns\n",
    "byrd_200km = byrd_200km[byrd_200km.columns[2:]]\n",
    "\n",
    "# Rewrite index\n",
    "byrd_200km.reset_index(drop = True, inplace = True)"
   ]
  },
  {
   "cell_type": "code",
   "execution_count": 44,
   "metadata": {},
   "outputs": [
    {
     "data": {
      "text/plain": [
       "False    465129\n",
       "True        631\n",
       "Name: b_inferred, dtype: int64"
      ]
     },
     "execution_count": 44,
     "metadata": {},
     "output_type": "execute_result"
    }
   ],
   "source": [
    "byrd_200km[\"b_inferred\"].value_counts()"
   ]
  },
  {
   "cell_type": "code",
   "execution_count": 45,
   "metadata": {},
   "outputs": [
    {
     "data": {
      "text/plain": [
       "NASA_2011_ICEBRIDGE_AIR_BM2.csv    315520\n",
       "UTIG_2010_ICECAP_AIR_BM3.csv        97702\n",
       "NASA_2017_ICEBRIDGE_AIR_BM3.csv     27877\n",
       "NASA_2013_ICEBRIDGE_AIR_BM3.csv     15628\n",
       "BAS_2007_AGAP_AIR_BM2.csv            8208\n",
       "LDEO_2015_ROSETTA_AIR_BM3.csv         631\n",
       "BEDMAP1_1966-2000_AIR_BM1.csv         193\n",
       "UTIG_2004_AGASEA_AIR_BM2.csv            1\n",
       "Name: source, dtype: int64"
      ]
     },
     "execution_count": 45,
     "metadata": {},
     "output_type": "execute_result"
    }
   ],
   "source": [
    "byrd_200km[\"source\"].value_counts()"
   ]
  },
  {
   "cell_type": "markdown",
   "metadata": {},
   "source": [
    "# Summary statistics on thickness, surface and bed\n",
    "\n",
    "Thickness has the lowest std in the dataset."
   ]
  },
  {
   "cell_type": "code",
   "execution_count": 46,
   "metadata": {},
   "outputs": [
    {
     "data": {
      "text/plain": [
       "count    465760.000000\n",
       "mean       1583.798401\n",
       "std         567.502192\n",
       "min           0.000000\n",
       "25%        1235.620000\n",
       "50%        1627.690000\n",
       "75%        1960.980000\n",
       "max        3620.100000\n",
       "Name: t, dtype: float64"
      ]
     },
     "execution_count": 46,
     "metadata": {},
     "output_type": "execute_result"
    }
   ],
   "source": [
    "byrd_200km[\"t\"].describe()"
   ]
  },
  {
   "cell_type": "markdown",
   "metadata": {},
   "source": [
    "Three rows have invalid t (thickness) values."
   ]
  },
  {
   "cell_type": "code",
   "execution_count": 48,
   "metadata": {},
   "outputs": [
    {
     "data": {
      "text/plain": [
       "count    465760.00000\n",
       "mean       1356.97558\n",
       "std         633.30908\n",
       "min        -103.78000\n",
       "25%         962.92000\n",
       "50%        1536.61000\n",
       "75%        1871.98250\n",
       "max        3478.49000\n",
       "Name: s, dtype: float64"
      ]
     },
     "execution_count": 48,
     "metadata": {},
     "output_type": "execute_result"
    }
   ],
   "source": [
    "byrd_200km[\"s\"].describe()"
   ]
  },
  {
   "cell_type": "code",
   "execution_count": 49,
   "metadata": {},
   "outputs": [
    {
     "data": {
      "text/plain": [
       "count    465760.000000\n",
       "mean       -226.822839\n",
       "std         660.710506\n",
       "min       -3035.790000\n",
       "25%        -416.410000\n",
       "50%         -94.120000\n",
       "75%          89.140000\n",
       "max        2163.160000\n",
       "Name: b, dtype: float64"
      ]
     },
     "execution_count": 49,
     "metadata": {},
     "output_type": "execute_result"
    }
   ],
   "source": [
    "byrd_200km[\"b\"].describe()"
   ]
  },
  {
   "cell_type": "markdown",
   "metadata": {},
   "source": [
    "# Correlation"
   ]
  },
  {
   "cell_type": "code",
   "execution_count": 53,
   "metadata": {},
   "outputs": [
    {
     "data": {
      "text/html": [
       "<div>\n",
       "<style scoped>\n",
       "    .dataframe tbody tr th:only-of-type {\n",
       "        vertical-align: middle;\n",
       "    }\n",
       "\n",
       "    .dataframe tbody tr th {\n",
       "        vertical-align: top;\n",
       "    }\n",
       "\n",
       "    .dataframe thead th {\n",
       "        text-align: right;\n",
       "    }\n",
       "</style>\n",
       "<table border=\"1\" class=\"dataframe\">\n",
       "  <thead>\n",
       "    <tr style=\"text-align: right;\">\n",
       "      <th></th>\n",
       "      <th>s</th>\n",
       "      <th>t</th>\n",
       "      <th>b</th>\n",
       "    </tr>\n",
       "  </thead>\n",
       "  <tbody>\n",
       "    <tr>\n",
       "      <th>s</th>\n",
       "      <td>1.000000</td>\n",
       "      <td>0.398716</td>\n",
       "      <td>0.616059</td>\n",
       "    </tr>\n",
       "    <tr>\n",
       "      <th>t</th>\n",
       "      <td>0.398716</td>\n",
       "      <td>1.000000</td>\n",
       "      <td>-0.476747</td>\n",
       "    </tr>\n",
       "    <tr>\n",
       "      <th>b</th>\n",
       "      <td>0.616059</td>\n",
       "      <td>-0.476747</td>\n",
       "      <td>1.000000</td>\n",
       "    </tr>\n",
       "  </tbody>\n",
       "</table>\n",
       "</div>"
      ],
      "text/plain": [
       "          s         t         b\n",
       "s  1.000000  0.398716  0.616059\n",
       "t  0.398716  1.000000 -0.476747\n",
       "b  0.616059 -0.476747  1.000000"
      ]
     },
     "execution_count": 53,
     "metadata": {},
     "output_type": "execute_result"
    }
   ],
   "source": [
    "(byrd_200km[[\"s\", \"t\", \"b\"]]).corr()"
   ]
  },
  {
   "cell_type": "markdown",
   "metadata": {},
   "source": [
    "# Write file"
   ]
  },
  {
   "cell_type": "code",
   "execution_count": 57,
   "metadata": {},
   "outputs": [],
   "source": [
    "byrd_200km.to_csv(\"/home/kim/data/bedmap/byrd_200km.csv\")"
   ]
  }
 ],
 "metadata": {
  "kernelspec": {
   "display_name": "Python 3",
   "language": "python",
   "name": "python3"
  },
  "language_info": {
   "codemirror_mode": {
    "name": "ipython",
    "version": 3
   },
   "file_extension": ".py",
   "mimetype": "text/x-python",
   "name": "python",
   "nbconvert_exporter": "python",
   "pygments_lexer": "ipython3",
   "version": "3.8.12"
  }
 },
 "nbformat": 4,
 "nbformat_minor": 2
}
