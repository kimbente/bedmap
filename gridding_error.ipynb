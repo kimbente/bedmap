{
 "cells": [
  {
   "cell_type": "code",
   "execution_count": 1,
   "metadata": {},
   "outputs": [],
   "source": [
    "import pandas as pd\n",
    "# Geopandas is a geo dataframe\n",
    "# import geopandas as gpd\n",
    "import numpy as np\n",
    "import matplotlib.pyplot as plt"
   ]
  },
  {
   "cell_type": "code",
   "execution_count": 2,
   "metadata": {},
   "outputs": [],
   "source": [
    "# import cupy as cp\n",
    "# print(cp.cuda.runtime.getDeviceCount())"
   ]
  },
  {
   "cell_type": "markdown",
   "metadata": {},
   "source": [
    "# Load cleaned (preprocesses) data"
   ]
  },
  {
   "cell_type": "code",
   "execution_count": 3,
   "metadata": {},
   "outputs": [],
   "source": [
    "all = pd.read_csv(\"/home/kim/data/bedmap/bedmap123_preprocessed.csv\")\n",
    "# might take 2 mins"
   ]
  },
  {
   "cell_type": "code",
   "execution_count": 4,
   "metadata": {},
   "outputs": [],
   "source": [
    "# First two columns are unnessessary\n",
    "all = all.iloc[:, 2:]"
   ]
  },
  {
   "cell_type": "markdown",
   "metadata": {},
   "source": [
    "# Gridding function"
   ]
  },
  {
   "cell_type": "code",
   "execution_count": 5,
   "metadata": {},
   "outputs": [],
   "source": [
    "def prune_all(df, res, min_count):\n",
    "    zero_offset = res/2\n",
    "    \n",
    "    # grid at lowest res\n",
    "    df[\"x_highestres\"] = (np.round((df.x - zero_offset) / res) * res) + zero_offset  \n",
    "    df[\"y_highestres\"] = (np.round((df.y - zero_offset) / res) * res) + zero_offset  \n",
    "\n",
    "    # Make categocial column based on grid cell index\n",
    "    df[\"id_highestres\"] = df[\"x_highestres\"].astype(int).astype(str) + \"_\" + df[\"y_highestres\"].astype(int).astype(str)\n",
    "\n",
    "    # Drop above columns to avoid kernel crashing?!\n",
    "    # df = df.drop(columns = [[\"x_highestres\"], [\"y_highestres\"]])\n",
    "    # print(df.shape)\n",
    "\n",
    "    # b is arbitrary: just count rows\n",
    "    grid_count_series = df.groupby(by = \"id_highestres\")[\"b\"].count()\n",
    "    # make dataframe\n",
    "    grid_count_df = pd.DataFrame(grid_count_series)\n",
    "    # rename from \"b\" to \"grid_count\"\n",
    "    grid_count_df = grid_count_df.rename(columns = {\"b\": \"grid_count\"})\n",
    "\n",
    "    df_count_merged = df.merge(grid_count_df, on = \"id_highestres\")\n",
    "    print(\"Full dataframe:\", df_count_merged.shape[0])\n",
    "\n",
    "    df_pruned = df_count_merged.drop(df_count_merged.loc[(df_count_merged[\"grid_count\"] < min_count)].index)\n",
    "    print(\"Pruned dataframe:\", df_pruned.shape[0])\n",
    "    print(\"Percentage of measurements excluded due to count threshold:\", np.round(df_pruned.shape[0]/df_count_merged.shape[0], 3), \"with min_count\", min_count, \"and min resolution\", res)\n",
    "\n",
    "    return df_pruned"
   ]
  },
  {
   "cell_type": "code",
   "execution_count": 6,
   "metadata": {},
   "outputs": [],
   "source": [
    "def gridding_error(df, zero_offset, res):\n",
    "    # x grid values for 500m grid\n",
    "    # 250 offset of 0 is first deducted\n",
    "    df[\"x_500\"] = (np.round((df.x - zero_offset) / res) * res) + zero_offset  \n",
    "    df[\"y_500\"] = (np.round((df.y - zero_offset) / res) * res) + zero_offset  \n",
    "\n",
    "    # Make categocial column based on grid cell index\n",
    "    df[\"id_500\"] = df[\"x_500\"].astype(int).astype(str) + \"_\" + df[\"y_500\"].astype(int).astype(str)\n",
    "\n",
    "    grid_b_series = df.groupby(by = \"id_500\")[\"b\"].mean()\n",
    "    grid_b_df = pd.DataFrame(grid_b_series)\n",
    "    grid_b_df = grid_b_df.rename(columns = {\"b\": \"grid_mean_b\"})\n",
    "    # count\n",
    "    grid_count = df.groupby(by = \"id_500\")[\"b\"].count()\n",
    "    # add to df\n",
    "    grid_b_df[\"count\"] = np.array(grid_count)\n",
    "\n",
    "    df_merged = df.merge(grid_b_df, on = \"id_500\")\n",
    "    df_merged[\"error\"] = df_merged[\"grid_mean_b\"] - df_merged[\"b\"]\n",
    "\n",
    "    # Calculate rate of grid cells without measurements (in square)\n",
    "    x_gridvalues = np.arange(np.min(df_merged.x_500), np.max(df_merged.x_500) + 1, res)\n",
    "    y_gridvalues = np.arange(np.min(df_merged.y_500), np.max(df_merged.y_500) + 1, res)\n",
    "    rate = grid_b_df.shape[0]/(x_gridvalues.shape[0] * y_gridvalues.shape[0])\n",
    "      \n",
    "    return  df_merged, rate"
   ]
  },
  {
   "cell_type": "code",
   "execution_count": 7,
   "metadata": {},
   "outputs": [
    {
     "name": "stdout",
     "output_type": "stream",
     "text": [
      "Full dataframe: 65238004\n",
      "Pruned dataframe: 61229863\n",
      "Percentage of measurements excluded due to count threshold: 0.939 with min_count 2 and min resolution 62.5\n"
     ]
    },
    {
     "ename": "",
     "evalue": "",
     "output_type": "error",
     "traceback": [
      "\u001b[1;31mThe Kernel crashed while executing code in the current cell or a previous cell. \n",
      "\u001b[1;31mPlease review the code in the cell(s) to identify a possible cause of the failure. \n",
      "\u001b[1;31mClick <a href='https://aka.ms/vscodeJupyterKernelCrash'>here</a> for more info. \n",
      "\u001b[1;31mView Jupyter <a href='command:jupyter.viewOutput'>log</a> for further details."
     ]
    }
   ],
   "source": [
    "min_count = 2\n",
    "\n",
    "# We now start with 62.5\n",
    "res_list = [62.5, 125, 250]\n",
    "# Initialise\n",
    "\n",
    "rmse_list = []\n",
    "mae_list = []\n",
    "rate_list = []\n",
    "\n",
    "# Smallest res as input\n",
    "all_pruned = prune_all(all, res = res_list[0], min_count = min_count)\n",
    "\n",
    "for i in res_list:\n",
    "    zo = i/2\n",
    "    res = i\n",
    "    # run over all\n",
    "    gridded_df, rate = gridding_error(all_pruned, zero_offset = zo, res = res)\n",
    "    rmse = np.sqrt(np.mean(np.square(gridded_df[gridded_df[\"count\"] > min_count][\"error\"])))\n",
    "    print(rmse)\n",
    "    mae = np.mean(np.abs(gridded_df[gridded_df[\"count\"] > min_count][\"error\"]))\n",
    "    # Append\n",
    "    rmse_list.append(rmse)\n",
    "    mae_list.append(mae)\n",
    "    rate_list.append(rate)\n",
    "\n",
    "    print(\"Resolution \", i, \"completed.\")"
   ]
  },
  {
   "cell_type": "code",
   "execution_count": null,
   "metadata": {},
   "outputs": [],
   "source": [
    "min_count = 2\n",
    "\n",
    "# We now start with 62.5\n",
    "res_list2 = [500, 1000, 2000]\n",
    "# Initialise\n",
    "\n",
    "rmse_list2 = []\n",
    "mae_list2 = []\n",
    "rate_list2 = []\n",
    "\n",
    "# Smallest res as input\n",
    "# all_pruned = prune_all(all, res = res_list[0], min_count = min_count)\n",
    "\n",
    "for i in res_list2:\n",
    "    zo = i/2\n",
    "    res = i\n",
    "    # run over all\n",
    "    gridded_df, rate = gridding_error(all_pruned, zero_offset = zo, res = res)\n",
    "    rmse = np.sqrt(np.mean(np.square(gridded_df[gridded_df[\"count\"] > min_count][\"error\"])))\n",
    "    print(rmse)\n",
    "    mae = np.mean(np.abs(gridded_df[gridded_df[\"count\"] > min_count][\"error\"]))\n",
    "    # Append\n",
    "    rmse_list2.append(rmse)\n",
    "    mae_list2.append(mae)\n",
    "    rate_list2.append(rate)\n",
    "\n",
    "    print(\"Resolution \", i, \"completed.\")"
   ]
  },
  {
   "cell_type": "markdown",
   "metadata": {},
   "source": [
    "Run in 2 portions or otherwise import cupy as np"
   ]
  },
  {
   "cell_type": "code",
   "execution_count": null,
   "metadata": {},
   "outputs": [],
   "source": [
    "res_list_combined = np.concatenate((res_list, res_list2))\n",
    "rmse_list_combined = np.concatenate((rmse_list, rmse_list2))\n",
    "mae_list_combined = np.concatenate((mae_list, mae_list2))\n",
    "rate_list_combined = np.concatenate((rate_list, rate_list2))"
   ]
  },
  {
   "cell_type": "markdown",
   "metadata": {},
   "source": [
    "# Save results"
   ]
  },
  {
   "cell_type": "code",
   "execution_count": null,
   "metadata": {},
   "outputs": [],
   "source": [
    "data = {'resolution': res_list,\n",
    "        'rmse': rmse_list,\n",
    "        'mae': mae_list,\n",
    "        'rate': rate_list}\n",
    "\n",
    "experiment_results_all = pd.DataFrame(data)\n",
    "\n",
    "experiment_results_all.to_csv('results/experiment_results_all.csv', index=False)"
   ]
  },
  {
   "cell_type": "markdown",
   "metadata": {},
   "source": [
    "## Plots"
   ]
  },
  {
   "cell_type": "code",
   "execution_count": null,
   "metadata": {},
   "outputs": [],
   "source": [
    "plt.plot(res_list, rmse_list, \"--bo\")\n",
    "\n",
    "plt.xlabel(\"grid cell size (resolution)\")\n",
    "plt.ylabel(\"RMSE\")\n",
    "plt.ylim(bottom = 0)\n",
    "plt.title(\"Gridding error (RMSE) by resolution for Antarctica (61 M measurements)\")\n",
    "plt.axvline(x = 500, ls='--', color = \"lightgrey\")"
   ]
  },
  {
   "cell_type": "code",
   "execution_count": null,
   "metadata": {},
   "outputs": [],
   "source": [
    "plt.plot(res_list, mae_list, \"--bo\")\n",
    "\n",
    "plt.xlabel(\"grid cell size (resolution)\")\n",
    "plt.ylabel(\"MAE\")\n",
    "plt.title(\"Gridding error (MAE) by resolution for Antarctica (61 M measurements)\")\n",
    "plt.ylim(bottom = 0)\n",
    "plt.axvline(x = 500, ls='--', color = \"lightgrey\")"
   ]
  },
  {
   "cell_type": "code",
   "execution_count": null,
   "metadata": {},
   "outputs": [],
   "source": [
    "gridded_df.sort_values('error')"
   ]
  },
  {
   "cell_type": "markdown",
   "metadata": {},
   "source": [
    "## Dome A"
   ]
  },
  {
   "cell_type": "code",
   "execution_count": null,
   "metadata": {},
   "outputs": [],
   "source": [
    "domea = all[(all[\"x\"] > 898750) & (all[\"x\"] < 1498750) & (all[\"y\"] > 250) & (all[\"y\"] < 600250)]\n",
    "# 1.8 M values in dome A region\n",
    "\n",
    "# The domain lies between [898,750, 1,498,750] projection\n",
    "# x coordinate (in meters), and [250, 600,250] projection y coordinate (in meters).\n",
    "\n",
    "np.mean(domea[\"t\"])"
   ]
  },
  {
   "cell_type": "code",
   "execution_count": null,
   "metadata": {},
   "outputs": [],
   "source": [
    "domea.to_csv(\"/home/kim/data/bedmap/bedmap123_preprocessed_DomeA.csv\")"
   ]
  },
  {
   "cell_type": "code",
   "execution_count": null,
   "metadata": {},
   "outputs": [],
   "source": [
    "plt.plot(res_list, da_rmse_list, \"--bo\", label = \"Dome A\")\n",
    "plt.plot(res_list, rmse_list, \"--go\", label = \"Antarctica\")\n",
    "plt.xlabel(\"grid resolution\")\n",
    "plt.ylabel(\"RMSE\")\n",
    "plt.title(\"Gridding error (RMSE) by resolution\")\n",
    "plt.legend()\n",
    "plt.ylim(bottom = 0)\n",
    "plt.axvline(x = 500, ls='--', color = \"lightgrey\")\n",
    "plt.show()"
   ]
  },
  {
   "cell_type": "code",
   "execution_count": null,
   "metadata": {},
   "outputs": [],
   "source": [
    "plt.plot(res_list, da_mae_list, \"--bo\", label = \"Dome A\")\n",
    "plt.plot(res_list, mae_list, \"--go\", label = \"Antarctica\")\n",
    "plt.xlabel(\"grid resolution\")\n",
    "plt.ylabel(\"MAE\")\n",
    "plt.title(\"Gridding error (MAE) by resolution\")\n",
    "plt.legend()\n",
    "plt.ylim(bottom = 0)\n",
    "plt.axvline(x = 500, ls='--', color = \"lightgrey\")\n",
    "plt.show()"
   ]
  }
 ],
 "metadata": {
  "kernelspec": {
   "display_name": "Python 3",
   "language": "python",
   "name": "python3"
  },
  "language_info": {
   "codemirror_mode": {
    "name": "ipython",
    "version": 3
   },
   "file_extension": ".py",
   "mimetype": "text/x-python",
   "name": "python",
   "nbconvert_exporter": "python",
   "pygments_lexer": "ipython3",
   "version": "3.11.7"
  }
 },
 "nbformat": 4,
 "nbformat_minor": 2
}
