{
 "cells": [
  {
   "cell_type": "code",
   "execution_count": 1,
   "metadata": {},
   "outputs": [
    {
     "name": "stdout",
     "output_type": "stream",
     "text": [
      "<module 'pandas' (ModuleAccelerator(fast=cudf, slow=pandas))>\n"
     ]
    }
   ],
   "source": [
    "%load_ext cudf.pandas\n",
    "# pandas API is now GPU accelerated\n",
    "\n",
    "import pandas as pd\n",
    "# Check it is running on GPU\n",
    "print(pd)\n",
    "\n",
    "# Geopandas is a geo dataframe\n",
    "# import geopandas as gpd\n",
    "import numpy as np\n",
    "import matplotlib.pyplot as plt"
   ]
  },
  {
   "cell_type": "code",
   "execution_count": 2,
   "metadata": {},
   "outputs": [
    {
     "name": "stdout",
     "output_type": "stream",
     "text": [
      "/home/kim/anaconda3/envs/rapids-24.02/bin/python\n"
     ]
    }
   ],
   "source": [
    "import sys\n",
    "import os\n",
    "print(sys.executable)"
   ]
  },
  {
   "cell_type": "code",
   "execution_count": 2,
   "metadata": {},
   "outputs": [],
   "source": [
    "# import cupy as cp\n",
    "# print(cp.cuda.runtime.getDeviceCount())\n",
    "# conda activate rapids-24.02"
   ]
  },
  {
   "cell_type": "markdown",
   "metadata": {},
   "source": [
    "# Conda environment\n",
    "\n",
    "- python = 3.10 \n",
    "- cuda-version = 12.0 (Roger is 12.2)"
   ]
  },
  {
   "cell_type": "markdown",
   "metadata": {},
   "source": [
    "# Load cleaned (preprocesses) data\n",
    "\n",
    "Crashed previously. This was resolved by taking .conda-bedmap kernel"
   ]
  },
  {
   "cell_type": "code",
   "execution_count": 4,
   "metadata": {},
   "outputs": [
    {
     "data": {
      "text/plain": [
       "(65238004, 11)"
      ]
     },
     "execution_count": 4,
     "metadata": {},
     "output_type": "execute_result"
    }
   ],
   "source": [
    "all = pd.read_csv(\"/home/kim/data/bedmap/bedmap123_preprocessed.csv\")\n",
    "# might take 2-3 mins\n",
    "all.shape"
   ]
  },
  {
   "cell_type": "code",
   "execution_count": 5,
   "metadata": {},
   "outputs": [
    {
     "data": {
      "text/html": [
       "<div>\n",
       "<style scoped>\n",
       "    .dataframe tbody tr th:only-of-type {\n",
       "        vertical-align: middle;\n",
       "    }\n",
       "\n",
       "    .dataframe tbody tr th {\n",
       "        vertical-align: top;\n",
       "    }\n",
       "\n",
       "    .dataframe thead th {\n",
       "        text-align: right;\n",
       "    }\n",
       "</style>\n",
       "<table border=\"1\" class=\"dataframe\">\n",
       "  <thead>\n",
       "    <tr style=\"text-align: right;\">\n",
       "      <th></th>\n",
       "      <th>lon</th>\n",
       "      <th>lat</th>\n",
       "      <th>x</th>\n",
       "      <th>y</th>\n",
       "      <th>s</th>\n",
       "      <th>t</th>\n",
       "      <th>b</th>\n",
       "      <th>b_inferred</th>\n",
       "      <th>source</th>\n",
       "    </tr>\n",
       "  </thead>\n",
       "  <tbody>\n",
       "    <tr>\n",
       "      <th>0</th>\n",
       "      <td>-163.000000</td>\n",
       "      <td>-78.788330</td>\n",
       "      <td>-3.572549e+05</td>\n",
       "      <td>-1.168528e+06</td>\n",
       "      <td>197.00</td>\n",
       "      <td>415.00</td>\n",
       "      <td>-218.00</td>\n",
       "      <td>True</td>\n",
       "      <td>BEDMAP1_1966-2000_AIR_BM1.csv</td>\n",
       "    </tr>\n",
       "    <tr>\n",
       "      <th>1</th>\n",
       "      <td>-177.100000</td>\n",
       "      <td>-78.976670</td>\n",
       "      <td>-6.077581e+04</td>\n",
       "      <td>-1.199732e+06</td>\n",
       "      <td>46.00</td>\n",
       "      <td>329.00</td>\n",
       "      <td>-283.00</td>\n",
       "      <td>True</td>\n",
       "      <td>BEDMAP1_1966-2000_AIR_BM1.csv</td>\n",
       "    </tr>\n",
       "    <tr>\n",
       "      <th>2</th>\n",
       "      <td>-84.810810</td>\n",
       "      <td>-77.516990</td>\n",
       "      <td>-1.355903e+06</td>\n",
       "      <td>1.231389e+05</td>\n",
       "      <td>529.00</td>\n",
       "      <td>2213.00</td>\n",
       "      <td>-1684.00</td>\n",
       "      <td>True</td>\n",
       "      <td>BEDMAP1_1966-2000_AIR_BM1.csv</td>\n",
       "    </tr>\n",
       "    <tr>\n",
       "      <th>3</th>\n",
       "      <td>-84.760420</td>\n",
       "      <td>-77.563450</td>\n",
       "      <td>-1.350710e+06</td>\n",
       "      <td>1.238651e+05</td>\n",
       "      <td>514.00</td>\n",
       "      <td>2213.00</td>\n",
       "      <td>-1699.00</td>\n",
       "      <td>True</td>\n",
       "      <td>BEDMAP1_1966-2000_AIR_BM1.csv</td>\n",
       "    </tr>\n",
       "    <tr>\n",
       "      <th>4</th>\n",
       "      <td>-84.703970</td>\n",
       "      <td>-77.615780</td>\n",
       "      <td>-1.344861e+06</td>\n",
       "      <td>1.246650e+05</td>\n",
       "      <td>505.00</td>\n",
       "      <td>2180.00</td>\n",
       "      <td>-1675.00</td>\n",
       "      <td>True</td>\n",
       "      <td>BEDMAP1_1966-2000_AIR_BM1.csv</td>\n",
       "    </tr>\n",
       "    <tr>\n",
       "      <th>...</th>\n",
       "      <td>...</td>\n",
       "      <td>...</td>\n",
       "      <td>...</td>\n",
       "      <td>...</td>\n",
       "      <td>...</td>\n",
       "      <td>...</td>\n",
       "      <td>...</td>\n",
       "      <td>...</td>\n",
       "      <td>...</td>\n",
       "    </tr>\n",
       "    <tr>\n",
       "      <th>65237999</th>\n",
       "      <td>171.568072</td>\n",
       "      <td>-77.409951</td>\n",
       "      <td>2.013652e+05</td>\n",
       "      <td>-1.358404e+06</td>\n",
       "      <td>-14.30</td>\n",
       "      <td>213.01</td>\n",
       "      <td>-227.31</td>\n",
       "      <td>False</td>\n",
       "      <td>UTIG_2010_ICECAP_AIR_BM3.csv</td>\n",
       "    </tr>\n",
       "    <tr>\n",
       "      <th>65238000</th>\n",
       "      <td>171.568076</td>\n",
       "      <td>-77.409746</td>\n",
       "      <td>2.013684e+05</td>\n",
       "      <td>-1.358427e+06</td>\n",
       "      <td>-13.86</td>\n",
       "      <td>212.07</td>\n",
       "      <td>-225.93</td>\n",
       "      <td>False</td>\n",
       "      <td>UTIG_2010_ICECAP_AIR_BM3.csv</td>\n",
       "    </tr>\n",
       "    <tr>\n",
       "      <th>65238001</th>\n",
       "      <td>171.568079</td>\n",
       "      <td>-77.409540</td>\n",
       "      <td>2.013717e+05</td>\n",
       "      <td>-1.358449e+06</td>\n",
       "      <td>-14.60</td>\n",
       "      <td>210.89</td>\n",
       "      <td>-225.50</td>\n",
       "      <td>False</td>\n",
       "      <td>UTIG_2010_ICECAP_AIR_BM3.csv</td>\n",
       "    </tr>\n",
       "    <tr>\n",
       "      <th>65238002</th>\n",
       "      <td>171.568083</td>\n",
       "      <td>-77.409331</td>\n",
       "      <td>2.013750e+05</td>\n",
       "      <td>-1.358472e+06</td>\n",
       "      <td>-15.03</td>\n",
       "      <td>213.22</td>\n",
       "      <td>-228.25</td>\n",
       "      <td>False</td>\n",
       "      <td>UTIG_2010_ICECAP_AIR_BM3.csv</td>\n",
       "    </tr>\n",
       "    <tr>\n",
       "      <th>65238003</th>\n",
       "      <td>171.568086</td>\n",
       "      <td>-77.409126</td>\n",
       "      <td>2.013782e+05</td>\n",
       "      <td>-1.358494e+06</td>\n",
       "      <td>-14.77</td>\n",
       "      <td>205.50</td>\n",
       "      <td>-220.27</td>\n",
       "      <td>False</td>\n",
       "      <td>UTIG_2010_ICECAP_AIR_BM3.csv</td>\n",
       "    </tr>\n",
       "  </tbody>\n",
       "</table>\n",
       "<p>65238004 rows × 9 columns</p>\n",
       "</div>"
      ],
      "text/plain": [
       "                 lon        lat             x             y       s        t  \\\n",
       "0        -163.000000 -78.788330 -3.572549e+05 -1.168528e+06  197.00   415.00   \n",
       "1        -177.100000 -78.976670 -6.077581e+04 -1.199732e+06   46.00   329.00   \n",
       "2         -84.810810 -77.516990 -1.355903e+06  1.231389e+05  529.00  2213.00   \n",
       "3         -84.760420 -77.563450 -1.350710e+06  1.238651e+05  514.00  2213.00   \n",
       "4         -84.703970 -77.615780 -1.344861e+06  1.246650e+05  505.00  2180.00   \n",
       "...              ...        ...           ...           ...     ...      ...   \n",
       "65237999  171.568072 -77.409951  2.013652e+05 -1.358404e+06  -14.30   213.01   \n",
       "65238000  171.568076 -77.409746  2.013684e+05 -1.358427e+06  -13.86   212.07   \n",
       "65238001  171.568079 -77.409540  2.013717e+05 -1.358449e+06  -14.60   210.89   \n",
       "65238002  171.568083 -77.409331  2.013750e+05 -1.358472e+06  -15.03   213.22   \n",
       "65238003  171.568086 -77.409126  2.013782e+05 -1.358494e+06  -14.77   205.50   \n",
       "\n",
       "                b  b_inferred                         source  \n",
       "0         -218.00        True  BEDMAP1_1966-2000_AIR_BM1.csv  \n",
       "1         -283.00        True  BEDMAP1_1966-2000_AIR_BM1.csv  \n",
       "2        -1684.00        True  BEDMAP1_1966-2000_AIR_BM1.csv  \n",
       "3        -1699.00        True  BEDMAP1_1966-2000_AIR_BM1.csv  \n",
       "4        -1675.00        True  BEDMAP1_1966-2000_AIR_BM1.csv  \n",
       "...           ...         ...                            ...  \n",
       "65237999  -227.31       False   UTIG_2010_ICECAP_AIR_BM3.csv  \n",
       "65238000  -225.93       False   UTIG_2010_ICECAP_AIR_BM3.csv  \n",
       "65238001  -225.50       False   UTIG_2010_ICECAP_AIR_BM3.csv  \n",
       "65238002  -228.25       False   UTIG_2010_ICECAP_AIR_BM3.csv  \n",
       "65238003  -220.27       False   UTIG_2010_ICECAP_AIR_BM3.csv  \n",
       "\n",
       "[65238004 rows x 9 columns]"
      ]
     },
     "execution_count": 5,
     "metadata": {},
     "output_type": "execute_result"
    }
   ],
   "source": [
    "# drop first two columns\n",
    "all.drop(all.iloc[:, 0:2], inplace = True, axis = 1)\n",
    "all"
   ]
  },
  {
   "cell_type": "markdown",
   "metadata": {},
   "source": [
    "## Pruning function"
   ]
  },
  {
   "cell_type": "code",
   "execution_count": 6,
   "metadata": {},
   "outputs": [],
   "source": [
    "def prune_all(df, res, min_count):\n",
    "    zero_offset = res/2\n",
    "    \n",
    "    # grid at highest resolution\n",
    "    df[\"x_highestres\"] = (np.round((df.x - zero_offset) / res) * res) + zero_offset  \n",
    "    df[\"y_highestres\"] = (np.round((df.y - zero_offset) / res) * res) + zero_offset  \n",
    "\n",
    "    # Make categocial column based on grid cell index\n",
    "    df[\"id_highestres\"] = df[\"x_highestres\"].astype(int).astype(str) + \"_\" + df[\"y_highestres\"].astype(int).astype(str)\n",
    "\n",
    "    # Drop above columns to avoid kernel crashing?!\n",
    "    # df = df.drop(columns = [[\"x_highestres\"], [\"y_highestres\"]])\n",
    "    # print(df.shape)\n",
    "\n",
    "    # b is arbitrary: just count rows\n",
    "    grid_count_series = df.groupby(by = \"id_highestres\")[\"b\"].count()\n",
    "    # make dataframe\n",
    "    grid_count_df = pd.DataFrame(grid_count_series)\n",
    "    # rename from \"b\" to \"grid_count\"\n",
    "    grid_count_df = grid_count_df.rename(columns = {\"b\": \"grid_count\"})\n",
    "\n",
    "    df_count_merged = df.merge(grid_count_df, on = \"id_highestres\")\n",
    "    print(\"Full dataframe:\", df_count_merged.shape[0])\n",
    "\n",
    "    df_pruned = df_count_merged.drop(df_count_merged.loc[(df_count_merged[\"grid_count\"] < min_count)].index)\n",
    "    print(\"Pruned dataframe:\", df_pruned.shape[0])\n",
    "    print(\"Percentage of measurements excluded due to count threshold:\", np.round(df_pruned.shape[0]/df_count_merged.shape[0], 3), \"with min_count\", min_count, \"and min resolution\", res)\n",
    "\n",
    "    return df_pruned"
   ]
  },
  {
   "cell_type": "code",
   "execution_count": 7,
   "metadata": {},
   "outputs": [
    {
     "name": "stdout",
     "output_type": "stream",
     "text": [
      "Full dataframe: 65238004\n",
      "cub/detail/detect_cuda_runtime.cuh(39): warning: cuda_runtime_api.h: [jitify] File not found\n",
      "../util_type.cuh(42): warning: cuda.h: [jitify] File not found\n",
      "cupy_jitify_exercise(10): warning: cooperative_groups.h: [jitify] File not found\n",
      "cupy_jitify_exercise(11): warning: cooperative_groups/memcpy_async.h: [jitify] File not found\n",
      "Pruned dataframe: 61229863\n",
      "Percentage of measurements excluded due to count threshold: 0.939 with min_count 2 and min resolution 62.5\n"
     ]
    },
    {
     "data": {
      "text/plain": [
       "(61229863, 13)"
      ]
     },
     "execution_count": 7,
     "metadata": {},
     "output_type": "execute_result"
    }
   ],
   "source": [
    "min_count = 2\n",
    "\n",
    "# We now start with 62.5\n",
    "res_list = [62.5, 125, 250]\n",
    "# Initialise\n",
    "\n",
    "rmse_list = []\n",
    "mae_list = []\n",
    "rate_list = []\n",
    "\n",
    "# Smallest res as input\n",
    "# Pruning takes around 4 minutes\n",
    "all_pruned = prune_all(all, res = res_list[0], min_count = min_count)\n",
    "all_pruned.shape"
   ]
  },
  {
   "cell_type": "code",
   "execution_count": 8,
   "metadata": {},
   "outputs": [],
   "source": [
    "# remove columns we do not need\n",
    "all_pruned.drop(all_pruned.iloc[:, 9:13], inplace = True, axis = 1)\n",
    "\n",
    "# delete so we have space\n",
    "del all"
   ]
  },
  {
   "cell_type": "markdown",
   "metadata": {},
   "source": [
    "# Gridding function"
   ]
  },
  {
   "cell_type": "code",
   "execution_count": 9,
   "metadata": {},
   "outputs": [],
   "source": [
    "def gridding_error(df, zero_offset, res):\n",
    "    # x grid values for 500m grid\n",
    "    # 250 offset of 0 is first deducted\n",
    "    df[\"x_500\"] = (np.round((df.x - zero_offset) / res) * res) + zero_offset  \n",
    "    df[\"y_500\"] = (np.round((df.y - zero_offset) / res) * res) + zero_offset  \n",
    "\n",
    "    # Make categocial column based on grid cell index\n",
    "    df[\"id_500\"] = df[\"x_500\"].astype(int).astype(str) + \"_\" + df[\"y_500\"].astype(int).astype(str)\n",
    "\n",
    "    grid_b_series = df.groupby(by = \"id_500\")[\"b\"].mean()\n",
    "    print(\"debug 1\")\n",
    "    grid_b_df = pd.DataFrame(grid_b_series)\n",
    "    grid_b_df = grid_b_df.rename(columns = {\"b\": \"grid_mean_b\"})\n",
    "    # count\n",
    "    grid_count = df.groupby(by = \"id_500\")[\"b\"].count()\n",
    "    # add to df\n",
    "    grid_b_df[\"count\"] = np.array(grid_count)\n",
    "    print(\"debug 2\")\n",
    "\n",
    "    df_merged = df.merge(grid_b_df, on = \"id_500\")\n",
    "    print(\"debug 3\")\n",
    "    df_merged[\"error\"] = df_merged[\"grid_mean_b\"] - df_merged[\"b\"]\n",
    "\n",
    "    # Calculate rate of grid cells without measurements (in square)\n",
    "    x_gridvalues = np.arange(np.min(df_merged.x_500), np.max(df_merged.x_500) + 1, res)\n",
    "    y_gridvalues = np.arange(np.min(df_merged.y_500), np.max(df_merged.y_500) + 1, res)\n",
    "    rate = grid_b_df.shape[0]/(x_gridvalues.shape[0] * y_gridvalues.shape[0])\n",
    "      \n",
    "    return  df_merged, rate"
   ]
  },
  {
   "cell_type": "code",
   "execution_count": null,
   "metadata": {},
   "outputs": [],
   "source": [
    "# REWRITE THE GRIDDING FUNCTION\n",
    "def gridding_error(df, zero_offset, res):\n",
    "    # x grid values for 500m grid\n",
    "    # 250 offset of 0 is first deducted\n",
    "    df[\"x_500\"] = (np.round((df.x - zero_offset) / res) * res) + zero_offset  \n",
    "    df[\"y_500\"] = (np.round((df.y - zero_offset) / res) * res) + zero_offset  \n",
    "\n",
    "    # Make categocial column based on grid cell index\n",
    "    df[\"id_500\"] = df[\"x_500\"].astype(int).astype(str) + \"_\" + df[\"y_500\"].astype(int).astype(str)\n",
    "\n",
    "    grid_b_series = df.groupby(by = \"id_500\")[\"b\"].mean()\n",
    "    print(\"debug 1\")\n",
    "    grid_b_df = pd.DataFrame(grid_b_series)\n",
    "    grid_b_df = grid_b_df.rename(columns = {\"b\": \"grid_mean_b\"})\n",
    "    # count\n",
    "    grid_count = df.groupby(by = \"id_500\")[\"b\"].count()\n",
    "    # add to df\n",
    "    grid_b_df[\"count\"] = np.array(grid_count)\n",
    "    print(\"debug 2\")\n",
    "\n",
    "    df_merged = df.merge(grid_b_df, on = \"id_500\")\n",
    "    print(\"debug 3\")\n",
    "    df_merged[\"error\"] = df_merged[\"grid_mean_b\"] - df_merged[\"b\"]\n",
    "\n",
    "    # Calculate rate of grid cells without measurements (in square)\n",
    "    x_gridvalues = np.arange(np.min(df_merged.x_500), np.max(df_merged.x_500) + 1, res)\n",
    "    y_gridvalues = np.arange(np.min(df_merged.y_500), np.max(df_merged.y_500) + 1, res)\n",
    "    rate = grid_b_df.shape[0]/(x_gridvalues.shape[0] * y_gridvalues.shape[0])\n",
    "      \n",
    "    return  df_merged, rate"
   ]
  },
  {
   "cell_type": "markdown",
   "metadata": {},
   "source": [
    "# Run"
   ]
  },
  {
   "cell_type": "code",
   "execution_count": 10,
   "metadata": {},
   "outputs": [
    {
     "name": "stdout",
     "output_type": "stream",
     "text": [
      "debug 1\n",
      "debug 2\n",
      "debug 3\n",
      "20.7442339219287\n",
      "Resolution  62.5 completed.\n",
      "debug 1\n",
      "debug 2\n"
     ]
    },
    {
     "ename": "",
     "evalue": "",
     "output_type": "error",
     "traceback": [
      "\u001b[1;31mThe Kernel crashed while executing code in the current cell or a previous cell. \n",
      "\u001b[1;31mPlease review the code in the cell(s) to identify a possible cause of the failure. \n",
      "\u001b[1;31mClick <a href='https://aka.ms/vscodeJupyterKernelCrash'>here</a> for more info. \n",
      "\u001b[1;31mView Jupyter <a href='command:jupyter.viewOutput'>log</a> for further details."
     ]
    }
   ],
   "source": [
    "# We now start with 62.5\n",
    "res_list = [62.5, 125, 250, 500, 1000, 2000]\n",
    "# Initialise\n",
    "\n",
    "rmse_list = []\n",
    "mae_list = []\n",
    "rate_list = []\n",
    "\n",
    "# Takes around 4 min per res\n",
    "for i in res_list:\n",
    "    zo = i/2\n",
    "    resso = i\n",
    "    # run over all\n",
    "    gridded_df, rate = gridding_error(all_pruned, zero_offset = zo, res = resso)\n",
    "    rmse = np.sqrt(np.mean(np.square(gridded_df[\"error\"])))\n",
    "    print(rmse)\n",
    "    mae = np.mean(np.abs(gridded_df[\"error\"]))\n",
    "    # Append\n",
    "    rmse_list.append(rmse)\n",
    "    mae_list.append(mae)\n",
    "    rate_list.append(rate)\n",
    "\n",
    "    print(\"Resolution \", i, \"completed.\")"
   ]
  },
  {
   "cell_type": "code",
   "execution_count": null,
   "metadata": {},
   "outputs": [],
   "source": [
    "min_count = 2\n",
    "\n",
    "# We now start with 62.5\n",
    "res_list2 = [500, 1000, 2000]\n",
    "# Initialise\n",
    "\n",
    "rmse_list2 = []\n",
    "mae_list2 = []\n",
    "rate_list2 = []\n",
    "\n",
    "# Smallest res as input\n",
    "# all_pruned = prune_all(all, res = res_list[0], min_count = min_count)\n",
    "\n",
    "for i in res_list2:\n",
    "    zo = i/2\n",
    "    res = i\n",
    "    # run over all\n",
    "    gridded_df, rate = gridding_error(all_pruned, zero_offset = zo, res = res)\n",
    "    rmse = np.sqrt(np.mean(np.square(gridded_df[gridded_df[\"count\"] > min_count][\"error\"])))\n",
    "    print(rmse)\n",
    "    mae = np.mean(np.abs(gridded_df[gridded_df[\"count\"] > min_count][\"error\"]))\n",
    "    # Append\n",
    "    rmse_list2.append(rmse)\n",
    "    mae_list2.append(mae)\n",
    "    rate_list2.append(rate)\n",
    "\n",
    "    print(\"Resolution \", i, \"completed.\")"
   ]
  },
  {
   "cell_type": "markdown",
   "metadata": {},
   "source": [
    "Run in 2 portions or otherwise import cupy as np"
   ]
  },
  {
   "cell_type": "code",
   "execution_count": null,
   "metadata": {},
   "outputs": [],
   "source": [
    "res_list_combined = np.concatenate((res_list, res_list2))\n",
    "rmse_list_combined = np.concatenate((rmse_list, rmse_list2))\n",
    "mae_list_combined = np.concatenate((mae_list, mae_list2))\n",
    "rate_list_combined = np.concatenate((rate_list, rate_list2))"
   ]
  },
  {
   "cell_type": "markdown",
   "metadata": {},
   "source": [
    "# Save results"
   ]
  },
  {
   "cell_type": "code",
   "execution_count": null,
   "metadata": {},
   "outputs": [],
   "source": [
    "data = {'resolution': res_list,\n",
    "        'rmse': rmse_list,\n",
    "        'mae': mae_list,\n",
    "        'rate': rate_list}\n",
    "\n",
    "experiment_results_all = pd.DataFrame(data)\n",
    "\n",
    "experiment_results_all.to_csv('results/experiment_results_all.csv', index=False)"
   ]
  },
  {
   "cell_type": "markdown",
   "metadata": {},
   "source": [
    "## Plots"
   ]
  },
  {
   "cell_type": "code",
   "execution_count": null,
   "metadata": {},
   "outputs": [],
   "source": [
    "plt.plot(res_list, rmse_list, \"--bo\")\n",
    "\n",
    "plt.xlabel(\"grid cell size (resolution)\")\n",
    "plt.ylabel(\"RMSE\")\n",
    "plt.ylim(bottom = 0)\n",
    "plt.title(\"Gridding error (RMSE) by resolution for Antarctica (61 M measurements)\")\n",
    "plt.axvline(x = 500, ls='--', color = \"lightgrey\")"
   ]
  },
  {
   "cell_type": "code",
   "execution_count": null,
   "metadata": {},
   "outputs": [],
   "source": [
    "plt.plot(res_list, mae_list, \"--bo\")\n",
    "\n",
    "plt.xlabel(\"grid cell size (resolution)\")\n",
    "plt.ylabel(\"MAE\")\n",
    "plt.title(\"Gridding error (MAE) by resolution for Antarctica (61 M measurements)\")\n",
    "plt.ylim(bottom = 0)\n",
    "plt.axvline(x = 500, ls='--', color = \"lightgrey\")"
   ]
  },
  {
   "cell_type": "code",
   "execution_count": null,
   "metadata": {},
   "outputs": [],
   "source": [
    "gridded_df.sort_values('error')"
   ]
  },
  {
   "cell_type": "markdown",
   "metadata": {},
   "source": [
    "## Dome A"
   ]
  },
  {
   "cell_type": "code",
   "execution_count": null,
   "metadata": {},
   "outputs": [],
   "source": [
    "domea = all[(all[\"x\"] > 898750) & (all[\"x\"] < 1498750) & (all[\"y\"] > 250) & (all[\"y\"] < 600250)]\n",
    "# 1.8 M values in dome A region\n",
    "\n",
    "# The domain lies between [898,750, 1,498,750] projection\n",
    "# x coordinate (in meters), and [250, 600,250] projection y coordinate (in meters).\n",
    "\n",
    "np.mean(domea[\"t\"])"
   ]
  },
  {
   "cell_type": "code",
   "execution_count": null,
   "metadata": {},
   "outputs": [],
   "source": [
    "domea.to_csv(\"/home/kim/data/bedmap/bedmap123_preprocessed_DomeA.csv\")"
   ]
  },
  {
   "cell_type": "code",
   "execution_count": null,
   "metadata": {},
   "outputs": [],
   "source": [
    "plt.plot(res_list, da_rmse_list, \"--bo\", label = \"Dome A\")\n",
    "plt.plot(res_list, rmse_list, \"--go\", label = \"Antarctica\")\n",
    "plt.xlabel(\"grid resolution\")\n",
    "plt.ylabel(\"RMSE\")\n",
    "plt.title(\"Gridding error (RMSE) by resolution\")\n",
    "plt.legend()\n",
    "plt.ylim(bottom = 0)\n",
    "plt.axvline(x = 500, ls='--', color = \"lightgrey\")\n",
    "plt.show()"
   ]
  },
  {
   "cell_type": "code",
   "execution_count": null,
   "metadata": {},
   "outputs": [],
   "source": [
    "plt.plot(res_list, da_mae_list, \"--bo\", label = \"Dome A\")\n",
    "plt.plot(res_list, mae_list, \"--go\", label = \"Antarctica\")\n",
    "plt.xlabel(\"grid resolution\")\n",
    "plt.ylabel(\"MAE\")\n",
    "plt.title(\"Gridding error (MAE) by resolution\")\n",
    "plt.legend()\n",
    "plt.ylim(bottom = 0)\n",
    "plt.axvline(x = 500, ls='--', color = \"lightgrey\")\n",
    "plt.show()"
   ]
  }
 ],
 "metadata": {
  "kernelspec": {
   "display_name": "rapids-24.02",
   "language": "python",
   "name": "python3"
  },
  "language_info": {
   "codemirror_mode": {
    "name": "ipython",
    "version": 3
   },
   "file_extension": ".py",
   "mimetype": "text/x-python",
   "name": "python",
   "nbconvert_exporter": "python",
   "pygments_lexer": "ipython3",
   "version": "3.10.13"
  }
 },
 "nbformat": 4,
 "nbformat_minor": 2
}
