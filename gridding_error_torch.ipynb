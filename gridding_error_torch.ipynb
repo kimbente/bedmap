{
 "cells": [
  {
   "cell_type": "code",
   "execution_count": 2,
   "metadata": {},
   "outputs": [],
   "source": [
    "import torch"
   ]
  },
  {
   "cell_type": "code",
   "execution_count": 29,
   "metadata": {},
   "outputs": [
    {
     "name": "stdout",
     "output_type": "stream",
     "text": [
      "Using device: cuda\n",
      "\n"
     ]
    }
   ],
   "source": [
    "# setting device on GPU if available, else CPU\n",
    "device = torch.device('cuda' if torch.cuda.is_available() else 'cpu')\n",
    "print('Using device:', device)\n",
    "print()\n",
    "\n",
    "torch.set_printoptions(sci_mode = False)"
   ]
  },
  {
   "cell_type": "code",
   "execution_count": 3,
   "metadata": {},
   "outputs": [],
   "source": [
    "# This was used to generate tenny\n",
    "# all = pd.read_csv(\"/home/kim/data/bedmap/bedmap123_preprocessed.csv\")\n",
    "# tenny = torch.tensor(all[[\"x\", \"y\", \"b\"]].values)\n",
    "# torch.save(tenny, '/home/kim/data/bedmap/bedmap123_preprocessed.pt')"
   ]
  },
  {
   "cell_type": "code",
   "execution_count": 50,
   "metadata": {},
   "outputs": [],
   "source": [
    "tenny = torch.load('/home/kim/data/bedmap/bedmap123_preprocessed.pt')"
   ]
  },
  {
   "cell_type": "code",
   "execution_count": 51,
   "metadata": {},
   "outputs": [],
   "source": [
    "tenny.shape\n",
    "tenny = tenny.to(device)"
   ]
  },
  {
   "cell_type": "code",
   "execution_count": 52,
   "metadata": {},
   "outputs": [
    {
     "data": {
      "text/plain": [
       "device(type='cuda', index=0)"
      ]
     },
     "execution_count": 52,
     "metadata": {},
     "output_type": "execute_result"
    }
   ],
   "source": [
    "tenny.device"
   ]
  },
  {
   "cell_type": "code",
   "execution_count": 23,
   "metadata": {},
   "outputs": [],
   "source": [
    "min_count = 2\n",
    "\n",
    "# We now start with 62.5\n",
    "res_list = [62.5, 125, 250, 500, 1000, 2000]\n",
    "# Initialise\n",
    "\n",
    "rmse_list = []\n",
    "mae_list = []\n",
    "rate_list = []"
   ]
  },
  {
   "cell_type": "code",
   "execution_count": 28,
   "metadata": {},
   "outputs": [
    {
     "data": {
      "text/plain": [
       "62.5"
      ]
     },
     "execution_count": 28,
     "metadata": {},
     "output_type": "execute_result"
    }
   ],
   "source": [
    "res_list[0]/2"
   ]
  },
  {
   "cell_type": "code",
   "execution_count": 27,
   "metadata": {},
   "outputs": [
    {
     "data": {
      "text/plain": [
       "torch.Size([65238004])"
      ]
     },
     "execution_count": 27,
     "metadata": {},
     "output_type": "execute_result"
    }
   ],
   "source": [
    "# Column 3: x column \n",
    "tenny[:, 3] = torch.sub(input = tenny[:, 0], other = res_list[0]/2)"
   ]
  },
  {
   "cell_type": "code",
   "execution_count": 55,
   "metadata": {},
   "outputs": [],
   "source": [
    "# x (column 3): grid cell assignment\n",
    "tenny = torch.cat((tenny,\n",
    "                   torch.add(input = torch.mul(input = torch.round(torch.div(input = torch.sub(input = tenny[:, 0], other = res_list[0]/2), other = res_list[0])), other = res_list[0]), other = res_list[0]/2).unsqueeze(1)), \n",
    "                   dim = 1)\n",
    "\n",
    "# y\n",
    "tenny = torch.cat((tenny,\n",
    "                   torch.add(input = torch.mul(input = torch.round(torch.div(input = torch.sub(input = tenny[:, 1], other = res_list[0]/2), other = res_list[0])), other = res_list[0]), other = res_list[0]/2).unsqueeze(1)), \n",
    "                   dim = 1)"
   ]
  },
  {
   "cell_type": "code",
   "execution_count": 56,
   "metadata": {},
   "outputs": [
    {
     "data": {
      "text/plain": [
       "torch.Size([65238004, 5])"
      ]
     },
     "execution_count": 56,
     "metadata": {},
     "output_type": "execute_result"
    }
   ],
   "source": [
    "tenny.shape"
   ]
  },
  {
   "cell_type": "code",
   "execution_count": 58,
   "metadata": {},
   "outputs": [
    {
     "data": {
      "text/plain": [
       "tensor([ -357281.2500,   -60781.2500, -1355906.2500,  ...,\n",
       "        -1358468.7500, -1358468.7500, -1358468.7500], device='cuda:0',\n",
       "       dtype=torch.float64)"
      ]
     },
     "execution_count": 58,
     "metadata": {},
     "output_type": "execute_result"
    }
   ],
   "source": [
    "torch.cat((tenny[:, 3], tenny[:, 4]), dim = 0)"
   ]
  },
  {
   "cell_type": "code",
   "execution_count": 48,
   "metadata": {},
   "outputs": [
    {
     "data": {
      "text/plain": [
       "device(type='cpu')"
      ]
     },
     "execution_count": 48,
     "metadata": {},
     "output_type": "execute_result"
    }
   ],
   "source": [
    "tenny.device"
   ]
  }
 ],
 "metadata": {
  "kernelspec": {
   "display_name": "Python 3",
   "language": "python",
   "name": "python3"
  },
  "language_info": {
   "codemirror_mode": {
    "name": "ipython",
    "version": 3
   },
   "file_extension": ".py",
   "mimetype": "text/x-python",
   "name": "python",
   "nbconvert_exporter": "python",
   "pygments_lexer": "ipython3",
   "version": "3.8.12"
  }
 },
 "nbformat": 4,
 "nbformat_minor": 2
}
