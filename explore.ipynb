{
 "cells": [
  {
   "cell_type": "markdown",
   "metadata": {},
   "source": [
    "Set-up environment via terminal:\n",
    "- Navigate to `home/bedmap` (local repository location on Roger)\n",
    "    - geopandas\n",
    "- `conda create -p /home/kim/bedmap/.conda-preprocess python=3.9`\n",
    "    - cartopy requires 3.9\n",
    "- `conda list -e`/ `conda info -e`to show available environments\n",
    "- `conda activate /home/kim/bedmap/.conda-bedmap` (Python 3.8.18)\n",
    "\n",
    "Then just use the following commands as normal:\n",
    "- `conda install x` to install new packages\n",
    "    - e.g. `conda install python=3 geopandas` needs to be python 3, and conda-forge needs to be added \n",
    "- `conda list` to see all installed packages\n",
    "\n",
    "Issues with environments:\n",
    "- Have one each"
   ]
  },
  {
   "cell_type": "markdown",
   "metadata": {},
   "source": [
    "## Install packages"
   ]
  },
  {
   "cell_type": "code",
<<<<<<< HEAD
   "execution_count": 2,
=======
   "execution_count": 1,
>>>>>>> 232cc99592f484f523f2b12e2b631a6e3eafe444
   "metadata": {},
   "outputs": [],
   "source": [
    "import pandas as pd\n",
    "# Geopandas is a geo dataframe\n",
    "# import geopandas as gpd\n",
    "import numpy as np\n",
    "\n",
    "# For projection\n",
    "import pyproj\n",
    "import cartopy.crs as ccrs  # Projections list\n",
    "\n",
    "# import xarray as xr\n",
    "import matplotlib.pyplot as plt\n",
    "%matplotlib inline"
   ]
  },
  {
   "cell_type": "code",
<<<<<<< HEAD
   "execution_count": 4,
=======
   "execution_count": 2,
>>>>>>> 232cc99592f484f523f2b12e2b631a6e3eafe444
   "metadata": {},
   "outputs": [
    {
     "name": "stdout",
     "output_type": "stream",
     "text": [
      "Minimum x value -3333250\n",
      "Maximum x value 3333250\n"
     ]
    }
   ],
   "source": [
    "x = np.arange(-3333250, 3333750, 500)\n",
    "print(\"Minimum x value\", np.min(x))\n",
    "print(\"Maximum x value\", np.max(x))"
   ]
  },
  {
   "cell_type": "markdown",
   "metadata": {},
   "source": [
    "# Check metadata"
   ]
  },
  {
   "cell_type": "code",
<<<<<<< HEAD
   "execution_count": 5,
=======
   "execution_count": 3,
>>>>>>> 232cc99592f484f523f2b12e2b631a6e3eafe444
   "metadata": {},
   "outputs": [],
   "source": [
    "# This example is BM2\n",
    "# path_to_bas_agap = \"/home/kim/data/bedmap/BAS_2007_AGAP_AIR_BM2.csv\"\n",
    "\n",
    "# LDEO Rosetta of the full Ross ice sheet\n",
    "path_to_rosetta = \"/home/kim/data/bedmap/bedmap3-csv/LDEO_2015_ROSETTA_AIR_BM3.csv\""
   ]
  },
  {
   "cell_type": "code",
<<<<<<< HEAD
   "execution_count": 6,
=======
   "execution_count": 4,
>>>>>>> 232cc99592f484f523f2b12e2b631a6e3eafe444
   "metadata": {},
   "outputs": [
    {
     "data": {
      "text/html": [
       "<div>\n",
       "<style scoped>\n",
       "    .dataframe tbody tr th:only-of-type {\n",
       "        vertical-align: middle;\n",
       "    }\n",
       "\n",
       "    .dataframe tbody tr th {\n",
       "        vertical-align: top;\n",
       "    }\n",
       "\n",
       "    .dataframe thead th {\n",
       "        text-align: right;\n",
       "    }\n",
       "</style>\n",
       "<table border=\"1\" class=\"dataframe\">\n",
       "  <thead>\n",
       "    <tr style=\"text-align: right;\">\n",
       "      <th></th>\n",
       "      <th>0</th>\n",
       "      <th>1</th>\n",
       "    </tr>\n",
       "  </thead>\n",
       "  <tbody>\n",
       "    <tr>\n",
       "      <th>0</th>\n",
       "      <td>#project</td>\n",
       "      <td>Ross Ice Shelf (ROSETTA).</td>\n",
       "    </tr>\n",
       "    <tr>\n",
       "      <th>1</th>\n",
       "      <td>#time_coverage_start</td>\n",
       "      <td>2015</td>\n",
       "    </tr>\n",
       "    <tr>\n",
       "      <th>2</th>\n",
       "      <td>#time_coverage_end</td>\n",
       "      <td>2017</td>\n",
       "    </tr>\n",
       "    <tr>\n",
       "      <th>3</th>\n",
       "      <td>#creator_name</td>\n",
       "      <td>R. Bell (Lamont-Doherty Earth Observatory).</td>\n",
       "    </tr>\n",
       "    <tr>\n",
       "      <th>4</th>\n",
       "      <td>#institution</td>\n",
       "      <td>Lamont-Doherty Earth Observatory.</td>\n",
       "    </tr>\n",
       "    <tr>\n",
       "      <th>5</th>\n",
       "      <td>#acknowledgement</td>\n",
       "      <td>NSF grant 0958658; 1443543; 1443677; 1443497; ...</td>\n",
       "    </tr>\n",
       "    <tr>\n",
       "      <th>6</th>\n",
       "      <td>#source</td>\n",
       "      <td>http://www.ldeo.columbia.edu/polar-geophysics-...</td>\n",
       "    </tr>\n",
       "    <tr>\n",
       "      <th>7</th>\n",
       "      <td>#references</td>\n",
       "      <td>https://doi.org/10.1029/2019JF005241</td>\n",
       "    </tr>\n",
       "    <tr>\n",
       "      <th>8</th>\n",
       "      <td>#platform</td>\n",
       "      <td>airborne radar.</td>\n",
       "    </tr>\n",
       "    <tr>\n",
       "      <th>9</th>\n",
       "      <td>#instrument</td>\n",
       "      <td>DICE IcePod.</td>\n",
       "    </tr>\n",
       "    <tr>\n",
       "      <th>10</th>\n",
       "      <td>#history</td>\n",
       "      <td>1-D Synthetic Aperture Radar processing</td>\n",
       "    </tr>\n",
       "    <tr>\n",
       "      <th>11</th>\n",
       "      <td>#electromagnetic_wave_speed_in_ice</td>\n",
       "      <td>168 (meters/microseconds)</td>\n",
       "    </tr>\n",
       "    <tr>\n",
       "      <th>12</th>\n",
       "      <td>#firn_correction</td>\n",
       "      <td>0 (m)</td>\n",
       "    </tr>\n",
       "    <tr>\n",
       "      <th>13</th>\n",
       "      <td>#centre_frequency</td>\n",
       "      <td>188 (MHz)</td>\n",
       "    </tr>\n",
       "    <tr>\n",
       "      <th>14</th>\n",
       "      <td>#comment</td>\n",
       "      <td>Part of Bedmap3</td>\n",
       "    </tr>\n",
       "    <tr>\n",
       "      <th>15</th>\n",
       "      <td>#metadata_link</td>\n",
       "      <td>https://doi.org/10.5285/91523ff9-d621-46b3-87f...</td>\n",
       "    </tr>\n",
       "    <tr>\n",
       "      <th>16</th>\n",
       "      <td>#license</td>\n",
       "      <td>https://creativecommons.org/licenses/by/4.0/</td>\n",
       "    </tr>\n",
       "    <tr>\n",
       "      <th>17</th>\n",
       "      <td>#Conventions</td>\n",
       "      <td>ACDD-1.3, CF-1.8</td>\n",
       "    </tr>\n",
       "  </tbody>\n",
       "</table>\n",
       "</div>"
      ],
      "text/plain": [
       "                                     0  \\\n",
       "0                             #project   \n",
       "1                 #time_coverage_start   \n",
       "2                   #time_coverage_end   \n",
       "3                        #creator_name   \n",
       "4                         #institution   \n",
       "5                     #acknowledgement   \n",
       "6                              #source   \n",
       "7                          #references   \n",
       "8                            #platform   \n",
       "9                          #instrument   \n",
       "10                            #history   \n",
       "11  #electromagnetic_wave_speed_in_ice   \n",
       "12                    #firn_correction   \n",
       "13                   #centre_frequency   \n",
       "14                            #comment   \n",
       "15                      #metadata_link   \n",
       "16                            #license   \n",
       "17                        #Conventions   \n",
       "\n",
       "                                                    1  \n",
       "0                           Ross Ice Shelf (ROSETTA).  \n",
       "1                                                2015  \n",
       "2                                                2017  \n",
       "3         R. Bell (Lamont-Doherty Earth Observatory).  \n",
       "4                   Lamont-Doherty Earth Observatory.  \n",
       "5   NSF grant 0958658; 1443543; 1443677; 1443497; ...  \n",
       "6   http://www.ldeo.columbia.edu/polar-geophysics-...  \n",
       "7                https://doi.org/10.1029/2019JF005241  \n",
       "8                                     airborne radar.  \n",
       "9                                        DICE IcePod.  \n",
       "10            1-D Synthetic Aperture Radar processing  \n",
       "11                          168 (meters/microseconds)  \n",
       "12                                              0 (m)  \n",
       "13                                          188 (MHz)  \n",
       "14                                    Part of Bedmap3  \n",
       "15  https://doi.org/10.5285/91523ff9-d621-46b3-87f...  \n",
       "16       https://creativecommons.org/licenses/by/4.0/  \n",
       "17                                   ACDD-1.3, CF-1.8  "
      ]
     },
<<<<<<< HEAD
     "execution_count": 6,
=======
     "execution_count": 4,
>>>>>>> 232cc99592f484f523f2b12e2b631a6e3eafe444
     "metadata": {},
     "output_type": "execute_result"
    }
   ],
   "source": [
    "# seperate is not a comma but a colon with a space\n",
    "bas_rosetta_meta = pd.read_csv(path_to_rosetta, nrows = 18, sep = \": \", engine = \"python\", header = None)\n",
    "bas_rosetta_meta"
   ]
  },
  {
   "cell_type": "markdown",
   "metadata": {},
   "source": [
    "# Load data\n",
    "\n",
    "- skip meta data\n",
    "- Rosetta has 2.65 M datapoints"
   ]
  },
  {
   "cell_type": "code",
<<<<<<< HEAD
   "execution_count": 7,
=======
   "execution_count": 5,
>>>>>>> 232cc99592f484f523f2b12e2b631a6e3eafe444
   "metadata": {},
   "outputs": [
    {
     "data": {
      "text/html": [
       "<div>\n",
       "<style scoped>\n",
       "    .dataframe tbody tr th:only-of-type {\n",
       "        vertical-align: middle;\n",
       "    }\n",
       "\n",
       "    .dataframe tbody tr th {\n",
       "        vertical-align: top;\n",
       "    }\n",
       "\n",
       "    .dataframe thead th {\n",
       "        text-align: right;\n",
       "    }\n",
       "</style>\n",
       "<table border=\"1\" class=\"dataframe\">\n",
       "  <thead>\n",
       "    <tr style=\"text-align: right;\">\n",
       "      <th></th>\n",
       "      <th>trajectory_id</th>\n",
       "      <th>trace_number</th>\n",
       "      <th>longitude (degree_east)</th>\n",
       "      <th>latitude (degree_north)</th>\n",
       "      <th>date</th>\n",
       "      <th>time_UTC</th>\n",
       "      <th>surface_altitude (m)</th>\n",
       "      <th>land_ice_thickness (m)</th>\n",
       "      <th>bedrock_altitude (m)</th>\n",
       "      <th>two_way_travel_time (m)</th>\n",
       "      <th>aircraft_altitude (m)</th>\n",
       "      <th>along_track_distance (m)</th>\n",
       "    </tr>\n",
       "  </thead>\n",
       "  <tbody>\n",
       "    <tr>\n",
       "      <th>2651548</th>\n",
       "      <td>T1110</td>\n",
       "      <td>-9999</td>\n",
       "      <td>173.014007</td>\n",
       "      <td>-77.429764</td>\n",
       "      <td>2017-11-29</td>\n",
       "      <td>20:47:34.86</td>\n",
       "      <td>-440.545754</td>\n",
       "      <td>44.582638</td>\n",
       "      <td>-9999</td>\n",
       "      <td>-9999</td>\n",
       "      <td>725.481529</td>\n",
       "      <td>-9999</td>\n",
       "    </tr>\n",
       "    <tr>\n",
       "      <th>2651549</th>\n",
       "      <td>T1110</td>\n",
       "      <td>-9999</td>\n",
       "      <td>173.014100</td>\n",
       "      <td>-77.429601</td>\n",
       "      <td>2017-11-29</td>\n",
       "      <td>20:47:35.03</td>\n",
       "      <td>-287.678752</td>\n",
       "      <td>81.096675</td>\n",
       "      <td>-9999</td>\n",
       "      <td>-9999</td>\n",
       "      <td>725.476059</td>\n",
       "      <td>-9999</td>\n",
       "    </tr>\n",
       "    <tr>\n",
       "      <th>2651550</th>\n",
       "      <td>T1110</td>\n",
       "      <td>-9999</td>\n",
       "      <td>173.014193</td>\n",
       "      <td>-77.429437</td>\n",
       "      <td>2017-11-29</td>\n",
       "      <td>20:47:35.19</td>\n",
       "      <td>-177.775326</td>\n",
       "      <td>118.181577</td>\n",
       "      <td>-9999</td>\n",
       "      <td>-9999</td>\n",
       "      <td>725.471172</td>\n",
       "      <td>-9999</td>\n",
       "    </tr>\n",
       "    <tr>\n",
       "      <th>2651551</th>\n",
       "      <td>T1110</td>\n",
       "      <td>-9999</td>\n",
       "      <td>173.014286</td>\n",
       "      <td>-77.429273</td>\n",
       "      <td>2017-11-29</td>\n",
       "      <td>20:47:35.35</td>\n",
       "      <td>-20.910828</td>\n",
       "      <td>125.722537</td>\n",
       "      <td>-9999</td>\n",
       "      <td>-9999</td>\n",
       "      <td>725.466533</td>\n",
       "      <td>-9999</td>\n",
       "    </tr>\n",
       "    <tr>\n",
       "      <th>2651552</th>\n",
       "      <td>T1110</td>\n",
       "      <td>-9999</td>\n",
       "      <td>173.014380</td>\n",
       "      <td>-77.429109</td>\n",
       "      <td>2017-11-29</td>\n",
       "      <td>20:47:35.52</td>\n",
       "      <td>-339.649337</td>\n",
       "      <td>101.756597</td>\n",
       "      <td>-9999</td>\n",
       "      <td>-9999</td>\n",
       "      <td>725.462131</td>\n",
       "      <td>-9999</td>\n",
       "    </tr>\n",
       "  </tbody>\n",
       "</table>\n",
       "</div>"
      ],
      "text/plain": [
       "        trajectory_id  trace_number  longitude (degree_east)  \\\n",
       "2651548         T1110         -9999               173.014007   \n",
       "2651549         T1110         -9999               173.014100   \n",
       "2651550         T1110         -9999               173.014193   \n",
       "2651551         T1110         -9999               173.014286   \n",
       "2651552         T1110         -9999               173.014380   \n",
       "\n",
       "         latitude (degree_north)        date     time_UTC  \\\n",
       "2651548               -77.429764  2017-11-29  20:47:34.86   \n",
       "2651549               -77.429601  2017-11-29  20:47:35.03   \n",
       "2651550               -77.429437  2017-11-29  20:47:35.19   \n",
       "2651551               -77.429273  2017-11-29  20:47:35.35   \n",
       "2651552               -77.429109  2017-11-29  20:47:35.52   \n",
       "\n",
       "         surface_altitude (m)  land_ice_thickness (m)  bedrock_altitude (m)  \\\n",
       "2651548           -440.545754               44.582638                 -9999   \n",
       "2651549           -287.678752               81.096675                 -9999   \n",
       "2651550           -177.775326              118.181577                 -9999   \n",
       "2651551            -20.910828              125.722537                 -9999   \n",
       "2651552           -339.649337              101.756597                 -9999   \n",
       "\n",
       "         two_way_travel_time (m)  aircraft_altitude (m)  \\\n",
       "2651548                    -9999             725.481529   \n",
       "2651549                    -9999             725.476059   \n",
       "2651550                    -9999             725.471172   \n",
       "2651551                    -9999             725.466533   \n",
       "2651552                    -9999             725.462131   \n",
       "\n",
       "         along_track_distance (m)  \n",
       "2651548                     -9999  \n",
       "2651549                     -9999  \n",
       "2651550                     -9999  \n",
       "2651551                     -9999  \n",
       "2651552                     -9999  "
      ]
     },
<<<<<<< HEAD
     "execution_count": 7,
=======
     "execution_count": 5,
>>>>>>> 232cc99592f484f523f2b12e2b631a6e3eafe444
     "metadata": {},
     "output_type": "execute_result"
    }
   ],
   "source": [
    "# Load data  into a pandas dataframe\n",
    "# skip 18 rows of metadata\n",
    "pd_data = pd.read_csv(path_to_rosetta, skiprows = 18, low_memory = False)\n",
    "pd_data.tail()"
   ]
  },
  {
   "cell_type": "code",
<<<<<<< HEAD
   "execution_count": 8,
=======
   "execution_count": 6,
>>>>>>> 232cc99592f484f523f2b12e2b631a6e3eafe444
   "metadata": {},
   "outputs": [],
   "source": [
    "df = pd_data[[\"longitude (degree_east)\", \"latitude (degree_north)\", \"date\", \"surface_altitude (m)\", \"land_ice_thickness (m)\", \"bedrock_altitude (m)\"]]\n",
    "# rename columns\n",
    "df.columns = [\"lon\", \"lat\", \"date\", \"s\", \"t\", \"b\"]"
   ]
  },
  {
   "cell_type": "code",
<<<<<<< HEAD
   "execution_count": 9,
=======
   "execution_count": 15,
>>>>>>> 232cc99592f484f523f2b12e2b631a6e3eafe444
   "metadata": {},
   "outputs": [],
   "source": [
    "df.loc[(df['s'] != -9999) & (df['t'] != -9999) & (df['b'] == -9999), 'b'] = df['s'] - df['t']"
   ]
  },
  {
   "cell_type": "code",
   "execution_count": 16,
   "metadata": {},
   "outputs": [
    {
     "data": {
      "text/html": [
       "<div>\n",
       "<style scoped>\n",
       "    .dataframe tbody tr th:only-of-type {\n",
       "        vertical-align: middle;\n",
       "    }\n",
       "\n",
       "    .dataframe tbody tr th {\n",
       "        vertical-align: top;\n",
       "    }\n",
       "\n",
       "    .dataframe thead th {\n",
       "        text-align: right;\n",
       "    }\n",
       "</style>\n",
       "<table border=\"1\" class=\"dataframe\">\n",
       "  <thead>\n",
       "    <tr style=\"text-align: right;\">\n",
       "      <th></th>\n",
       "      <th>lon</th>\n",
       "      <th>lat</th>\n",
       "      <th>date</th>\n",
       "      <th>s</th>\n",
       "      <th>t</th>\n",
       "      <th>b</th>\n",
       "    </tr>\n",
       "  </thead>\n",
       "  <tbody>\n",
       "    <tr>\n",
       "      <th>0</th>\n",
       "      <td>-158.337840</td>\n",
       "      <td>-83.764221</td>\n",
       "      <td>2015-12-01</td>\n",
       "      <td>60.296038</td>\n",
       "      <td>645.212935</td>\n",
       "      <td>-584.916897</td>\n",
       "    </tr>\n",
       "    <tr>\n",
       "      <th>1</th>\n",
       "      <td>-158.339047</td>\n",
       "      <td>-83.764289</td>\n",
       "      <td>2015-12-01</td>\n",
       "      <td>60.332607</td>\n",
       "      <td>645.350918</td>\n",
       "      <td>-585.018311</td>\n",
       "    </tr>\n",
       "    <tr>\n",
       "      <th>2</th>\n",
       "      <td>-158.340257</td>\n",
       "      <td>-83.764356</td>\n",
       "      <td>2015-12-01</td>\n",
       "      <td>60.364670</td>\n",
       "      <td>645.488200</td>\n",
       "      <td>-585.123530</td>\n",
       "    </tr>\n",
       "    <tr>\n",
       "      <th>3</th>\n",
       "      <td>-158.341467</td>\n",
       "      <td>-83.764423</td>\n",
       "      <td>2015-12-01</td>\n",
       "      <td>60.390097</td>\n",
       "      <td>645.572737</td>\n",
       "      <td>-585.182639</td>\n",
       "    </tr>\n",
       "    <tr>\n",
       "      <th>4</th>\n",
       "      <td>-158.342679</td>\n",
       "      <td>-83.764490</td>\n",
       "      <td>2015-12-01</td>\n",
       "      <td>60.412078</td>\n",
       "      <td>645.588611</td>\n",
       "      <td>-585.176533</td>\n",
       "    </tr>\n",
       "    <tr>\n",
       "      <th>...</th>\n",
       "      <td>...</td>\n",
       "      <td>...</td>\n",
       "      <td>...</td>\n",
       "      <td>...</td>\n",
       "      <td>...</td>\n",
       "      <td>...</td>\n",
       "    </tr>\n",
       "    <tr>\n",
       "      <th>2651548</th>\n",
       "      <td>173.014007</td>\n",
       "      <td>-77.429764</td>\n",
       "      <td>2017-11-29</td>\n",
       "      <td>-440.545754</td>\n",
       "      <td>44.582638</td>\n",
       "      <td>-485.128392</td>\n",
       "    </tr>\n",
       "    <tr>\n",
       "      <th>2651549</th>\n",
       "      <td>173.014100</td>\n",
       "      <td>-77.429601</td>\n",
       "      <td>2017-11-29</td>\n",
       "      <td>-287.678752</td>\n",
       "      <td>81.096675</td>\n",
       "      <td>-368.775427</td>\n",
       "    </tr>\n",
       "    <tr>\n",
       "      <th>2651550</th>\n",
       "      <td>173.014193</td>\n",
       "      <td>-77.429437</td>\n",
       "      <td>2017-11-29</td>\n",
       "      <td>-177.775326</td>\n",
       "      <td>118.181577</td>\n",
       "      <td>-295.956903</td>\n",
       "    </tr>\n",
       "    <tr>\n",
       "      <th>2651551</th>\n",
       "      <td>173.014286</td>\n",
       "      <td>-77.429273</td>\n",
       "      <td>2017-11-29</td>\n",
       "      <td>-20.910828</td>\n",
       "      <td>125.722537</td>\n",
       "      <td>-146.633365</td>\n",
       "    </tr>\n",
       "    <tr>\n",
       "      <th>2651552</th>\n",
       "      <td>173.014380</td>\n",
       "      <td>-77.429109</td>\n",
       "      <td>2017-11-29</td>\n",
       "      <td>-339.649337</td>\n",
       "      <td>101.756597</td>\n",
       "      <td>-441.405934</td>\n",
       "    </tr>\n",
       "  </tbody>\n",
       "</table>\n",
       "<p>2651553 rows × 6 columns</p>\n",
       "</div>"
      ],
      "text/plain": [
       "                lon        lat        date           s           t           b\n",
       "0       -158.337840 -83.764221  2015-12-01   60.296038  645.212935 -584.916897\n",
       "1       -158.339047 -83.764289  2015-12-01   60.332607  645.350918 -585.018311\n",
       "2       -158.340257 -83.764356  2015-12-01   60.364670  645.488200 -585.123530\n",
       "3       -158.341467 -83.764423  2015-12-01   60.390097  645.572737 -585.182639\n",
       "4       -158.342679 -83.764490  2015-12-01   60.412078  645.588611 -585.176533\n",
       "...             ...        ...         ...         ...         ...         ...\n",
       "2651548  173.014007 -77.429764  2017-11-29 -440.545754   44.582638 -485.128392\n",
       "2651549  173.014100 -77.429601  2017-11-29 -287.678752   81.096675 -368.775427\n",
       "2651550  173.014193 -77.429437  2017-11-29 -177.775326  118.181577 -295.956903\n",
       "2651551  173.014286 -77.429273  2017-11-29  -20.910828  125.722537 -146.633365\n",
       "2651552  173.014380 -77.429109  2017-11-29 -339.649337  101.756597 -441.405934\n",
       "\n",
       "[2651553 rows x 6 columns]"
      ]
     },
     "execution_count": 16,
     "metadata": {},
     "output_type": "execute_result"
    }
   ],
   "source": [
    "# df.loc[df['A'] > 2, 'B'] = new_val\n",
    "df"
   ]
  },
  {
   "cell_type": "code",
   "execution_count": 49,
   "metadata": {},
   "outputs": [],
   "source": [
    "def preprocess(data):\n",
    "    \"\"\"Input a pd dataframe directly from Bedmap\"\"\"\n",
    "    # subset columns\n",
    "    df = data[[\"longitude (degree_east)\", \"latitude (degree_north)\", \"date\", \"surface_altitude (m)\", \"land_ice_thickness (m)\", \"bedrock_altitude (m)\"]]\n",
    "    # rename columns\n",
    "    df.columns = [\"lon\", \"lat\", \"date\", \"s\", \"t\", \"b\"]\n",
    "\n",
    "    # If s & t are given, fill b\n",
    "    df[\"b\"] = np.where([df[\"b\"] == -9999] and [df[\"s\"] != -9999] and [df[\"t\"] != -9999], (df[\"s\"] - df[\"t\"]), [df[\"b\"]])[0]\n",
    "    # Drop rows with missing bed elevation value\n",
    "    df = df.drop(np.where(df.b == -9999)[0])\n",
    "\n",
    "    # Project\n",
    "    lonlat_to_polarstereo = pyproj.Transformer.from_crs(crs_from = pyproj.CRS(\"epsg:4326\"), crs_to = pyproj.CRS(\"epsg:3031\"), always_xy = True) # lon, lat\n",
    "    \n",
    "    df[\"x\"], df[\"y\"] = lonlat_to_polarstereo.transform(df[\"lon\"], df[\"lat\"])\n",
    "\n",
    "    return df\n",
    "\n",
    "def gridding_error(df, zero_offset, res):\n",
    "    # x grid values for 500m grid\n",
    "    # 250 offset of 0 is first deducted\n",
    "    df[\"x_500\"] = (np.round((df.x - zero_offset) / res) * res) + zero_offset  \n",
    "    df[\"y_500\"] = (np.round((df.y - zero_offset) / res) * res) + zero_offset  \n",
    "\n",
    "    # Make categocial column based on grid cell index\n",
    "    df[\"id_500\"] = df[\"x_500\"].astype(int).astype(str) + \"_\" + df[\"y_500\"].astype(int).astype(str)\n",
    "\n",
    "    grid_b_series = df.groupby(by = \"id_500\")[\"b\"].mean()\n",
    "    grid_b_df = pd.DataFrame(grid_b_series)\n",
    "    grid_b_df = grid_b_df.rename(columns = {\"b\": \"grid_mean_b\"})\n",
    "    # count\n",
    "    grid_count = df.groupby(by = \"id_500\")[\"b\"].count()\n",
    "    # add to df\n",
    "    grid_b_df[\"count\"] = np.array(grid_count)\n",
    "\n",
    "    df_merged = df.merge(grid_b_df, on = \"id_500\")\n",
    "    df_merged[\"error\"] = df_merged[\"grid_mean_b\"] - df_merged[\"b\"]\n",
    "\n",
    "    # Calculate rate of grid cells without measurements (in square)\n",
    "    x_gridvalues = np.arange(np.min(df_merged.x_500), np.max(df_merged.x_500) + 1, res)\n",
    "    y_gridvalues = np.arange(np.min(df_merged.y_500), np.max(df_merged.y_500) + 1, res)\n",
    "    rate = grid_b_df.shape[0]/(x_gridvalues.shape[0] * y_gridvalues.shape[0])\n",
    "    print(grid_b_df.shape[0])\n",
    "      \n",
    "    return  df_merged, rate"
   ]
  },
  {
   "cell_type": "markdown",
   "metadata": {},
   "source": [
    "# Results for 500 m"
   ]
  },
  {
   "cell_type": "code",
   "execution_count": 52,
   "metadata": {},
   "outputs": [
    {
     "name": "stderr",
     "output_type": "stream",
     "text": [
<<<<<<< HEAD
      "/tmp/ipykernel_1150192/2809085644.py:9: SettingWithCopyWarning: \n",
=======
      "/tmp/ipykernel_889661/2809085644.py:9: SettingWithCopyWarning: \n",
>>>>>>> 232cc99592f484f523f2b12e2b631a6e3eafe444
      "A value is trying to be set on a copy of a slice from a DataFrame.\n",
      "Try using .loc[row_indexer,col_indexer] = value instead\n",
      "\n",
      "See the caveats in the documentation: https://pandas.pydata.org/pandas-docs/stable/user_guide/indexing.html#returning-a-view-versus-a-copy\n",
      "  df[\"b\"] = np.where([df[\"b\"] == -9999] and [df[\"s\"] != -9999] and [df[\"t\"] != -9999], (df[\"s\"] - df[\"t\"]), [df[\"b\"]])[0]\n"
     ]
    },
    {
     "name": "stdout",
     "output_type": "stream",
     "text": [
      "85087\n",
      "Rate of cells with measurements: 0.024\n",
<<<<<<< HEAD
      "rmse at 500 m 7.28\n",
      "MAE at 500 m 7.28\n"
=======
      "RMSE at 500 m 7.28\n",
      "MAE at 500 m 1.85\n"
>>>>>>> 232cc99592f484f523f2b12e2b631a6e3eafe444
     ]
    }
   ],
   "source": [
    "zo_500 = 250.0\n",
    "resso_500 = 500.0\n",
    "\n",
    "df_pp_500 = preprocess(pd_data)\n",
    "df_500, rate_500 = gridding_error(df_pp_500, zero_offset = zo_500, res = resso_500)\n",
    "\n",
    "rmse_500m = np.sqrt(np.mean(np.square(df_500[\"error\"])))\n",
    "mae_500m = np.mean(np.abs(df_500[\"error\"]))\n",
    "\n",
    "print(\"Rate of cells with measurements:\", np.round(rate_500, 3))\n",
    "print(\"rmse at 500 m\", np.round(rmse_500m, 2))\n",
    "print(\"MAE at 500 m\", np.round(rmse_500m, 2))\n",
    "# Indicating some expreme errors"
   ]
  },
  {
   "cell_type": "markdown",
   "metadata": {},
   "source": [
    "# Repeat for 250m"
   ]
  },
  {
   "cell_type": "code",
<<<<<<< HEAD
   "execution_count": 13,
=======
   "execution_count": 51,
>>>>>>> 232cc99592f484f523f2b12e2b631a6e3eafe444
   "metadata": {},
   "outputs": [
    {
     "name": "stderr",
     "output_type": "stream",
     "text": [
<<<<<<< HEAD
      "/tmp/ipykernel_1150192/2809085644.py:9: SettingWithCopyWarning: \n",
=======
      "/tmp/ipykernel_889661/2809085644.py:9: SettingWithCopyWarning: \n",
>>>>>>> 232cc99592f484f523f2b12e2b631a6e3eafe444
      "A value is trying to be set on a copy of a slice from a DataFrame.\n",
      "Try using .loc[row_indexer,col_indexer] = value instead\n",
      "\n",
      "See the caveats in the documentation: https://pandas.pydata.org/pandas-docs/stable/user_guide/indexing.html#returning-a-view-versus-a-copy\n",
      "  df[\"b\"] = np.where([df[\"b\"] == -9999] and [df[\"s\"] != -9999] and [df[\"t\"] != -9999], (df[\"s\"] - df[\"t\"]), [df[\"b\"]])[0]\n"
     ]
    },
    {
     "name": "stdout",
     "output_type": "stream",
     "text": [
      "167910\n",
      "Rate of cells with measurements: 0.012\n",
<<<<<<< HEAD
      "rmse at 250 m 6.65\n",
=======
      "RMSE at 250 m 6.65\n",
>>>>>>> 232cc99592f484f523f2b12e2b631a6e3eafe444
      "MAE at 250 m 1.26\n"
     ]
    }
   ],
   "source": [
    "zo_250 = 125.0\n",
    "resso_250 = 250.0\n",
    "\n",
    "df_pp_250 = preprocess(pd_data)\n",
    "df_250, rate_250 = gridding_error(df_pp_250, zero_offset = zo_250, res = resso_250)\n",
    "\n",
    "rmse_250m = np.sqrt(np.mean(np.square(df_250[\"error\"])))\n",
    "mae_250m = np.mean(np.abs(df_250[\"error\"]))\n",
    "\n",
    "print(\"Rate of cells with measurements:\", np.round(rate_250, 3))\n",
    "print(\"rmse at 250 m\", np.round(rmse_250m, 2))\n",
    "print(\"MAE at 250 m\", np.round(mae_250m, 2))\n",
    "# Indicating some expreme errors"
   ]
  },
  {
   "cell_type": "markdown",
   "metadata": {},
   "source": [
    "# 125"
   ]
  },
  {
   "cell_type": "code",
<<<<<<< HEAD
   "execution_count": 14,
=======
   "execution_count": 53,
>>>>>>> 232cc99592f484f523f2b12e2b631a6e3eafe444
   "metadata": {},
   "outputs": [
    {
     "name": "stderr",
     "output_type": "stream",
     "text": [
<<<<<<< HEAD
      "/tmp/ipykernel_1150192/2809085644.py:9: SettingWithCopyWarning: \n",
=======
      "/tmp/ipykernel_889661/2809085644.py:9: SettingWithCopyWarning: \n",
>>>>>>> 232cc99592f484f523f2b12e2b631a6e3eafe444
      "A value is trying to be set on a copy of a slice from a DataFrame.\n",
      "Try using .loc[row_indexer,col_indexer] = value instead\n",
      "\n",
      "See the caveats in the documentation: https://pandas.pydata.org/pandas-docs/stable/user_guide/indexing.html#returning-a-view-versus-a-copy\n",
      "  df[\"b\"] = np.where([df[\"b\"] == -9999] and [df[\"s\"] != -9999] and [df[\"t\"] != -9999], (df[\"s\"] - df[\"t\"]), [df[\"b\"]])[0]\n"
     ]
    },
    {
     "name": "stdout",
     "output_type": "stream",
     "text": [
      "332228\n",
      "Rate of cells with measurements: 0.006\n",
<<<<<<< HEAD
      "rmse at 125 m 6.11\n",
=======
      "RMSE at 125 m 6.11\n",
>>>>>>> 232cc99592f484f523f2b12e2b631a6e3eafe444
      "MAE at 125 m 0.86\n"
     ]
    }
   ],
   "source": [
    "zo_125 = 62.5\n",
    "resso_125 = 125.0\n",
    "\n",
    "df_pp_125 = preprocess(pd_data)\n",
    "df_125, rate_125 = gridding_error(df_pp_125, zero_offset = zo_125, res = resso_125)\n",
    "\n",
    "rmse_125m = np.sqrt(np.mean(np.square(df_125[\"error\"])))\n",
    "mae_125m = np.mean(np.abs(df_125[\"error\"]))\n",
    "\n",
    "print(\"Rate of cells with measurements:\", np.round(rate_125, 3))\n",
    "print(\"rmse at 125 m\", np.round(rmse_125m, 2))\n",
    "print(\"MAE at 125 m\", np.round(mae_125m, 2))\n",
    "# Indicating some expreme errors"
   ]
  },
  {
   "cell_type": "markdown",
   "metadata": {},
   "source": [
    "# 62.5"
   ]
  },
  {
   "cell_type": "code",
<<<<<<< HEAD
   "execution_count": 15,
=======
   "execution_count": 55,
>>>>>>> 232cc99592f484f523f2b12e2b631a6e3eafe444
   "metadata": {},
   "outputs": [
    {
     "name": "stderr",
     "output_type": "stream",
     "text": [
<<<<<<< HEAD
      "/tmp/ipykernel_1150192/2809085644.py:9: SettingWithCopyWarning: \n",
=======
      "/tmp/ipykernel_889661/2809085644.py:9: SettingWithCopyWarning: \n",
>>>>>>> 232cc99592f484f523f2b12e2b631a6e3eafe444
      "A value is trying to be set on a copy of a slice from a DataFrame.\n",
      "Try using .loc[row_indexer,col_indexer] = value instead\n",
      "\n",
      "See the caveats in the documentation: https://pandas.pydata.org/pandas-docs/stable/user_guide/indexing.html#returning-a-view-versus-a-copy\n",
      "  df[\"b\"] = np.where([df[\"b\"] == -9999] and [df[\"s\"] != -9999] and [df[\"t\"] != -9999], (df[\"s\"] - df[\"t\"]), [df[\"b\"]])[0]\n"
     ]
    },
    {
     "name": "stdout",
     "output_type": "stream",
     "text": [
      "659932\n",
      "Rate of cells with measurements: 0.003\n",
<<<<<<< HEAD
      "rmse at 62.5 m 5.35\n",
=======
      "RMSE at 62.5 m 5.35\n",
>>>>>>> 232cc99592f484f523f2b12e2b631a6e3eafe444
      "MAE at 62.5 m 0.6\n"
     ]
    }
   ],
   "source": [
    "zo_62 = 31.25\n",
    "resso_62 = 62.5\n",
    "\n",
    "df_pp_62 = preprocess(pd_data)\n",
    "df_62, rate_62 = gridding_error(df_pp_62, zero_offset = zo_62, res = resso_62)\n",
    "\n",
    "rmse_62m = np.sqrt(np.mean(np.square(df_62[\"error\"])))\n",
    "mae_62m = np.mean(np.abs(df_62[\"error\"]))\n",
    "\n",
    "print(\"Rate of cells with measurements:\", np.round(rate_62, 3))\n",
    "print(\"rmse at 62.5 m\", np.round(rmse_62m, 2))\n",
    "print(\"MAE at 62.5 m\", np.round(mae_62m, 2))\n",
    "# Indicating some expreme errors"
   ]
  },
  {
   "cell_type": "markdown",
   "metadata": {},
   "source": [
    "# 31.25\n",
    "\n",
    "~2 values per field"
   ]
  },
  {
   "cell_type": "code",
<<<<<<< HEAD
   "execution_count": 16,
=======
   "execution_count": 57,
>>>>>>> 232cc99592f484f523f2b12e2b631a6e3eafe444
   "metadata": {},
   "outputs": [
    {
     "name": "stderr",
     "output_type": "stream",
     "text": [
<<<<<<< HEAD
      "/tmp/ipykernel_1150192/2809085644.py:9: SettingWithCopyWarning: \n",
=======
      "/tmp/ipykernel_889661/2809085644.py:9: SettingWithCopyWarning: \n",
>>>>>>> 232cc99592f484f523f2b12e2b631a6e3eafe444
      "A value is trying to be set on a copy of a slice from a DataFrame.\n",
      "Try using .loc[row_indexer,col_indexer] = value instead\n",
      "\n",
      "See the caveats in the documentation: https://pandas.pydata.org/pandas-docs/stable/user_guide/indexing.html#returning-a-view-versus-a-copy\n",
      "  df[\"b\"] = np.where([df[\"b\"] == -9999] and [df[\"s\"] != -9999] and [df[\"t\"] != -9999], (df[\"s\"] - df[\"t\"]), [df[\"b\"]])[0]\n"
     ]
    },
    {
     "name": "stdout",
     "output_type": "stream",
     "text": [
      "1314319\n",
      "Rate of cells with measurements: 0.001\n",
<<<<<<< HEAD
      "rmse at 31.25 m 4.04\n",
=======
      "RMSE at 31.25 m 4.04\n",
>>>>>>> 232cc99592f484f523f2b12e2b631a6e3eafe444
      "MAE at 31.25 m 0.37\n"
     ]
    }
   ],
   "source": [
    "zo_31 = 15.625\n",
    "resso_31 = 31.25\n",
    "\n",
    "df_pp_31 = preprocess(pd_data)\n",
    "df_31, rate_31 = gridding_error(df_pp_31, zero_offset = zo_31, res = resso_31)\n",
    "\n",
    "rmse_31m = np.sqrt(np.mean(np.square(df_31[\"error\"])))\n",
    "mae_31m = np.mean(np.abs(df_31[\"error\"]))\n",
    "\n",
    "print(\"Rate of cells with measurements:\", np.round(rate_31, 3))\n",
    "print(\"rmse at 31.25 m\", np.round(rmse_31m, 2))\n",
    "print(\"MAE at 31.25 m\", np.round(mae_31m, 2))\n",
    "# Indicating some expreme errors"
   ]
  },
  {
   "cell_type": "markdown",
   "metadata": {},
   "source": [
    "# Sub spacing scale:\n",
    "\n",
    "Max 1 value per grid"
   ]
  },
  {
   "cell_type": "code",
<<<<<<< HEAD
   "execution_count": 17,
=======
   "execution_count": 59,
>>>>>>> 232cc99592f484f523f2b12e2b631a6e3eafe444
   "metadata": {},
   "outputs": [
    {
     "name": "stderr",
     "output_type": "stream",
     "text": [
<<<<<<< HEAD
      "/tmp/ipykernel_1150192/2809085644.py:9: SettingWithCopyWarning: \n",
=======
      "/tmp/ipykernel_889661/2809085644.py:9: SettingWithCopyWarning: \n",
>>>>>>> 232cc99592f484f523f2b12e2b631a6e3eafe444
      "A value is trying to be set on a copy of a slice from a DataFrame.\n",
      "Try using .loc[row_indexer,col_indexer] = value instead\n",
      "\n",
      "See the caveats in the documentation: https://pandas.pydata.org/pandas-docs/stable/user_guide/indexing.html#returning-a-view-versus-a-copy\n",
      "  df[\"b\"] = np.where([df[\"b\"] == -9999] and [df[\"s\"] != -9999] and [df[\"t\"] != -9999], (df[\"s\"] - df[\"t\"]), [df[\"b\"]])[0]\n"
     ]
    },
    {
     "name": "stdout",
     "output_type": "stream",
     "text": [
      "2558592\n",
      "Rate of cells with measurements: 0.001\n",
<<<<<<< HEAD
      "rmse at 15.625 m 0.8\n",
=======
      "RMSE at 15.625 m 0.8\n",
>>>>>>> 232cc99592f484f523f2b12e2b631a6e3eafe444
      "MAE at 15.625 m 0.02\n"
     ]
    }
   ],
   "source": [
    "zo_15 = 7.8125\n",
    "resso_15 = 15.625\n",
    "\n",
    "df_pp_15 = preprocess(pd_data)\n",
    "df_15, rate_15 = gridding_error(df_pp_15, zero_offset = zo_15, res = resso_15)\n",
    "\n",
    "rmse_15m = np.sqrt(np.mean(np.square(df_15[\"error\"])))\n",
    "mae_15m = np.mean(np.abs(df_15[\"error\"]))\n",
    "\n",
    "print(\"Rate of cells with measurements:\", np.round(rate_15, 3))\n",
    "print(\"rmse at 15.625 m\", np.round(rmse_15m, 2))\n",
    "print(\"MAE at 15.625 m\", np.round(mae_15m, 2))\n",
    "# Indicating some expreme errors"
   ]
  },
  {
   "cell_type": "markdown",
   "metadata": {},
   "source": [
    "# 1000"
   ]
  },
  {
   "cell_type": "code",
<<<<<<< HEAD
   "execution_count": 23,
=======
   "execution_count": 56,
>>>>>>> 232cc99592f484f523f2b12e2b631a6e3eafe444
   "metadata": {},
   "outputs": [
    {
     "name": "stderr",
     "output_type": "stream",
     "text": [
<<<<<<< HEAD
      "/tmp/ipykernel_1150192/2809085644.py:9: SettingWithCopyWarning: \n",
=======
      "/tmp/ipykernel_889661/2809085644.py:9: SettingWithCopyWarning: \n",
>>>>>>> 232cc99592f484f523f2b12e2b631a6e3eafe444
      "A value is trying to be set on a copy of a slice from a DataFrame.\n",
      "Try using .loc[row_indexer,col_indexer] = value instead\n",
      "\n",
      "See the caveats in the documentation: https://pandas.pydata.org/pandas-docs/stable/user_guide/indexing.html#returning-a-view-versus-a-copy\n",
      "  df[\"b\"] = np.where([df[\"b\"] == -9999] and [df[\"s\"] != -9999] and [df[\"t\"] != -9999], (df[\"s\"] - df[\"t\"]), [df[\"b\"]])[0]\n"
     ]
    },
    {
     "name": "stdout",
     "output_type": "stream",
     "text": [
      "43239\n",
      "Rate of cells with measurements: 0.05\n",
<<<<<<< HEAD
      "rmse at 1000 m 8.27\n",
=======
      "RMSE at 1000 m 8.27\n",
>>>>>>> 232cc99592f484f523f2b12e2b631a6e3eafe444
      "MAE at 1000 m 2.67\n"
     ]
    }
   ],
   "source": [
    "zo_1000 = 500.0\n",
    "resso_1000 = 1000.0\n",
    "\n",
    "df_pp_1000 = preprocess(pd_data)\n",
    "df_1000, rate_1000 = gridding_error(df_pp_1000, zero_offset = zo_1000, res = resso_1000)\n",
    "\n",
    "rmse_1000m = np.sqrt(np.mean(np.square(df_1000[\"error\"])))\n",
    "mae_1000m = np.mean(np.abs(df_1000[\"error\"]))\n",
    "\n",
    "print(\"Rate of cells with measurements:\", np.round(rate_1000, 3))\n",
    "print(\"rmse at 1000 m\", np.round(rmse_1000m, 2))\n",
    "print(\"MAE at 1000 m\", np.round(mae_1000m, 2))\n",
    "# Indicating some expreme errors"
   ]
  },
  {
   "cell_type": "markdown",
   "metadata": {},
   "source": [
    "# 2000"
   ]
  },
  {
   "cell_type": "code",
<<<<<<< HEAD
   "execution_count": 24,
=======
   "execution_count": 70,
>>>>>>> 232cc99592f484f523f2b12e2b631a6e3eafe444
   "metadata": {},
   "outputs": [
    {
     "name": "stderr",
     "output_type": "stream",
     "text": [
<<<<<<< HEAD
      "/tmp/ipykernel_1150192/2809085644.py:9: SettingWithCopyWarning: \n",
=======
      "/tmp/ipykernel_889661/2809085644.py:9: SettingWithCopyWarning: \n",
>>>>>>> 232cc99592f484f523f2b12e2b631a6e3eafe444
      "A value is trying to be set on a copy of a slice from a DataFrame.\n",
      "Try using .loc[row_indexer,col_indexer] = value instead\n",
      "\n",
      "See the caveats in the documentation: https://pandas.pydata.org/pandas-docs/stable/user_guide/indexing.html#returning-a-view-versus-a-copy\n",
      "  df[\"b\"] = np.where([df[\"b\"] == -9999] and [df[\"s\"] != -9999] and [df[\"t\"] != -9999], (df[\"s\"] - df[\"t\"]), [df[\"b\"]])[0]\n"
     ]
    },
    {
     "name": "stdout",
     "output_type": "stream",
     "text": [
      "21937\n",
      "Rate of cells with measurements: 0.101\n",
      "rmse at 1000 m 9.77\n",
      "MAE at 1000 m 3.73\n"
     ]
    }
   ],
   "source": [
    "zo_2000 = 1000.0\n",
    "resso_2000 = 2000.0\n",
    "\n",
    "df_pp_2000 = preprocess(pd_data)\n",
    "df_2000, rate_2000 = gridding_error(df_pp_2000, zero_offset = zo_2000, res = resso_2000)\n",
    "\n",
<<<<<<< HEAD
    "rmse_2000m = np.sqrt(np.mean(np.square(df_2000[\"error\"])))\n",
    "mae_2000m = np.mean(np.abs(df_2000[\"error\"]))\n",
=======
    "rmse_1000m = np.sqrt(np.mean(np.square(df_2000[\"error\"])))\n",
    "mae_1000m = np.mean(np.abs(df_2000[\"error\"]))\n",
>>>>>>> 232cc99592f484f523f2b12e2b631a6e3eafe444
    "\n",
    "print(\"Rate of cells with measurements:\", np.round(rate_2000, 3))\n",
    "print(\"rmse at 1000 m\", np.round(rmse_2000m, 2))\n",
    "print(\"MAE at 1000 m\", np.round(mae_2000m, 2))\n",
    "# Indicating some expreme errors"
   ]
  },
  {
   "cell_type": "markdown",
   "metadata": {},
   "source": [
    "# Graph"
   ]
  },
  {
   "cell_type": "code",
<<<<<<< HEAD
   "execution_count": 25,
=======
   "execution_count": 69,
>>>>>>> 232cc99592f484f523f2b12e2b631a6e3eafe444
   "metadata": {},
   "outputs": [],
   "source": [
    "rmse_array = np.array([rmse_15m, rmse_31m, rmse_62m, rmse_125m, rmse_250m, rmse_500m, rmse_1000m, rmse_2000m])\n",
    "mae_array = np.array([mae_15m, mae_31m, mae_62m, mae_125m, mae_250m, mae_500m, mae_1000m, mae_2000m])\n",
    "rate_array = np.array([rate_15, rate_31, rate_62, rate_125, rate_250, rate_500, rate_1000, rate_2000])\n",
    "res_array = np.array([15.625, 31.25, 62.5, 125, 250, 500, 1000, 2000])"
   ]
  },
  {
   "cell_type": "code",
<<<<<<< HEAD
   "execution_count": 35,
=======
   "execution_count": 73,
>>>>>>> 232cc99592f484f523f2b12e2b631a6e3eafe444
   "metadata": {},
   "outputs": [
    {
     "data": {
      "text/plain": [
<<<<<<< HEAD
       "<matplotlib.lines.Line2D at 0x7efc07ac6670>"
      ]
     },
     "execution_count": 35,
=======
       "[<matplotlib.lines.Line2D at 0x7f53ccb7b910>]"
      ]
     },
     "execution_count": 73,
>>>>>>> 232cc99592f484f523f2b12e2b631a6e3eafe444
     "metadata": {},
     "output_type": "execute_result"
    },
    {
     "data": {
<<<<<<< HEAD
      "image/png": "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",
=======
      "image/png": "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",
>>>>>>> 232cc99592f484f523f2b12e2b631a6e3eafe444
      "text/plain": [
       "<Figure size 640x480 with 1 Axes>"
      ]
     },
     "metadata": {},
     "output_type": "display_data"
    }
   ],
   "source": [
<<<<<<< HEAD
    "plt.plot(res_array, rmse_array)\n",
    "\n",
    "plt.xlabel(\"grid resolution\")\n",
    "plt.ylabel(\"RMSE\")\n",
    "plt.title(\"Gridding error (RMSE) by resolution for Ross Ice Shelf\")\n",
    "plt.axvline(x = 500, ls='--', color = \"lightgrey\")"
=======
    "plt.plot(res_array, rmse_array)"
>>>>>>> 232cc99592f484f523f2b12e2b631a6e3eafe444
   ]
  },
  {
   "cell_type": "code",
<<<<<<< HEAD
   "execution_count": 1,
   "metadata": {},
   "outputs": [
    {
     "ename": "NameError",
     "evalue": "name 'plt' is not defined",
     "output_type": "error",
     "traceback": [
      "\u001b[0;31m---------------------------------------------------------------------------\u001b[0m",
      "\u001b[0;31mNameError\u001b[0m                                 Traceback (most recent call last)",
      "Cell \u001b[0;32mIn[1], line 2\u001b[0m\n\u001b[1;32m      1\u001b[0m \u001b[38;5;66;03m# Visualise without 15\u001b[39;00m\n\u001b[0;32m----> 2\u001b[0m \u001b[43mplt\u001b[49m\u001b[38;5;241m.\u001b[39mplot(res_array[\u001b[38;5;241m1\u001b[39m:], rmse_array[\u001b[38;5;241m1\u001b[39m:])\n",
      "\u001b[0;31mNameError\u001b[0m: name 'plt' is not defined"
     ]
    }
   ],
   "source": [
    "# Visualise without 15\n",
    "plt.plot(res_array[1:], rmse_array[1:])"
   ]
  },
  {
   "cell_type": "code",
   "execution_count": 75,
   "metadata": {},
   "outputs": [
    {
     "data": {
      "text/plain": [
       "[<matplotlib.lines.Line2D at 0x7f5509bdb460>]"
      ]
     },
     "execution_count": 75,
     "metadata": {},
     "output_type": "execute_result"
    },
    {
     "data": {
      "image/png": "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",
      "text/plain": [
       "<Figure size 640x480 with 1 Axes>"
      ]
     },
     "metadata": {},
     "output_type": "display_data"
    }
   ],
   "source": [
    "plt.plot(res_array, mae_array)"
   ]
  },
  {
   "cell_type": "code",
   "execution_count": 34,
=======
   "execution_count": 74,
>>>>>>> 232cc99592f484f523f2b12e2b631a6e3eafe444
   "metadata": {},
   "outputs": [
    {
     "data": {
      "text/plain": [
<<<<<<< HEAD
       "<matplotlib.lines.Line2D at 0x7efbe9f0bcd0>"
      ]
     },
     "execution_count": 34,
=======
       "[<matplotlib.lines.Line2D at 0x7f53f8feb490>]"
      ]
     },
     "execution_count": 74,
>>>>>>> 232cc99592f484f523f2b12e2b631a6e3eafe444
     "metadata": {},
     "output_type": "execute_result"
    },
    {
     "data": {
<<<<<<< HEAD
      "image/png": "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",
=======
      "image/png": "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",
>>>>>>> 232cc99592f484f523f2b12e2b631a6e3eafe444
      "text/plain": [
       "<Figure size 640x480 with 1 Axes>"
      ]
     },
     "metadata": {},
     "output_type": "display_data"
    }
   ],
   "source": [
<<<<<<< HEAD
    "plt.plot(res_array, mae_array)\n",
    "\n",
    "plt.xlabel(\"grid resolution\")\n",
    "plt.ylabel(\"MAE\")\n",
    "plt.title(\"Gridding error (MAE) by resolution for Ross Ice Shelf\")\n",
    "plt.axvline(x = 500, ls='--', color = \"lightgrey\")"
=======
    "# Visualise without 15\n",
    "plt.plot(res_array[1:], rmse_array[1:])"
>>>>>>> 232cc99592f484f523f2b12e2b631a6e3eafe444
   ]
  },
  {
   "cell_type": "code",
<<<<<<< HEAD
   "execution_count": 77,
=======
   "execution_count": 75,
>>>>>>> 232cc99592f484f523f2b12e2b631a6e3eafe444
   "metadata": {},
   "outputs": [
    {
     "data": {
      "text/plain": [
<<<<<<< HEAD
       "[<matplotlib.lines.Line2D at 0x7f53e7c6ba60>]"
      ]
     },
     "execution_count": 77,
=======
       "[<matplotlib.lines.Line2D at 0x7f5509bdb460>]"
      ]
     },
     "execution_count": 75,
>>>>>>> 232cc99592f484f523f2b12e2b631a6e3eafe444
     "metadata": {},
     "output_type": "execute_result"
    },
    {
     "data": {
<<<<<<< HEAD
      "image/png": "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",
=======
      "image/png": "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",
>>>>>>> 232cc99592f484f523f2b12e2b631a6e3eafe444
      "text/plain": [
       "<Figure size 640x480 with 1 Axes>"
      ]
     },
     "metadata": {},
     "output_type": "display_data"
    }
   ],
   "source": [
<<<<<<< HEAD
=======
    "plt.plot(res_array, mae_array)"
   ]
  },
  {
   "cell_type": "code",
   "execution_count": 76,
   "metadata": {},
   "outputs": [
    {
     "data": {
      "text/plain": [
       "[<matplotlib.lines.Line2D at 0x7f53e7d758b0>]"
      ]
     },
     "execution_count": 76,
     "metadata": {},
     "output_type": "execute_result"
    },
    {
     "data": {
      "image/png": "iVBORw0KGgoAAAANSUhEUgAAAiMAAAGdCAYAAADAAnMpAAAAOXRFWHRTb2Z0d2FyZQBNYXRwbG90bGliIHZlcnNpb24zLjQuMywgaHR0cHM6Ly9tYXRwbG90bGliLm9yZy/MnkTPAAAACXBIWXMAAA9hAAAPYQGoP6dpAABEkElEQVR4nO3de1yUdd7/8ddwRoRBVE6CoGkeQEzRFDbt4EZpWm1um5sp7lb3utthy/Xesra7wx5sd/u1bneldWflobJt0bLVLNs8FXjG8znlIAKKCoMgM8Bcvz/Q2cgjCFwz8H4+HvN4ON+5Lvh8uRjm7TXXfL4WwzAMREREREziZXYBIiIi0rYpjIiIiIipFEZERETEVAojIiIiYiqFERERETGVwoiIiIiYSmFERERETKUwIiIiIqbyMbuAy+F0Ojly5AjBwcFYLBazyxEREZHLYBgG5eXlREdH4+V14fMfHhFGjhw5QmxsrNlliIiISCPk5+cTExNzwcc9IowEBwcDdZMJCQkxuRoRERG5HDabjdjYWNfr+IV4RBg5+9ZMSEiIwoiIiIiHudQlFrqAVUREREylMCIiIiKmUhgRERERUymMiIiIiKkURkRERMRUCiMiIiJiKoURERERMZXCiIiIiJhKYURERERMpTAiIiIiplIYEREREVMpjIiIiIipFEZERETaqJpaJ8t2FDHpnfWUVVabVodHrNorIiIiTedEhYMFG/J4b20eBaWnAfhoUz4PDOtuSj0KIyIiIm3E9sNlzMnKYfHWIzhqnACEBfkxbnAsI/tFmVaXwoiIiEgr5qhx8tmOQuZk5rA5r9Q13q+LlfTUeEYnRRHg621egSiMiIiItErFtireW5fH++vyKDllB8DX28KoflGkp8YzIDYUi8VicpV1FEZERERaCcMw2JR7knczc1i2o4gapwFAeLA/44fE8dMhsYQHB5hc5bkURkRERDxcVXUti7cc4d3MHHYV2lzjg+M7MDElnlsTI/H1dt8P0CqMiIiIeKj8E5XMX5fLhxvyKT3z0Vx/Hy/uvKYLE1PjSIi2mlzh5VEYERER8SCGYfDNgeO8m5nDv/cUY9S9E0NMh0AmDI3jnsGxhLbzM7fIBlIYERER8QCn7DUs3HyYOZk5fHuswjU+rGcnJqbEc1PvcLy93OOC1IZSGBEREXFj3x47xbysXP656TCn7DUABPl58+PkGCakxNMjvL3JFV45hRERERE3U+s0WLHnKHOyclizv8Q13r1zEOkp8dw1sAvBAb4mVti0FEZERETcRGmlg39szGfe2lzyT9S1abdYYETvCNJT4/jBVZ3w8tC3Yi5GYURERMRku47YmJuVw8dbCqiqrmvTbg30ZdzgWO4bGkdsWDuTK2xeCiMiIiImqK518vnOIuZm5rI+54RrvE9UCJNS47i9fxcC/cxt095SFEZERERa0LFyOx+sz+O9dbkU2+ratHt7Wbg1MZJJqfEMiuvgNm3aW4rCiIiISAvIzjvJnMwclmwvpLq2rjlIp/Z+3HttV+4dEkek1f3atLcUhREREZFmUlVdy5JthczNymHr4TLX+ICuoaSnxDOyXyT+Pm3jrZiLaVCj+pkzZ5KUlERISAghISGkpKTw2WefXXD7lStXYrFYzrnt2bPnigsXERFxV0dKT/PXz/fwgxe/4jcfbWXr4TL8fLwYOzCGxQ//gEW/+gF3DuiiIHJGg86MxMTE8OKLL9KjRw8A5syZwx133EF2djYJCQkX3G/v3r2EhIS47nfu3LmR5YqIiLgnwzBYe/AEc7Ny+GJXMbVnVsyNtgYwfmgc4wbH0rG9v8lVuqcGhZExY8bUu//HP/6RmTNnsnbt2ouGkfDwcEJDQxtVoIiIiDurdNSwKLuAuZm57C0ud42ndO9IemocP+wTgY8br5jrDhp9zUhtbS0fffQRFRUVpKSkXHTbAQMGUFVVRd++ffnd737HjTfeeNHt7XY7drvddd9ms11kaxERkZaXe7yCuVm5/GNjPuVVdW3aA329uWtgFyamxNMrMtjkCj1Hg8PI9u3bSUlJoaqqivbt27No0SL69u173m2joqJ48803SU5Oxm63M2/ePEaMGMHKlSsZPnz4Bb/H9OnTef755xtamoiISLNyOg1W7z/GnMwcVu475loxN65jOyamxPPj5Bisga2nTXtLsRjG2R/l5XE4HOTl5VFaWkpGRgZvvfUWq1atumAg+b4xY8ZgsVhYvHjxBbc535mR2NhYysrK6l17IiIi0hJsVdX8c+Nh5q3N5VDJf1bMvaFXZ9JT4rn+6s6tsk37lbLZbFit1ku+fjf4zIifn5/rAtZBgwaxYcMG/v73v/PGG29c1v5Dhw5l/vz5F93G398ff39d5CMiIubaV1zO3KwcFm4uoNJRC0BwgA93J8cyISWObp2CTK6wdbjiPiOGYdQ7i3Ep2dnZREVFXem3FRERaRY1tU6+3H2UOZk5ZB087hq/OqI9E1Pi+dGALgT5q01XU2rQT/Opp55i5MiRxMbGUl5ezoIFC1i5ciXLli0DYNq0aRQUFDB37lwAZsyYQXx8PAkJCTgcDubPn09GRgYZGRlNPxMREZErcKLCwYINeby3No+C0roVc70skNY3kompcaR079jm2rS3lAaFkeLiYiZMmEBhYSFWq5WkpCSWLVvGzTffDEBhYSF5eXmu7R0OB1OnTqWgoIDAwEASEhJYsmQJo0aNatpZiIiINNL2w2XMycph8dYjOGrqVswNC/Jj3OBYxg+No0tooMkVtn4NvoDVDJd7AYyIiMjlcNQ4+WxHIXMyc9icV+oa79fFSnpqPKOTogjwVXfUK9VsF7CKiIh4qmJbFe+ty+P9dXmUnKq73tHX28Jt/aKYmBrPgNhQvRVjAoURERFp1QzDYGNu3Yq5y3YUUXOmTXtEiD/jh8Qx7tpYwoPb7oq57kBhREREWqWq6lo+2VLAnMxcdhX+p5P34PgOpKfGc0tCJL5q0+4WFEZERKRVyT9Ryfy1uXy4MZ/SymoA/H28uPOaLkxMjSMh2mpyhfJ9CiMiIuLxDMPgmwPHeTczh3/vKXa1aY/pEMiEoXHcMziW0HZ+5hYpF6QwIiIiHuuUvYaFmw8zJzOHb4/9p037sJ6dmJgSz029w/FWm3a3pzAiIiIe59tjp5iXlcs/Nx3mlL1uxdwgP29+nBzDhJR4eoS3N7lCaQiFERER8Qi1ToMVe44yJyuHNftLXOPdOweRnhLPXQO7EBygFXM9kcKIiIi4tdJKB//YmM+8tbnkn6hr026xwIjeEaSnxnFdj07qDeLhFEZERMQt7TpiY25WDh9vKaCquq5NuzXQl3GDY7lvaByxYe1MrlCaisKIiIi4jepaJ5/vLGJuZi7rc064xvtEhTApNY7b+3ch0E9t2lsbhRERETHdsXI7H6zP4711uRTb6tq0e3tZuDUxkkmp8QyK66C3YloxhRERETGFYRhsyS9lTmYOS7YXUl1b1xykU3s/7r22K/cOiSPSqjbtbYHCiIiItKiq6lqWbCtkTlYO2w6XucYHdA1lUmo8tyZG4u+jt2LaEoURERFpEUdKT/Peulw+WJ/PiQoHAH4+XoxJiiY9NY6kmFBzCxTTKIyIiEizMQyDtQdPMDcrhy92FVN7ZsXcaGsA44fGMW5wLB3b+5tcpZhNYURERJpcpaOGRdkFzM3MZW9xuWs8pXtH0lPj+GGfCHy0Yq6coTAiIiJNJqekgnlrc/nHxnzKq+ratAf6enPXwC5MTImnV2SwyRWKO1IYERGRK+J0Gqzaf4y5mTms3HfMtWJufMd2TEiJ58fJMVgD1aZdLkxhREREGsVWVc1HGw8zLyuHnOOVrvEbenUmPTWe63t2xksr5splUBgREZEG2VdczpzMHBZlF1DpqAUgOMCHu5NjmZgSR3ynIJMrFE+jMCIiIpdUU+vky91HmZOZQ9bB467xqyPaMzElnh8N6EKQv15SpHH0myMiIhd0osLBgg15vLc2j4LSuhVzvSyQ1jeSialxpHTvqDbtcsUURkRE5BzbD5fxbmYOn247gqOmbsXcsCA/xg2OZfzQOLqEBppcobQmCiMiIgKAo8bJZzsKeTczh+y8Utd4vy5W0lPjGZ0URYCv2rRL01MYERFp44ptVby3Lo/31+VRcqpuxVxfbwu39YtiYmo8A2JD9VaMNCuFERGRNsgwDDbmnmROZg7LdhRRc6ZNe0SIP+OHxDHu2ljCg7VirrQMhRERkTbktKOWxVsLmJOZy65Cm2t8cHwH0lPjuSUhEl+1aZcWpjAiItIG5J+oZP7aXD7cmE9pZTUA/j5e3HlNFyamxpEQbTW5QmnLFEZERFopwzD4+kAJczJz+feeYleb9pgOgUxMieMng2IJbednbpEiKIyIiLQ6p+w1ZGw6zNysHL49VuEaH9azE+kp8dzYOxxvtWkXN6IwIiLSSnx77BRzM3PI2FzAKXvdirlBft78ODmGCSnx9Ahvb3KFIuenMCIi4sFqnQYr9hxlTlYOa/aXuMa7dw4iPSWeuwZ2IThAK+aKe1MYERHxQKWVDv6xMZ95a3PJP1HXpt1igRG9I0hPjeO6Hp3UG0Q8RoM+vzVz5kySkpIICQkhJCSElJQUPvvss4vus2rVKpKTkwkICKB79+7MmjXrigoWEWnLdh2x8WTGNoZO/zd/WrqH/BOnsQb68ovh3Vn93zfyVvoghvXsrCAiHqVBZ0ZiYmJ48cUX6dGjBwBz5szhjjvuIDs7m4SEhHO2P3ToEKNGjeLBBx9k/vz5fPPNN/zqV7+ic+fOjB07tmlmICLSylXXOvl8ZxFzM3NZn3PCNd4nKoRJqXHc3r8LgX5q0y6ey2IYZz/s1ThhYWH89a9/5f777z/nsSeeeILFixeze/du19jkyZPZunUrWVlZl/09bDYbVquVsrIyQkJCrqRcERGPcazczgfr83hvXS7Ftro27T5eFm5NjCQ9NZ5BcR10BkTc2uW+fjf6mpHa2lo++ugjKioqSElJOe82WVlZpKWl1Ru75ZZbmD17NtXV1fj66qIqEZHvMgyDLfmlzMnMYcn2Qqpr6/6/2Km9P/cO6cq913Yl0qo27dK6NDiMbN++nZSUFKqqqmjfvj2LFi2ib9++5922qKiIiIiIemMRERHU1NRQUlJCVFTUefez2+3Y7XbXfZvNdt7tRERai6rqWv61rZC5WTlsO1zmGh/QNZRJqfHcmhiJv4/eipHWqcFhpFevXmzZsoXS0lIyMjJIT09n1apVFwwk3z+FePZdoYudWpw+fTrPP/98Q0sTEfE4R0pPM39tLgs25HOiwgGAn48XY5KiSU+NIykm1NwCRVpAg8OIn5+f6wLWQYMGsWHDBv7+97/zxhtvnLNtZGQkRUVF9caOHj2Kj48PHTt2vOD3mDZtGlOmTHHdt9lsxMbGNrRUERG3ZBgGaw+eYE5mDl/sKuLMgrlEWwMYPzSOcYNj6dje39wiRVrQFfcZMQyj3lsq35WSksKnn35ab+yLL75g0KBBF71exN/fH39/PRFFpHWpdNSwKLuAuZm57C0ud42ndO9IemocP+wTgY9WzJU2qEFh5KmnnmLkyJHExsZSXl7OggULWLlyJcuWLQPqzmgUFBQwd+5coO6TM6+++ipTpkzhwQcfJCsri9mzZ/PBBx80/UxERNxUTkkF89bm8o+N+ZRX1bVpD/T15q6BXZiYEk+vyGCTKxQxV4PCSHFxMRMmTKCwsBCr1UpSUhLLli3j5ptvBqCwsJC8vDzX9t26dWPp0qU8/vjjvPbaa0RHR/PKK6+ox4iItHpOp8Gq/ceYm5nDyn3HXCvmxndsx4SUeH6cHIM1UJ8oFIEm6DPSEtRnREQ8Rdnpav656TDzsnLIOV7pGr+hV2fSU+O5vmdnvLRirrQRzd5nRERE/mNvUTlzs3JYlF1ApaMWgOAAH+5OjmViShzxnYJMrlDEfSmMiIg0Uk2tky93FzMnM5esg8dd41dHtCc9NZ47r+lCkL/+zIpcip4lIiINdKLCUdemfW0uR8qqAPCyQFrfujbtQ7uHqU27SAMojIiIXKbth8t4NzOHT7cdwVHjBCAsyI9xg2MZPzSOLqGBJlco4pkURkRELsJR4+SzHYW8m5lDdl6pa7xfFyvpqfGMTooiwFdt2kWuhMKIiMh5FNuqeG9tLu+vz6fkVF1jR19vC7f1i2JiajwDYkP1VoxIE1EYERE5wzAMNuae5N3MHD7fUUTNmT7tESH+jB8Sx7hrYwkP1oq5Ik1NYURE2rzTjloWby1gTmYuuwr/s0r4tfFhTEyN45aESHzVpl2k2SiMiEiblX+ikvlrc/lwYz6lldUABPh6cec1XZiQEkdCtNXkCkXaBoUREWlTDMPg6wMlzMnM5d97il1t2mM6BDIxJY6fDIoltJ2fuUWKtDEKIyLSJpyy15Cx6TBzs3L49liFa3xYz06kp8RzY+9wvNWmXcQUCiMi0qp9e+wUczNzyNhcwCl73Yq5QX7e/Dg5hgkp8fQIb29yhSKiMCIirU6t02DFnqPMycphzf4S13j3zkGkp8Rz18AuBAdoxVwRd6EwIiKtRmmlg39szGfe2lzyT5wGwGKBEb0jmJQazw96dFRvEBE3pDAiIh5v1xEbc7Ny+HhLAVXVdW3arYG+jBscy31D44gNa2dyhSJyMQojIuKRqmudfL6ziLmZuazPOeEa7xMVwqTUOG7v34VAP7VpF/EECiMi4lGOllexYH0+763LpdhW16bdx8vCrYl1K+YOiuugt2JEPIzCiIi4PcMwyM4vZW5mDku2F1JdW9ccpFN7f+4d0pV7r+1KpFVt2kU8lcKIiLitqupa/rWtkLlZOWw7XOYaH9A1lEmp8dyaGIm/j96KEfF0CiMi4naOlJ5m/tpcFmzI50SFAwA/Hy/GJEWTnhpHUkyouQWKSJNSGBERt2AYBmsPnmBOZg5f7CrizIK5RFsDGD80jnGDY+nY3t/cIkWkWSiMiIipKuw1fLylgLmZuewtLneNp3TvSHpqHD/sE4GPVswVadUURkTEFPknKnnnmxw+2pRPeVVdm/ZAX2/uGtiFiSnx9IoMNrlCEWkpCiMi0qJqap3835pD/O3LfThq6hqUxXdsx4SUeH6cHIM1UG3aRdoahRERaTE7j5TxRMY2dhTYABjaPYxfXH8V1/fsjJdWzBVpsxRGRKTZVVXX8r9f7WfWqoPUOg2sgb48M7ovYwd2UYMyEVEYEZHmtSHnBE9kbOPgsQoAbusXxXO3J9A5WJ+MEZE6CiMi0ixO2Wv4y7I9zM3KBaBzsD+/vyORWxMjTa5MRNyNwoiINLkVe4/y9MLtHCmrAuCeQbE8NaoP1na6OFVEzqUwIiJN5kSFg9//axeLsgsAiA0L5MW7kvhBj04mVyYi7kxhRESumGEY/GtbIc8t3snxCgdeFvj5D7oxJe1q2vnpz4yIXJz+SojIFSkqq+J3H+/gy93FAFwd0Z4/j01iQNcOJlcmIp5CYUREGsUwDBZsyOdPS3ZTbq/B19vCQzf24Fc39MDPR+3bReTyKYyISIPllFQwbeF2sg4eB6B/bCh/GZukFu4i0igKIyJy2WpqnbzzTQ7/b/leqqqdBPh6MTWtFz/7QTe81UFVRBqpQedSp0+fzuDBgwkODiY8PJw777yTvXv3XnSflStXYrFYzrnt2bPnigoXkZa1p8jG2JmZ/HHpbqqqnaRe1ZEvHrueB4Z1VxARkSvSoDMjq1at4qGHHmLw4MHU1NTw9NNPk5aWxq5duwgKCrrovnv37iUkJMR1v3Pnzo2rWERalL2mlte+OsDrK7+lxmkQHODD727rw08GxaqVu4g0iQaFkWXLltW7/8477xAeHs6mTZsYPnz4RfcNDw8nNDS0wQWKiHk25Z7kiYxtHDh6CoC0vhH8/s5EIkICTK5MRFqTK7pmpKysDICwsLBLbjtgwACqqqro27cvv/vd77jxxhsvuK3dbsdut7vu22y2KylTRBqowl7DS1/s5d3MHAwDOrX344U7EhmZGKmzISLS5BodRgzDYMqUKVx33XUkJiZecLuoqCjefPNNkpOTsdvtzJs3jxEjRrBy5coLnk2ZPn06zz//fGNLE5ErsGb/MaYt3M7hk6cBGDswht/d1ocOQX4mVyYirZXFMAyjMTs+9NBDLFmyhK+//pqYmJgG7TtmzBgsFguLFy8+7+PnOzMSGxtLWVlZvetORKTplFVW84clu/ho02EAuoQG8qe7+nH91bq+S0Qax2azYbVaL/n63agzI4888giLFy9m9erVDQ4iAEOHDmX+/PkXfNzf3x9/fy0vLtJSlu0o5JlPdnKs3I7FAukp8Uy9pRft/fXpfxFpfg36S2MYBo888giLFi1i5cqVdOvWrVHfNDs7m6ioqEbtKyJN52h5Fc9+spPPdhQBcFXnIP48NolB8Ze+DkxEpKk0KIw89NBDvP/++3zyyScEBwdTVFT3B8xqtRIYGAjAtGnTKCgoYO7cuQDMmDGD+Ph4EhIScDgczJ8/n4yMDDIyMpp4KiJyuQzD4J+bDvP7f+3CVlWDj5eFyddfxcM39SDA19vs8kSkjWlQGJk5cyYAN9xwQ73xd955h0mTJgFQWFhIXl6e6zGHw8HUqVMpKCggMDCQhIQElixZwqhRo66schFplPwTlTy1aDtr9pcAkNglhD+PTSIh2mpyZSLSVjX6AtaWdLkXwIjIhdU6DeZk5vDXz/dyuroWfx8vptx8Nfdf1w0fby1sJyJNr1kvYBURz7K/uJzfZmwjO68UgGu7hfHnsUl063TxzskiIi1BYUSkFXPUOJm16lte/eoAjlon7f19mDaqNz8d3BUvrScjIm5CYUSkldqaX8oTGdvYU1QOwIje4fzhR4lEWQNNrkxEpD6FEZFW5rSjlr99uY+31hzEaUBYkB/P3Z7AmKQotXIXEbekMCLSimR+W8K0hdvJPV4JwJ3XRPM/YxIIUyt3EXFjCiMirYCtqprpS/fwwfq6j9VHWQP4448Sual3hMmViYhcmsKIiIdbvquY3328nWJb3XpO9w3tyhO39iY4wNfkykRELo/CiIiHKjll57nFO/nXtkIAunUK4sW7+jGke0eTKxMRaRiFEREPYxgGi7ILeOFfuyitrMbby8KDw7rz2A97qpW7iHgkhRERD1JQepqnFm5n1b5jAPSNCuEvP04isYtauYuI51IYEfEATqfB/HW5/PmzPVQ4avHz8eLXI3ryX8O746tW7iLi4RRGRNzct8dO8WTGNjbknARgUFwHXhybRI/w9iZXJiLSNBRGRNxUda2TN1cf5O//3o+jxkmQnzdPjOzNfUPi1MpdRFoVhRERN7SjoIzf/nMbuwptAFx/dWf++KNEYjq0M7kyEZGmpzAi4kaqqmv5+7/38+bqg9Q6DULb+fI/o/vyowFd1MpdRFothRERN7H+0AmezNjGwZIKAG5LiuK5MQl0DvY3uTIRkealMCJisvKqav68bA/z19a1cg8P9uf3dyZyS0KkyZWJiLQMhRERE63Yc5SnFm2nsKwKgJ9eG8uTI/tgDVQrdxFpOxRGRExwosLBC5/u5OMtRwDoGtaOF+/qR2qPTiZXJiLS8hRGRFqQYRh8uq2Q5xbv5ESFAy8L3H9dN6bc3ItAP7VyF5G2SWFEpIUUlp3mmY938OXuowD0igjmzz9O4prYUHMLExExmcKISDNzOg0WbMhn+tLdlNtr8PW28PCNPfnlDVfh56NW7iIiCiMizSinpIInF25j7cETAFwTG8pffpzE1RHBJlcmIuI+FEZEmkFNrZPZXx/i5eX7sNc4CfT1ZuotvZiUGo+3WrmLiNSjMCLSxHYdsfFExja2F5QBcF2PTky/qx+xYWrlLiJyPgojIk3EXlPLq18dYObKb6lxGoQE+PC70X25OzlGrdxFRC5CYUSkCWzKPcETGds5cPQUALcmRPLCHQmEhwSYXJmIiPtTGBG5AhX2Gv76+V7mZOVgGNCpvT+/vyOBkf2izC5NRMRjKIyINNLqfceYtnA7BaWnAbg7OYanb+tDaDs/kysTEfEsCiMiDVRa6eD3/9pNxubDAMR0CORPP+rH8Ks7m1yZiIhnUhgRuUyGYfDZjiL+55MdlJxyYLHApNR4pqb1IshfTyURkcbSX1CRy3DUVsUzn+zg853FAPQIb8+fxyaRHNfB5MpERDyfwojIRRiGwUcbD/P7Jbsor6rBx8vCr264iodu6oG/jxa2ExFpCgojIheQd7ySaYu28c2B4wAkxVj589gk+kSFmFyZiEjr0qBVuqZPn87gwYMJDg4mPDycO++8k717915yv1WrVpGcnExAQADdu3dn1qxZjS5YpLnVOg3eWnOQW2as5psDx/H38eKpUb1Z+MtUBRERkWbQoDCyatUqHnroIdauXcvy5cupqakhLS2NioqKC+5z6NAhRo0axbBhw8jOzuapp57i0UcfJSMj44qLF2lqe4vKGTszkz8s2c3p6lqGdg/j88eG81/Dr8LHWyvsiog0B4thGEZjdz527Bjh4eGsWrWK4cOHn3ebJ554gsWLF7N7927X2OTJk9m6dStZWVmX9X1sNhtWq5WysjJCQvQ/U2l6jhonr688wGsrDlBdaxDs78NTt/XhnkGxeGlhOxGRRrnc1+8rumakrKxuIbCwsLALbpOVlUVaWlq9sVtuuYXZs2dTXV2Nr6/vOfvY7Xbsdrvrvs1mu5IyRS5qS34pT/xzG3uLywH4YZ9w/nBnPyKtauUuItISGh1GDMNgypQpXHfddSQmJl5wu6KiIiIiIuqNRUREUFNTQ0lJCVFR57bNnj59Os8//3xjSxO5LJWOGl7+Yh9vf3MIpwEdg/x47vYERidFaWE7EZEW1Ogw8vDDD7Nt2za+/vrrS277/T/sZ98ZutAf/GnTpjFlyhTXfZvNRmxsbGNLFTlH5oESnly4nbwTlQD8aEAXnhndl7AgtXIXEWlpjQojjzzyCIsXL2b16tXExMRcdNvIyEiKiorqjR09ehQfHx86dux43n38/f3x9/dvTGkiF1V2uprpS3ezYEM+ANHWAP74o37c2Dvc5MpERNquBoURwzB45JFHWLRoEStXrqRbt26X3CclJYVPP/203tgXX3zBoEGDznu9iEhz+XxnEc98vIOj5XXXI00YGsdvb+1FcIB+D0VEzNSgMPLQQw/x/vvv88knnxAcHOw642G1WgkMDATq3mIpKChg7ty5QN0nZ1599VWmTJnCgw8+SFZWFrNnz+aDDz5o4qmInN+xcjvPLd7Jku2FAHTvFMSLY5O4ttuFL7wWEZGW06AwMnPmTABuuOGGeuPvvPMOkyZNAqCwsJC8vDzXY926dWPp0qU8/vjjvPbaa0RHR/PKK68wduzYK6tc5BIMw2Dh5gJe+Ncuyk5X4+1l4RfDu/PoiJ4E+KqVu4iIu7iiPiMtRX1GpKEOn6zkqUU7WL3vGAB9o0L4y4+TSOxiNbkyEZG2o0X6jIi4G6fTYN7aXP68bA+Vjlr8fLx47Ic9eXBYd3zVQVVExC0pjEirceDoKZ7M2MbG3JMADI7vwItjk7iqc3uTKxMRkYtRGBGPV13r5M3VB/n7l/tx1DoJ8vPmyZG9GT8kTq3cRUQ8gMKIeLTth8v4bcY2dhfWLRlwQ6/O/PFH/egSGmhyZSIicrkURsQjVVXX8rcv9/HWmkPUOg06tPPl2TEJ3HFNtFq5i4h4GIUR8TjbD5fx6IJsDpVUADCmfzTPjulLp/bq2isi4okURsSjrD90gp+/u4FT9hoiQvz5w539uLlvxKV3FBERt6UwIh5j1b5j/GLeRqqqnQztHsYbEwZhDVQrdxERT6cwIh7h851FPPJ+No5aJzf06sys+5LVRVVEpJVQGBG393F2Ab/5aCu1ToORiZH8fdwA/HzUwExEpLVQGBG39v66PJ7+eDuGAWMHxvDnsf3wUSdVEZFWRWFE3NZbaw7yhyW7AZgwNI7nb09QEzMRkVZIYUTcjmEYvPLvA/zty30A/OL67jx5a2/1DxERaaUURsStGIbB9M/28ObqgwD85uarefimHgoiIiKtmMKIuA2n0+CZT3bw3ro8AJ4Z3Zf7r+tmclUiItLcFEbELdTUOvntP7exMLsAiwWm/6gf467tanZZIiLSAhRGxHT2mlp+/cEWlu0swtvLwss/6c8d13QxuywREWkhCiNiqtOOWibP38Sqfcfw8/bi1XsHkJYQaXZZIiLSghRGxDTlVdXcP2cj6w+dINDXmzcnJjOsZ2ezyxIRkRamMCKmKK10kP72erYeLiPY34e3fzaYwfFhZpclIiImUBiRFnes3M6E2evYU1ROaDtf5v18CP1irGaXJSIiJlEYkRZ1pPQ09721joMlFXQO9mf+/UPoFRlsdlkiImIihRFpMbnHK7j3/9ZRUHqaLqGBzH9gCN06BZldloiImExhRFrE/uJyxr+1jqPldrp1CmL+A0PoEhpodlkiIuIGFEak2e0oKGPC7HWcrKymV0Qw8x64lvDgALPLEhERN6EwIs1qU+4JJr29gXJ7DUkxVub87Fo6BPmZXZaIiLgRhRFpNt8cKOGBORs5XV3LtfFhzJ40iOAAX7PLEhERN6MwIs3iy13F/Or9zThqnAzr2Yk3Jwwi0M/b7LJERMQNKYxIk/t06xEe/3ALNU6DtL4R/O+9A/D3URAREZHzUxiRJvWPDfk8sXAbhgF3XBPNS3f3x9fby+yyRETEjSmMSJN555tDPP/pLgB+em1X/nBnIt5eFpOrEhERd6cwIk3itRUH+OvnewF44LpuPH1bHywWBREREbk0hRG5IoZh8JfP9zJz5bcA/HpETx77YU8FERERuWwKI9JoTqfB85/uZE5WLgBPjerNfw2/yuSqRETE0zT4ysLVq1czZswYoqOjsVgsfPzxxxfdfuXKlVgslnNue/bsaWzN4gZqnQa/zdjGnKxcLBb4w52JCiIiItIoDT4zUlFRQf/+/fnZz37G2LFjL3u/vXv3EhIS4rrfuXPnhn5rcROOGiePf7iFJdsL8bLAS3f3566BMWaXJSIiHqrBYWTkyJGMHDmywd8oPDyc0NDQBu8n7qWqupZfvbeZr/Ycxdfbwv/+dAC3JkaZXZaIiHiwFmsAMWDAAKKiohgxYgQrVqxoqW8rTajCXsPP3tnAV3uO4u/jxf9NHKQgIiIiV6zZL2CNiorizTffJDk5Gbvdzrx58xgxYgQrV65k+PDh593Hbrdjt9td9202W3OXKZdQdrqan72zns15pQT5eTN70mCGdu9odlkiItIKNHsY6dWrF7169XLdT0lJIT8/n5deeumCYWT69Ok8//zzzV2aXKbjp+xMmL2eXYU2rIG+zPn5tVwTG2p2WSIi0kqY0qd76NCh7N+//4KPT5s2jbKyMtctPz+/BauT7yoqq+KeN9eyq9BGp/Z+LPivoQoiIiLSpEzpM5KdnU1U1IWvNfD398ff378FK5LzyT9Ryb1vrSX/xGmirAHMf2AIV3Vub3ZZIiLSyjQ4jJw6dYoDBw647h86dIgtW7YQFhZG165dmTZtGgUFBcydOxeAGTNmEB8fT0JCAg6Hg/nz55ORkUFGRkbTzUKa3IGjp7jvrXUU2aroGtaO9x4YQmxYO7PLEhGRVqjBYWTjxo3ceOONrvtTpkwBID09nXfffZfCwkLy8vJcjzscDqZOnUpBQQGBgYEkJCSwZMkSRo0a1QTlS3PYdcTGhNnrOF7hoGd4e+Y/MISIkACzyxIRkVbKYhiGYXYRl2Kz2bBarZSVldVrnCZNb3PeSSa9vR5bVQ0J0SHMu38IYUF+ZpclIiIe6HJfv7U2jbhkfXuc++dsoNJRS3JcB96eNBhroK/ZZYmISCunMCIArNhzlMnzN2GvcfKDHh15c8Iggvz16yEiIs1PrzbCZ9sLeXRBNtW1Bj/sE86r9w4kwNfb7LJERKSNUBhp4/656TC//edWnAaMTorib/dcg6+3Ke1nRESkjVIYacPmZeXwzCc7AfjJoBim35WEt5fF5KpERKStURhpo2at+pYXP9sDwKTUeP5ndF+8FERERMQECiNtjGEY/G35Pl75qq5x3cM39uA3aVdjsSiIiIiIORRG2hDDMPj9v3bz9jeHAPjtrb341Q09TK5KRETaOoWRNqLWafD0ou0s2FC36ODztyeQnhpvblEiIiIojLQJ1bVOfvOPrSzeegQvC7w4NomfDIo1uywRERFAYaTVq6qu5ZEPslm+qxgfLwt/HzeA25IuvGKyiIhIS1MYacUqHTX8Yt4m1uwvwc/Hi1n3DeSm3hFmlyUiIlKPwkgrZauq5ufvbGBj7kna+Xnz1sRBpPboZHZZIiIi51AYaYVOVDhIf3s92wvKCA7w4d2fXUtyXAezyxIRETkvhZFW5vgpOz/9v7XsKz5FWJAfc39+LYldrGaXJSIickEKI61ITa2TX723mX3Fp4gI8ee9B4bQIzzY7LJEREQuSiuitSLTP9vDukMnCPLzZv79CiIiIuIZFEZaiU+2FDD767rOqv/vJ/3pGaEgIiIinkFhpBXYXWjjiYxtAPzyhqu4NVF9RERExHMojHi4sspqJs/fRFW1k2E9OzE1rZfZJYmIiDSIwogHczoNHvswm9zjlXQJDeSVcQPw9tLquyIi4lkURjzYjH/vZ8XeY/j7ePHGhGQ6BPmZXZKIiEiDKYx4qC93FfPKv/cDMP2ufuolIiIiHkthxAMdKqng8Q+3AJCeEsddA2PMLUhEROQKKIx4mAp7Db+Yt5Fyew2D4jrw9G19zS5JRETkiiiMeBDDMPhtxjb2FZ8iPNif18cPxM9Hh1BERDybXsk8yP+tOciSbYX4eluYed9AwkMCzC5JRETkiimMeIjMAyW8+NkeAP5ndF+S48JMrkhERKRpKIx4gILS0zz8QTZOA8YOjOG+oXFmlyQiItJkFEbcXFV1Lb+cv4kTFQ4Su4Twxx8lYrGosZmIiLQeCiNuzDAMnvl4B9sOl9GhnS+z7ksmwNfb7LJERESalMKIG3t/fR4fbTqMlwVe+ekAYjq0M7skERGRJqcw4qY2553kucU7AfjvW3ozrGdnkysSERFpHgojbuhoeRW/nL+J6lqDkYmRTL6+u9kliYiINBuFETdTXevk4feyKbbZ6RHenr/e3V8XrIqISKvW4DCyevVqxowZQ3R0NBaLhY8//viS+6xatYrk5GQCAgLo3r07s2bNakytbcKflu5mfc4J2vv78MaEZNr7+5hdkoiISLNqcBipqKigf//+vPrqq5e1/aFDhxg1ahTDhg0jOzubp556ikcffZSMjIwGF9vafZxdwDvf5ADw/37Sn6s6tze3IBERkRbQ4P92jxw5kpEjR1729rNmzaJr167MmDEDgD59+rBx40Zeeuklxo4d29Bv32rtOmLjyYXbAHj4xh7ckhBpckUiIiIto9mvGcnKyiItLa3e2C233MLGjRuprq4+7z52ux2bzVbv1pqVVjr4xfyNVFU7uf7qzjx+89VmlyQiItJimj2MFBUVERERUW8sIiKCmpoaSkpKzrvP9OnTsVqtrltsbGxzl2maWqfBowu2kH/iNLFhgfx93DV4e+mCVRERaTta5NM03/80iGEY5x0/a9q0aZSVlblu+fn5zV6jWWZ8uY/V+44R4OvFG/cNIrSdn9kliYiItKhm/6hGZGQkRUVF9caOHj2Kj48PHTt2PO8+/v7++Pv7N3dppvtiZxH/+9UBAF68K4m+0SEmVyQiItLymv3MSEpKCsuXL6839sUXXzBo0CB8fX2b+9u7rW+PnWLKP7YC8LMfxHPngC4mVyQiImKOBoeRU6dOsWXLFrZs2QLUfXR3y5Yt5OXlAXVvsUycONG1/eTJk8nNzWXKlCns3r2bt99+m9mzZzN16tSmmYEHOmWv4RfzNnHKXsO18WE8NaqP2SWJiIiYpsFv02zcuJEbb7zRdX/KlCkApKen8+6771JYWOgKJgDdunVj6dKlPP7447z22mtER0fzyiuvtNmP9RqGwX9/tJUDR08REeLPq+MH4OutRrgiItJ2WYyzV5O6MZvNhtVqpaysjJAQz76uYtaqb3nxsz34elv48BcpDOzaweySREREmsXlvn7rv+QtaM3+Y/xl2R4Anrs9QUFEREQEhZEWk3+ikkc/yMZpwE8GxXDvtV3NLklERMQtKIy0gKrqWn753iZOVlaTFGPlhTsStRKviIjIGQojzcwwDJ5etIMdBTbCgvyYeV8yAb7eZpclIiLiNhRGmtl76/LI2HwYLwu8+tMBdAkNNLskERERt6Iw0oyKyqr409LdADxxa29Se3QyuSIRERH3ozDSjKZ/tptKRy3JcR14cFh3s8sRERFxSwojzWTdweN8suUIFgs8f3sCXlqJV0RE5LwURppBTa2TZxfvBODea7uS2MVqckUiIiLuS2GkGcxfm8ueonJC2/kyNa2X2eWIiIi4NYWRJlZyys7Ly/cB8N+39KJDkJ/JFYmIiLg3hZEm9tdle7FV1ZDYJYRxg9VlVURE5FIURprQlvxSPtyYD9RdtOqti1ZFREQuSWGkiTidBs9+sgOAsQNjSI4LM7kiERERz6Aw0kQ+2pTP1sNltPf34YmRumhVRETkcimMNIGyymr+vGwvAI/9sCfhwQEmVyQiIuI5FEaawN++3MeJCgc9w9uTnhpvdjkiIiIeRWHkCu0utDE3Kweou2jV11s/UhERkYbQK+cVMAyDZz/ZidOA2/pFaSE8ERGRRlAYuQKLtx5hfc4JAn29eeq2PmaXIyIi4pEURhrplL2GPy3dDcDDN/WgS2igyRWJiIh4JoWRRvrfr/ZTbLMT17EdDwzrZnY5IiIiHkthpBG+PXaKt78+BMCzY/ri7+NtckUiIiKeS2GkgQzD4LnFO6muNRjRO5ybekeYXZKIiIhHUxhpoC92FbNmfwl+3l48M7qv2eWIiIh4PIWRBqiqruX3/9oFwH8N7058pyCTKxIREfF8CiMNMGvVtxw+eZpoawC/uvEqs8sRERFpFRRGLlP+iUpmrvwWgKdv60s7Px+TKxIREWkdFEYu0x+W7MJe4yT1qo6M6hdpdjkiIiKthsLIZcg7XsnnO4vxssBztydgsVjMLklERKTVUBi5DJ9uOwJAylUduToi2ORqREREWheFkcuweEtdGLmjfxeTKxEREWl9FEYuYU+Rjb3F5fh5e3FLoq4VERERaWoKI5dw9qzIDb06Yw30NbkaERGR1qdRYeT111+nW7duBAQEkJyczJo1ay647cqVK7FYLOfc9uzZ0+iiW4phGCzeeuYtmmv0Fo2IiEhzaHAY+fDDD3nsscd4+umnyc7OZtiwYYwcOZK8vLyL7rd3714KCwtdt549eza66JayOa+UwydPE+TnzYg+4WaXIyIi0io1OIy8/PLL3H///TzwwAP06dOHGTNmEBsby8yZMy+6X3h4OJGRka6bt7f7r3S7eEsBALckRBLg6/71ioiIeKIGhRGHw8GmTZtIS0urN56WlkZmZuZF9x0wYABRUVGMGDGCFStWXHRbu92OzWard2tpNbVOlmwvBGDMNdEt/v1FRETaigaFkZKSEmpra4mIiKg3HhERQVFR0Xn3iYqK4s033yQjI4OFCxfSq1cvRowYwerVqy/4faZPn47VanXdYmNjG1Jmk8j89jglpxyEBflxXY9OLf79RURE2opGLbDy/Q6khmFcsCtpr1696NWrl+t+SkoK+fn5vPTSSwwfPvy8+0ybNo0pU6a47ttsthYPJGcvXB3VLxJfb33oSEREpLk06FW2U6dOeHt7n3MW5OjRo+ecLbmYoUOHsn///gs+7u/vT0hISL1bS6qqrmXZjro56lM0IiIizatBYcTPz4/k5GSWL19eb3z58uWkpqZe9tfJzs4mKiqqId+6Ra3Yc5RT9hq6hAaS3LWD2eWIiIi0ag1+m2bKlClMmDCBQYMGkZKSwptvvkleXh6TJ08G6t5iKSgoYO7cuQDMmDGD+Ph4EhIScDgczJ8/n4yMDDIyMpp2Jk3o7Fs0o/tH4eWlRfFERESaU4PDyD333MPx48d54YUXKCwsJDExkaVLlxIXFwdAYWFhvZ4jDoeDqVOnUlBQQGBgIAkJCSxZsoRRo0Y13SyakK2qmn/vOQpoLRoREZGWYDEMwzC7iEux2WxYrVbKysqa/fqRf246zNSPttIjvD3LHx9+wQtzRURE5OIu9/VbHxP5nk/ONDq7o3+0goiIiEgLUBj5jmPldjK/PQ7AmP5qdCYiItISFEa+Y+n2QmqdBv1jQ4nvFGR2OSIiIm2Cwsh3uFbo1VkRERGRFqMwcsbxU3Y25Z7EYoHRSe7bA0VERKS1URg54/DJ0wBEBAcQHhJgcjUiIiJth8LIGYVldWEk0qogIiIi0pIURs4oLKsCIDpUYURERKQlKYyccTaMRIYEmlyJiIhI26IwcobOjIiIiJhDYeSMwlJdMyIiImIGhZEzzp4ZibLqbRoREZGWpDAC1DoNim16m0ZERMQMCiPUNTyrcRp4WaBze3+zyxEREWlTFEaAI2feookICcDHWz8SERGRlqRXXqBIDc9ERERMozACHCk9c72ILl4VERFpcQojQNGZi1d1ZkRERKTlKYwAR870GIlSGBEREWlxCiNAkXqMiIiImEZhhO80PFOPERERkRbX5sPIdxue6W0aERGRltfmw0jJmYZn3l4WwoMVRkRERFpamw8jZ9+iCQ/2x9vLYnI1IiIibY/CiD5JIyIiYqo2H0aO6JM0IiIipmrzYeRsK3idGRERETFHmw8jZ8+MqPuqiIiIOdp8GDnb8Cw6VG/TiIiImKHNh5GzF7DqzIiIiIg52nQYqXUaFJfbAa3YKyIiYpY2HUaOldupPdPwrHOwv9nliIiItEltOowUnvkkTYQanomIiJimjYcRfZJGRETEbI0KI6+//jrdunUjICCA5ORk1qxZc9HtV61aRXJyMgEBAXTv3p1Zs2Y1qtim9p/VenW9iIiIiFkaHEY+/PBDHnvsMZ5++mmys7MZNmwYI0eOJC8v77zbHzp0iFGjRjFs2DCys7N56qmnePTRR8nIyLji4q/U2U/SROvMiIiIiGkaHEZefvll7r//fh544AH69OnDjBkziI2NZebMmefdftasWXTt2pUZM2bQp08fHnjgAX7+85/z0ksvXXHxV6rQdvZtGp0ZERERMUuDwojD4WDTpk2kpaXVG09LSyMzM/O8+2RlZZ2z/S233MLGjRuprq5uYLlN67Z+UfxieHcGdg01tQ4REZG2zKchG5eUlFBbW0tERES98YiICIqKis67T1FR0Xm3r6mpoaSkhKioqHP2sdvt2O12132bzdaQMi/bqH5RjOp37vcXERGRltOoC1gtlvofgzUM45yxS21/vvGzpk+fjtVqdd1iY2MbU6aIiIh4gAaFkU6dOuHt7X3OWZCjR4+ec/bjrMjIyPNu7+PjQ8eOHc+7z7Rp0ygrK3Pd8vPzG1KmiIiIeJAGhRE/Pz+Sk5NZvnx5vfHly5eTmpp63n1SUlLO2f6LL75g0KBB+Pr6nncff39/QkJC6t1ERESkdWrw2zRTpkzhrbfe4u2332b37t08/vjj5OXlMXnyZKDurMbEiRNd20+ePJnc3FymTJnC7t27efvtt5k9ezZTp05tulmIiIiIx2rQBawA99xzD8ePH+eFF16gsLCQxMREli5dSlxcHACFhYX1eo5069aNpUuX8vjjj/Paa68RHR3NK6+8wtixY5tuFiIiIuKxLMbZq0ndmM1mw2q1UlZWprdsREREPMTlvn636bVpRERExHwKIyIiImIqhRERERExlcKIiIiImEphREREREylMCIiIiKmUhgRERERUzW46ZkZzrZCaa7Ve0VERKTpnX3dvlRLM48II+Xl5QBavVdERMQDlZeXY7VaL/i4R3RgdTqdHDlyhODgYCwWyxV9LZvNRmxsLPn5+a22m2trn2Nrnx9ojq2F5uj5Wvv8oHnnaBgG5eXlREdH4+V14StDPOLMiJeXFzExMU36NdvCasCtfY6tfX6gObYWmqPna+3zg+ab48XOiJylC1hFRETEVAojIiIiYqo2F0b8/f159tln8ff3N7uUZtPa59ja5weaY2uhOXq+1j4/cI85esQFrCIiItJ6tbkzIyIiIuJeFEZERETEVAojIiIiYiqFERERETFVmwojr7/+Ot26dSMgIIDk5GTWrFljdkmXZfr06QwePJjg4GDCw8O588472bt3b71tJk2ahMViqXcbOnRovW3sdjuPPPIInTp1IigoiNtvv53Dhw+35FQu6Lnnnjun/sjISNfjhmHw3HPPER0dTWBgIDfccAM7d+6s9zXceX4A8fHx58zRYrHw0EMPAZ55DFevXs2YMWOIjo7GYrHw8ccf13u8qY7byZMnmTBhAlarFavVyoQJEygtLW3m2dW52Byrq6t54okn6NevH0FBQURHRzNx4kSOHDlS72vccMMN5xzbcePG1dvGrDle6hg21e+lux5D4LzPS4vFwl//+lfXNu58DOHyXifc+fnYZsLIhx9+yGOPPcbTTz9NdnY2w4YNY+TIkeTl5Zld2iWtWrWKhx56iLVr17J8+XJqampIS0ujoqKi3na33norhYWFrtvSpUvrPf7YY4+xaNEiFixYwNdff82pU6cYPXo0tbW1LTmdC0pISKhX//bt212P/eUvf+Hll1/m1VdfZcOGDURGRnLzzTe71i0C95/fhg0b6s1v+fLlANx9992ubTztGFZUVNC/f39effXV8z7eVMft3nvvZcuWLSxbtoxly5axZcsWJkyY0Ozzg4vPsbKyks2bN/PMM8+wefNmFi5cyL59+7j99tvP2fbBBx+sd2zfeOONeo+bNcdLHUNomt9Ldz2GQL25FRYW8vbbb2OxWBg7dmy97dz1GMLlvU649fPRaCOuvfZaY/LkyfXGevfubTz55JMmVdR4R48eNQBj1apVrrH09HTjjjvuuOA+paWlhq+vr7FgwQLXWEFBgeHl5WUsW7asOcu9LM8++6zRv3//8z7mdDqNyMhI48UXX3SNVVVVGVar1Zg1a5ZhGO4/v/P59a9/bVx11VWG0+k0DMPzjyFgLFq0yHW/qY7brl27DMBYu3ata5usrCwDMPbs2dPMs6rv+3M8n/Xr1xuAkZub6xq7/vrrjV//+tcX3Mdd5ni++TXF76W7zM8wLu8Y3nHHHcZNN91Ub8xTjuFZ33+dcPfnY5s4M+JwONi0aRNpaWn1xtPS0sjMzDSpqsYrKysDICwsrN74ypUrCQ8P5+qrr+bBBx/k6NGjrsc2bdpEdXV1vZ9BdHQ0iYmJbvMz2L9/P9HR0XTr1o1x48Zx8OBBAA4dOkRRUVG92v39/bn++utdtXvC/L7L4XAwf/58fv7zn9db/NHTj+F3NdVxy8rKwmq1MmTIENc2Q4cOxWq1uuW8y8rKsFgshIaG1ht/77336NSpEwkJCUydOrXe/0bdfY5X+nvp7vP7ruLiYpYsWcL9999/zmOedAy//zrh7s9Hj1go70qVlJRQW1tLREREvfGIiAiKiopMqqpxDMNgypQpXHfddSQmJrrGR44cyd13301cXByHDh3imWee4aabbmLTpk34+/tTVFSEn58fHTp0qPf13OVnMGTIEObOncvVV19NcXExf/jDH0hNTWXnzp2u+s53/HJzcwHcfn7f9/HHH1NaWsqkSZNcY55+DL+vqY5bUVER4eHh53z98PBwt5t3VVUVTz75JPfee2+9BcfGjx9Pt27diIyMZMeOHUybNo2tW7e63qpz5zk2xe+lO8/v++bMmUNwcDB33XVXvXFPOobne51w9+djmwgjZ333f6BQd8C+P+buHn74YbZt28bXX39db/yee+5x/TsxMZFBgwYRFxfHkiVLznlSfZe7/AxGjhzp+ne/fv1ISUnhqquuYs6cOa6L5Rpz/Nxlft83e/ZsRo4cSXR0tGvM04/hhTTFcTvf9u427+rqasaNG4fT6eT111+v99iDDz7o+ndiYiI9e/Zk0KBBbN68mYEDBwLuO8em+r101/l939tvv8348eMJCAioN+5Jx/BCrxPgvs/HNvE2TadOnfD29j4ntR09evSclOjOHnnkERYvXsyKFSuIiYm56LZRUVHExcWxf/9+ACIjI3E4HJw8ebLedu76MwgKCqJfv37s37/f9amaix0/T5pfbm4uX375JQ888MBFt/P0Y9hUxy0yMpLi4uJzvv6xY8fcZt7V1dX85Cc/4dChQyxfvvySy7APHDgQX1/fesfW3ed4VmN+Lz1lfmvWrGHv3r2XfG6C+x7DC71OuPvzsU2EET8/P5KTk12n085avnw5qampJlV1+QzD4OGHH2bhwoV89dVXdOvW7ZL7HD9+nPz8fKKiogBITk7G19e33s+gsLCQHTt2uOXPwG63s3v3bqKiolynRr9bu8PhYNWqVa7aPWl+77zzDuHh4dx2220X3c7Tj2FTHbeUlBTKyspYv369a5t169ZRVlbmFvM+G0T279/Pl19+SceOHS+5z86dO6murnYdW3ef43c15vfSU+Y3e/ZskpOT6d+//yW3dbdjeKnXCbd/Pjb60lcPs2DBAsPX19eYPXu2sWvXLuOxxx4zgoKCjJycHLNLu6Rf/vKXhtVqNVauXGkUFha6bpWVlYZhGEZ5ebnxm9/8xsjMzDQOHTpkrFixwkhJSTG6dOli2Gw219eZPHmyERMTY3z55ZfG5s2bjZtuusno37+/UVNTY9bUXH7zm98YK1euNA4ePGisXbvWGD16tBEcHOw6Pi+++KJhtVqNhQsXGtu3bzd++tOfGlFRUR4zv7Nqa2uNrl27Gk888US9cU89huXl5UZ2draRnZ1tAMbLL79sZGdnuz5J0lTH7dZbbzWSkpKMrKwsIysry+jXr58xevRo0+dYXV1t3H777UZMTIyxZcuWes9Pu91uGIZhHDhwwHj++eeNDRs2GIcOHTKWLFli9O7d2xgwYIBbzPFi82vK30t3PYZnlZWVGe3atTNmzpx5zv7ufgwN49KvE4bh3s/HNhNGDMMwXnvtNSMuLs7w8/MzBg4cWO+jse4MOO/tnXfeMQzDMCorK420tDSjc+fOhq+vr9G1a1cjPT3dyMvLq/d1Tp8+bTz88MNGWFiYERgYaIwePfqcbcxyzz33GFFRUYavr68RHR1t3HXXXcbOnTtdjzudTuPZZ581IiMjDX9/f2P48OHG9u3b630Nd57fWZ9//rkBGHv37q037qnHcMWKFef93UxPTzcMo+mO2/Hjx43x48cbwcHBRnBwsDF+/Hjj5MmTps/x0KFDF3x+rlixwjAMw8jLyzOGDx9uhIWFGX5+fsZVV11lPProo8bx48fdYo4Xm19T/l666zE864033jACAwON0tLSc/Z392NoGJd+nTAM934+Ws5MQkRERMQUbeKaEREREXFfCiMiIiJiKoURERERMZXCiIiIiJhKYURERERMpTAiIiIiplIYEREREVMpjIiIiIipFEZERETEVAojIiIiYiqFERERETGVwoiIiIiY6v8DvQhRbgCinqkAAAAASUVORK5CYII=",
      "text/plain": [
       "<Figure size 640x480 with 1 Axes>"
      ]
     },
     "metadata": {},
     "output_type": "display_data"
    }
   ],
   "source": [
    "plt.plot(res_array, mae_array)"
   ]
  },
  {
   "cell_type": "code",
   "execution_count": 77,
   "metadata": {},
   "outputs": [
    {
     "data": {
      "text/plain": [
       "[<matplotlib.lines.Line2D at 0x7f53e7c6ba60>]"
      ]
     },
     "execution_count": 77,
     "metadata": {},
     "output_type": "execute_result"
    },
    {
     "data": {
      "image/png": "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",
      "text/plain": [
       "<Figure size 640x480 with 1 Axes>"
      ]
     },
     "metadata": {},
     "output_type": "display_data"
    }
   ],
   "source": [
>>>>>>> 232cc99592f484f523f2b12e2b631a6e3eafe444
    "plt.plot(res_array, rate_array)"
   ]
  },
  {
   "cell_type": "markdown",
   "metadata": {},
   "source": [
    "# Checks"
   ]
  },
  {
   "cell_type": "code",
   "execution_count": null,
   "metadata": {},
   "outputs": [],
   "source": [
    "# Check that distance of any point to grid cell midpoint is never > 250.\n",
    "print(np.min((df[\"y\"]- df[\"y_500\"])))\n",
    "print(np.max((df[\"y\"]- df[\"y_500\"])))\n",
    "print(np.min((df[\"x\"]- df[\"x_500\"])))\n",
    "print(np.max((df[\"x\"]- df[\"x_500\"])))"
   ]
  },
  {
   "cell_type": "code",
   "execution_count": null,
   "metadata": {},
   "outputs": [],
   "source": [
    "x = np.arange(-3333250, 3333750, 500)\n",
    "x[6166]"
   ]
  },
  {
   "cell_type": "code",
   "execution_count": null,
   "metadata": {},
   "outputs": [],
   "source": [
    "(np.round((df.x - 250.0) / 500.0) * 500.0) + 250.0"
   ]
  },
  {
   "cell_type": "markdown",
   "metadata": {},
   "source": [
    "Only interested in bed topo:\n",
    "- Impute if surface & thickness are given\n",
    "- remote remaining rows without bed elevation value."
   ]
  },
  {
   "cell_type": "code",
   "execution_count": null,
   "metadata": {},
   "outputs": [],
   "source": [
    "# Convert pandas dataframe to xarray data set\n",
    "xr_data = xr.Dataset.from_dataframe(pd_data)\n",
    "xr_data"
   ]
  },
  {
   "cell_type": "markdown",
   "metadata": {},
   "source": [
    "# Geotif"
   ]
  },
  {
   "cell_type": "code",
   "execution_count": null,
   "metadata": {},
   "outputs": [],
   "source": [
    "# Create a geo dataframe\n",
    "gdf = gpd.GeoDataFrame(data, \n",
    "                       geometry = gpd.points_from_xy(data['longitude (degree_east)'], data['latitude (degree_north)']))\n",
    " "
   ]
  },
  {
   "cell_type": "code",
   "execution_count": null,
   "metadata": {},
   "outputs": [],
   "source": [
    "gdf.head()"
   ]
  },
  {
   "cell_type": "code",
   "execution_count": null,
   "metadata": {},
   "outputs": [],
   "source": [
    "gdf = gdf.set_crs(\"EPSG:4326\")"
   ]
  },
  {
   "cell_type": "code",
   "execution_count": null,
   "metadata": {},
   "outputs": [],
   "source": [
    "# Convert geography column to Polar Stereographic\n",
    "gdf = gdf.to_crs(\"EPSG:3031\")\n",
    "# https://epsg.io/3031"
   ]
  },
  {
   "cell_type": "code",
   "execution_count": null,
   "metadata": {},
   "outputs": [],
   "source": [
    "gdf.head()"
   ]
  },
  {
   "cell_type": "code",
   "execution_count": null,
   "metadata": {},
   "outputs": [],
   "source": [
    "plt.rcParams[\"figure.figsize\"] = (100, 100)\n",
    "fig, ax = plt.subplots(1, 1)\n",
    "fig = plt.figure(figsize = (100, 100), dpi = 100, facecolor = 'w', edgecolor = 'k')\n",
    "gdf.plot(column = 'land_ice_thickness (m)', ax = ax, legend = True, legend_kwds = {'label': \"Ice Thickness (m)\",'orientation': \"horizontal\"})"
   ]
  },
  {
   "cell_type": "code",
   "execution_count": null,
   "metadata": {},
   "outputs": [],
   "source": [
    "# Export formats in geopandas\n",
    "gdf.to_file(\"/home/kim/data/bedmap/geopackage/BAS_2007_AGAP_AIR_BM2_points.gpkg\", layer = 'Points', driver = \"GPKG\")\n"
   ]
  },
  {
   "cell_type": "code",
   "execution_count": null,
   "metadata": {},
   "outputs": [],
   "source": [
    "gdf.to_file(\"/home/kim/data/bedmap/shapefile/BAS_2007_AGAP_AIR_BM2_points.gpkg\", driver = \"ESRI Shapefile\")"
   ]
  },
  {
   "cell_type": "markdown",
   "metadata": {},
   "source": [
    "Additional steps do not work on top of the already provided files but start from scratch with the .csv files\n",
    "- refIm = \"input_grid/BEDMAP3_shapefile_processing_Input_extent500x500_crop.tif\" not provided"
   ]
  },
  {
   "cell_type": "code",
   "execution_count": null,
   "metadata": {},
   "outputs": [],
   "source": [
    "path_to_raster = \"/home/kim/data/bedmap/input_grid/BEDMAP3_shapefile_processing_Input_extent500x500_crop.tif\""
   ]
  },
  {
   "cell_type": "markdown",
   "metadata": {},
   "source": [
    "Use gdal library for raster\n",
    "\n",
    "https://gdal.org/index.html \n",
    "Gdal install issues: Install wheeln straight from here: http://pypi.naturalcapitalproject.org/simple/gdal/index.html\n",
    "and install locally from wheel\n",
    "cp is the python version \n",
    "gdal only supported up to python 3.08 \n",
    "\n",
    "\"/usr/bin/python3.8\"\n",
    "\n",
    "virtualenv --python=\"/usr/bin/python3.8\"\n",
    "venv --python=\"/usr/bin/python3.8\"\n",
    "\n",
    "virtualenv .venv --python=\"/usr/bin/python3.8\"\n",
    "\n",
    "assign indices to cells and then "
   ]
  },
  {
   "cell_type": "code",
   "execution_count": null,
   "metadata": {},
   "outputs": [],
   "source": [
    "ds = gdal.Open(path_to_raster)"
   ]
  },
  {
   "cell_type": "code",
   "execution_count": null,
   "metadata": {},
   "outputs": [],
   "source": [
    "# Opening reference GeoTIFF and get relevant parameters\n",
    "refIm = \"input_grid/BEDMAP3_shapefile_processing_Input_extent500x500_crop.tif\" \n",
    "ds = gdal.Open(refIm)\n",
    "ar = ds.GetRasterBand(1).ReadAsArray()\n",
    "gt = ds.GetGeoTransform()\n",
    "res = gt[1]\n",
    "xmin = gt[0]\n",
    "ymax = gt[3]\n",
    "xsize = ds.RasterXSize\n",
    "ysize = ds.RasterYSize\n",
    "ds = None\n",
    "xstart = xmin + res/2 \n",
    "ystart = ymax - res/2\n",
    "\n",
    "# Create array of x and y values at the centre of each pixel\n",
    "x = np.arange(xstart, xstart + xsize * res, res)\n",
    "y = np.arange(ystart, ystart -ysize * res, -res )"
   ]
  }
 ],
 "metadata": {
  "kernelspec": {
   "display_name": ".venv",
   "language": "python",
   "name": "python3"
  },
  "language_info": {
   "codemirror_mode": {
    "name": "ipython",
    "version": 3
   },
   "file_extension": ".py",
   "mimetype": "text/x-python",
   "name": "python",
   "nbconvert_exporter": "python",
   "pygments_lexer": "ipython3",
   "version": "3.9.18"
  }
 },
 "nbformat": 4,
 "nbformat_minor": 2
}
