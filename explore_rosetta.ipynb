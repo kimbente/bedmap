{
 "cells": [
  {
   "cell_type": "markdown",
   "metadata": {},
   "source": [
    "Set-up environment via terminal:\n",
    "- Navigate to `home/bedmap` (local repository location on Roger)\n",
    "    - geopandas\n",
    "- `conda create -p /home/kim/bedmap/.conda-preprocess python=3.9` (This puts changes in Git though which stuffs git up)\n",
    "    - cartopy requires 3.9\n",
    "- `conda list -e`/ `conda info -e`to show available environments\n",
    "- `conda activate /home/kim/bedmap/.conda-bedmap` (Python 3.8.18)\n",
    "\n",
    "Then just use the following commands as normal:\n",
    "- `conda install x` to install new packages\n",
    "    - e.g. `conda install python=3 geopandas` needs to be python 3, and conda-forge needs to be added \n",
    "- `conda list` to see all installed packages\n",
    "\n",
    "Issues with environments:\n",
    "- Have one each"
   ]
  },
  {
   "cell_type": "markdown",
   "metadata": {},
   "source": [
    "## Install packages"
   ]
  },
  {
   "cell_type": "code",
   "execution_count": 1,
   "metadata": {},
   "outputs": [],
   "source": [
    "import pandas as pd\n",
    "# Geopandas is a geo dataframe\n",
    "# import geopandas as gpd\n",
    "import numpy as np\n",
    "\n",
    "# For projection\n",
    "import pyproj\n",
    "import cartopy.crs as ccrs  # Projections list\n",
    "\n",
    "# import xarray as xr\n",
    "import matplotlib.pyplot as plt\n",
    "%matplotlib inline"
   ]
  },
  {
   "cell_type": "code",
   "execution_count": 2,
   "metadata": {},
   "outputs": [
    {
     "name": "stdout",
     "output_type": "stream",
     "text": [
      "Minimum x value -3333250\n",
      "Maximum x value 3333250\n"
     ]
    }
   ],
   "source": [
    "x = np.arange(-3333250, 3333750, 500)\n",
    "print(\"Minimum x value\", np.min(x))\n",
    "print(\"Maximum x value\", np.max(x))"
   ]
  },
  {
   "cell_type": "markdown",
   "metadata": {},
   "source": [
    "# Check metadata"
   ]
  },
  {
   "cell_type": "code",
   "execution_count": 3,
   "metadata": {},
   "outputs": [],
   "source": [
    "# This example is BM2\n",
    "# path_to_bas_agap = \"/home/kim/data/bedmap/BAS_2007_AGAP_AIR_BM2.csv\"\n",
    "\n",
    "# LDEO Rosetta of the full Ross ice sheet\n",
    "path_to_rosetta = \"/home/kim/data/bedmap/bedmap3-csv/LDEO_2015_ROSETTA_AIR_BM3.csv\""
   ]
  },
  {
   "cell_type": "code",
   "execution_count": 4,
   "metadata": {},
   "outputs": [
    {
     "data": {
      "text/html": [
       "<div>\n",
       "<style scoped>\n",
       "    .dataframe tbody tr th:only-of-type {\n",
       "        vertical-align: middle;\n",
       "    }\n",
       "\n",
       "    .dataframe tbody tr th {\n",
       "        vertical-align: top;\n",
       "    }\n",
       "\n",
       "    .dataframe thead th {\n",
       "        text-align: right;\n",
       "    }\n",
       "</style>\n",
       "<table border=\"1\" class=\"dataframe\">\n",
       "  <thead>\n",
       "    <tr style=\"text-align: right;\">\n",
       "      <th></th>\n",
       "      <th>0</th>\n",
       "      <th>1</th>\n",
       "    </tr>\n",
       "  </thead>\n",
       "  <tbody>\n",
       "    <tr>\n",
       "      <th>0</th>\n",
       "      <td>#project</td>\n",
       "      <td>Ross Ice Shelf (ROSETTA).</td>\n",
       "    </tr>\n",
       "    <tr>\n",
       "      <th>1</th>\n",
       "      <td>#time_coverage_start</td>\n",
       "      <td>2015</td>\n",
       "    </tr>\n",
       "    <tr>\n",
       "      <th>2</th>\n",
       "      <td>#time_coverage_end</td>\n",
       "      <td>2017</td>\n",
       "    </tr>\n",
       "    <tr>\n",
       "      <th>3</th>\n",
       "      <td>#creator_name</td>\n",
       "      <td>R. Bell (Lamont-Doherty Earth Observatory).</td>\n",
       "    </tr>\n",
       "    <tr>\n",
       "      <th>4</th>\n",
       "      <td>#institution</td>\n",
       "      <td>Lamont-Doherty Earth Observatory.</td>\n",
       "    </tr>\n",
       "    <tr>\n",
       "      <th>5</th>\n",
       "      <td>#acknowledgement</td>\n",
       "      <td>NSF grant 0958658; 1443543; 1443677; 1443497; ...</td>\n",
       "    </tr>\n",
       "    <tr>\n",
       "      <th>6</th>\n",
       "      <td>#source</td>\n",
       "      <td>http://www.ldeo.columbia.edu/polar-geophysics-...</td>\n",
       "    </tr>\n",
       "    <tr>\n",
       "      <th>7</th>\n",
       "      <td>#references</td>\n",
       "      <td>https://doi.org/10.1029/2019JF005241</td>\n",
       "    </tr>\n",
       "    <tr>\n",
       "      <th>8</th>\n",
       "      <td>#platform</td>\n",
       "      <td>airborne radar.</td>\n",
       "    </tr>\n",
       "    <tr>\n",
       "      <th>9</th>\n",
       "      <td>#instrument</td>\n",
       "      <td>DICE IcePod.</td>\n",
       "    </tr>\n",
       "    <tr>\n",
       "      <th>10</th>\n",
       "      <td>#history</td>\n",
       "      <td>1-D Synthetic Aperture Radar processing</td>\n",
       "    </tr>\n",
       "    <tr>\n",
       "      <th>11</th>\n",
       "      <td>#electromagnetic_wave_speed_in_ice</td>\n",
       "      <td>168 (meters/microseconds)</td>\n",
       "    </tr>\n",
       "    <tr>\n",
       "      <th>12</th>\n",
       "      <td>#firn_correction</td>\n",
       "      <td>0 (m)</td>\n",
       "    </tr>\n",
       "    <tr>\n",
       "      <th>13</th>\n",
       "      <td>#centre_frequency</td>\n",
       "      <td>188 (MHz)</td>\n",
       "    </tr>\n",
       "    <tr>\n",
       "      <th>14</th>\n",
       "      <td>#comment</td>\n",
       "      <td>Part of Bedmap3</td>\n",
       "    </tr>\n",
       "    <tr>\n",
       "      <th>15</th>\n",
       "      <td>#metadata_link</td>\n",
       "      <td>https://doi.org/10.5285/91523ff9-d621-46b3-87f...</td>\n",
       "    </tr>\n",
       "    <tr>\n",
       "      <th>16</th>\n",
       "      <td>#license</td>\n",
       "      <td>https://creativecommons.org/licenses/by/4.0/</td>\n",
       "    </tr>\n",
       "    <tr>\n",
       "      <th>17</th>\n",
       "      <td>#Conventions</td>\n",
       "      <td>ACDD-1.3, CF-1.8</td>\n",
       "    </tr>\n",
       "  </tbody>\n",
       "</table>\n",
       "</div>"
      ],
      "text/plain": [
       "                                     0  \\\n",
       "0                             #project   \n",
       "1                 #time_coverage_start   \n",
       "2                   #time_coverage_end   \n",
       "3                        #creator_name   \n",
       "4                         #institution   \n",
       "5                     #acknowledgement   \n",
       "6                              #source   \n",
       "7                          #references   \n",
       "8                            #platform   \n",
       "9                          #instrument   \n",
       "10                            #history   \n",
       "11  #electromagnetic_wave_speed_in_ice   \n",
       "12                    #firn_correction   \n",
       "13                   #centre_frequency   \n",
       "14                            #comment   \n",
       "15                      #metadata_link   \n",
       "16                            #license   \n",
       "17                        #Conventions   \n",
       "\n",
       "                                                    1  \n",
       "0                           Ross Ice Shelf (ROSETTA).  \n",
       "1                                                2015  \n",
       "2                                                2017  \n",
       "3         R. Bell (Lamont-Doherty Earth Observatory).  \n",
       "4                   Lamont-Doherty Earth Observatory.  \n",
       "5   NSF grant 0958658; 1443543; 1443677; 1443497; ...  \n",
       "6   http://www.ldeo.columbia.edu/polar-geophysics-...  \n",
       "7                https://doi.org/10.1029/2019JF005241  \n",
       "8                                     airborne radar.  \n",
       "9                                        DICE IcePod.  \n",
       "10            1-D Synthetic Aperture Radar processing  \n",
       "11                          168 (meters/microseconds)  \n",
       "12                                              0 (m)  \n",
       "13                                          188 (MHz)  \n",
       "14                                    Part of Bedmap3  \n",
       "15  https://doi.org/10.5285/91523ff9-d621-46b3-87f...  \n",
       "16       https://creativecommons.org/licenses/by/4.0/  \n",
       "17                                   ACDD-1.3, CF-1.8  "
      ]
     },
     "execution_count": 4,
     "metadata": {},
     "output_type": "execute_result"
    }
   ],
   "source": [
    "# seperate is not a comma but a colon with a space\n",
    "bas_rosetta_meta = pd.read_csv(path_to_rosetta, nrows = 18, sep = \": \", engine = \"python\", header = None)\n",
    "bas_rosetta_meta"
   ]
  },
  {
   "cell_type": "markdown",
   "metadata": {},
   "source": [
    "# Load data\n",
    "\n",
    "- skip meta data\n",
    "- Rosetta has 2.65 M datapoints"
   ]
  },
  {
   "cell_type": "code",
   "execution_count": 5,
   "metadata": {},
   "outputs": [
    {
     "data": {
      "text/html": [
       "<div>\n",
       "<style scoped>\n",
       "    .dataframe tbody tr th:only-of-type {\n",
       "        vertical-align: middle;\n",
       "    }\n",
       "\n",
       "    .dataframe tbody tr th {\n",
       "        vertical-align: top;\n",
       "    }\n",
       "\n",
       "    .dataframe thead th {\n",
       "        text-align: right;\n",
       "    }\n",
       "</style>\n",
       "<table border=\"1\" class=\"dataframe\">\n",
       "  <thead>\n",
       "    <tr style=\"text-align: right;\">\n",
       "      <th></th>\n",
       "      <th>trajectory_id</th>\n",
       "      <th>trace_number</th>\n",
       "      <th>longitude (degree_east)</th>\n",
       "      <th>latitude (degree_north)</th>\n",
       "      <th>date</th>\n",
       "      <th>time_UTC</th>\n",
       "      <th>surface_altitude (m)</th>\n",
       "      <th>land_ice_thickness (m)</th>\n",
       "      <th>bedrock_altitude (m)</th>\n",
       "      <th>two_way_travel_time (m)</th>\n",
       "      <th>aircraft_altitude (m)</th>\n",
       "      <th>along_track_distance (m)</th>\n",
       "    </tr>\n",
       "  </thead>\n",
       "  <tbody>\n",
       "    <tr>\n",
       "      <th>2651548</th>\n",
       "      <td>T1110</td>\n",
       "      <td>-9999</td>\n",
       "      <td>173.014007</td>\n",
       "      <td>-77.429764</td>\n",
       "      <td>2017-11-29</td>\n",
       "      <td>20:47:34.86</td>\n",
       "      <td>-440.545754</td>\n",
       "      <td>44.582638</td>\n",
       "      <td>-9999</td>\n",
       "      <td>-9999</td>\n",
       "      <td>725.481529</td>\n",
       "      <td>-9999</td>\n",
       "    </tr>\n",
       "    <tr>\n",
       "      <th>2651549</th>\n",
       "      <td>T1110</td>\n",
       "      <td>-9999</td>\n",
       "      <td>173.014100</td>\n",
       "      <td>-77.429601</td>\n",
       "      <td>2017-11-29</td>\n",
       "      <td>20:47:35.03</td>\n",
       "      <td>-287.678752</td>\n",
       "      <td>81.096675</td>\n",
       "      <td>-9999</td>\n",
       "      <td>-9999</td>\n",
       "      <td>725.476059</td>\n",
       "      <td>-9999</td>\n",
       "    </tr>\n",
       "    <tr>\n",
       "      <th>2651550</th>\n",
       "      <td>T1110</td>\n",
       "      <td>-9999</td>\n",
       "      <td>173.014193</td>\n",
       "      <td>-77.429437</td>\n",
       "      <td>2017-11-29</td>\n",
       "      <td>20:47:35.19</td>\n",
       "      <td>-177.775326</td>\n",
       "      <td>118.181577</td>\n",
       "      <td>-9999</td>\n",
       "      <td>-9999</td>\n",
       "      <td>725.471172</td>\n",
       "      <td>-9999</td>\n",
       "    </tr>\n",
       "    <tr>\n",
       "      <th>2651551</th>\n",
       "      <td>T1110</td>\n",
       "      <td>-9999</td>\n",
       "      <td>173.014286</td>\n",
       "      <td>-77.429273</td>\n",
       "      <td>2017-11-29</td>\n",
       "      <td>20:47:35.35</td>\n",
       "      <td>-20.910828</td>\n",
       "      <td>125.722537</td>\n",
       "      <td>-9999</td>\n",
       "      <td>-9999</td>\n",
       "      <td>725.466533</td>\n",
       "      <td>-9999</td>\n",
       "    </tr>\n",
       "    <tr>\n",
       "      <th>2651552</th>\n",
       "      <td>T1110</td>\n",
       "      <td>-9999</td>\n",
       "      <td>173.014380</td>\n",
       "      <td>-77.429109</td>\n",
       "      <td>2017-11-29</td>\n",
       "      <td>20:47:35.52</td>\n",
       "      <td>-339.649337</td>\n",
       "      <td>101.756597</td>\n",
       "      <td>-9999</td>\n",
       "      <td>-9999</td>\n",
       "      <td>725.462131</td>\n",
       "      <td>-9999</td>\n",
       "    </tr>\n",
       "  </tbody>\n",
       "</table>\n",
       "</div>"
      ],
      "text/plain": [
       "        trajectory_id  trace_number  longitude (degree_east)  \\\n",
       "2651548         T1110         -9999               173.014007   \n",
       "2651549         T1110         -9999               173.014100   \n",
       "2651550         T1110         -9999               173.014193   \n",
       "2651551         T1110         -9999               173.014286   \n",
       "2651552         T1110         -9999               173.014380   \n",
       "\n",
       "         latitude (degree_north)        date     time_UTC  \\\n",
       "2651548               -77.429764  2017-11-29  20:47:34.86   \n",
       "2651549               -77.429601  2017-11-29  20:47:35.03   \n",
       "2651550               -77.429437  2017-11-29  20:47:35.19   \n",
       "2651551               -77.429273  2017-11-29  20:47:35.35   \n",
       "2651552               -77.429109  2017-11-29  20:47:35.52   \n",
       "\n",
       "         surface_altitude (m)  land_ice_thickness (m)  bedrock_altitude (m)  \\\n",
       "2651548           -440.545754               44.582638                 -9999   \n",
       "2651549           -287.678752               81.096675                 -9999   \n",
       "2651550           -177.775326              118.181577                 -9999   \n",
       "2651551            -20.910828              125.722537                 -9999   \n",
       "2651552           -339.649337              101.756597                 -9999   \n",
       "\n",
       "         two_way_travel_time (m)  aircraft_altitude (m)  \\\n",
       "2651548                    -9999             725.481529   \n",
       "2651549                    -9999             725.476059   \n",
       "2651550                    -9999             725.471172   \n",
       "2651551                    -9999             725.466533   \n",
       "2651552                    -9999             725.462131   \n",
       "\n",
       "         along_track_distance (m)  \n",
       "2651548                     -9999  \n",
       "2651549                     -9999  \n",
       "2651550                     -9999  \n",
       "2651551                     -9999  \n",
       "2651552                     -9999  "
      ]
     },
     "execution_count": 5,
     "metadata": {},
     "output_type": "execute_result"
    }
   ],
   "source": [
    "# Load data  into a pandas dataframe\n",
    "# skip 18 rows of metadata\n",
    "pd_data = pd.read_csv(path_to_rosetta, skiprows = 18, low_memory = False)\n",
    "pd_data.tail()"
   ]
  },
  {
   "cell_type": "code",
   "execution_count": 6,
   "metadata": {},
   "outputs": [],
   "source": [
    "df = pd_data[[\"longitude (degree_east)\", \"latitude (degree_north)\", \"date\", \"surface_altitude (m)\", \"land_ice_thickness (m)\", \"bedrock_altitude (m)\"]]\n",
    "# rename columns\n",
    "df.columns = [\"lon\", \"lat\", \"date\", \"s\", \"t\", \"b\"]"
   ]
  },
  {
   "cell_type": "code",
   "execution_count": 7,
   "metadata": {},
   "outputs": [
    {
     "name": "stderr",
     "output_type": "stream",
     "text": [
      "/tmp/ipykernel_1360789/2246285160.py:1: SettingWithCopyWarning: \n",
      "A value is trying to be set on a copy of a slice from a DataFrame.\n",
      "Try using .loc[row_indexer,col_indexer] = value instead\n",
      "\n",
      "See the caveats in the documentation: https://pandas.pydata.org/pandas-docs/stable/user_guide/indexing.html#returning-a-view-versus-a-copy\n",
      "  df.loc[(df['s'] != -9999) & (df['t'] != -9999) & (df['b'] == -9999), 'b'] = df['s'] - df['t']\n"
     ]
    }
   ],
   "source": [
    "df.loc[(df['s'] != -9999) & (df['t'] != -9999) & (df['b'] == -9999), 'b'] = df['s'] - df['t']"
   ]
  },
  {
   "cell_type": "code",
   "execution_count": 8,
   "metadata": {},
   "outputs": [
    {
     "data": {
      "text/html": [
       "<div>\n",
       "<style scoped>\n",
       "    .dataframe tbody tr th:only-of-type {\n",
       "        vertical-align: middle;\n",
       "    }\n",
       "\n",
       "    .dataframe tbody tr th {\n",
       "        vertical-align: top;\n",
       "    }\n",
       "\n",
       "    .dataframe thead th {\n",
       "        text-align: right;\n",
       "    }\n",
       "</style>\n",
       "<table border=\"1\" class=\"dataframe\">\n",
       "  <thead>\n",
       "    <tr style=\"text-align: right;\">\n",
       "      <th></th>\n",
       "      <th>lon</th>\n",
       "      <th>lat</th>\n",
       "      <th>date</th>\n",
       "      <th>s</th>\n",
       "      <th>t</th>\n",
       "      <th>b</th>\n",
       "    </tr>\n",
       "  </thead>\n",
       "  <tbody>\n",
       "    <tr>\n",
       "      <th>0</th>\n",
       "      <td>-158.337840</td>\n",
       "      <td>-83.764221</td>\n",
       "      <td>2015-12-01</td>\n",
       "      <td>60.296038</td>\n",
       "      <td>645.212935</td>\n",
       "      <td>-584.916897</td>\n",
       "    </tr>\n",
       "    <tr>\n",
       "      <th>1</th>\n",
       "      <td>-158.339047</td>\n",
       "      <td>-83.764289</td>\n",
       "      <td>2015-12-01</td>\n",
       "      <td>60.332607</td>\n",
       "      <td>645.350918</td>\n",
       "      <td>-585.018311</td>\n",
       "    </tr>\n",
       "    <tr>\n",
       "      <th>2</th>\n",
       "      <td>-158.340257</td>\n",
       "      <td>-83.764356</td>\n",
       "      <td>2015-12-01</td>\n",
       "      <td>60.364670</td>\n",
       "      <td>645.488200</td>\n",
       "      <td>-585.123530</td>\n",
       "    </tr>\n",
       "    <tr>\n",
       "      <th>3</th>\n",
       "      <td>-158.341467</td>\n",
       "      <td>-83.764423</td>\n",
       "      <td>2015-12-01</td>\n",
       "      <td>60.390097</td>\n",
       "      <td>645.572737</td>\n",
       "      <td>-585.182639</td>\n",
       "    </tr>\n",
       "    <tr>\n",
       "      <th>4</th>\n",
       "      <td>-158.342679</td>\n",
       "      <td>-83.764490</td>\n",
       "      <td>2015-12-01</td>\n",
       "      <td>60.412078</td>\n",
       "      <td>645.588611</td>\n",
       "      <td>-585.176533</td>\n",
       "    </tr>\n",
       "    <tr>\n",
       "      <th>...</th>\n",
       "      <td>...</td>\n",
       "      <td>...</td>\n",
       "      <td>...</td>\n",
       "      <td>...</td>\n",
       "      <td>...</td>\n",
       "      <td>...</td>\n",
       "    </tr>\n",
       "    <tr>\n",
       "      <th>2651548</th>\n",
       "      <td>173.014007</td>\n",
       "      <td>-77.429764</td>\n",
       "      <td>2017-11-29</td>\n",
       "      <td>-440.545754</td>\n",
       "      <td>44.582638</td>\n",
       "      <td>-485.128392</td>\n",
       "    </tr>\n",
       "    <tr>\n",
       "      <th>2651549</th>\n",
       "      <td>173.014100</td>\n",
       "      <td>-77.429601</td>\n",
       "      <td>2017-11-29</td>\n",
       "      <td>-287.678752</td>\n",
       "      <td>81.096675</td>\n",
       "      <td>-368.775427</td>\n",
       "    </tr>\n",
       "    <tr>\n",
       "      <th>2651550</th>\n",
       "      <td>173.014193</td>\n",
       "      <td>-77.429437</td>\n",
       "      <td>2017-11-29</td>\n",
       "      <td>-177.775326</td>\n",
       "      <td>118.181577</td>\n",
       "      <td>-295.956903</td>\n",
       "    </tr>\n",
       "    <tr>\n",
       "      <th>2651551</th>\n",
       "      <td>173.014286</td>\n",
       "      <td>-77.429273</td>\n",
       "      <td>2017-11-29</td>\n",
       "      <td>-20.910828</td>\n",
       "      <td>125.722537</td>\n",
       "      <td>-146.633365</td>\n",
       "    </tr>\n",
       "    <tr>\n",
       "      <th>2651552</th>\n",
       "      <td>173.014380</td>\n",
       "      <td>-77.429109</td>\n",
       "      <td>2017-11-29</td>\n",
       "      <td>-339.649337</td>\n",
       "      <td>101.756597</td>\n",
       "      <td>-441.405934</td>\n",
       "    </tr>\n",
       "  </tbody>\n",
       "</table>\n",
       "<p>2651553 rows × 6 columns</p>\n",
       "</div>"
      ],
      "text/plain": [
       "                lon        lat        date           s           t           b\n",
       "0       -158.337840 -83.764221  2015-12-01   60.296038  645.212935 -584.916897\n",
       "1       -158.339047 -83.764289  2015-12-01   60.332607  645.350918 -585.018311\n",
       "2       -158.340257 -83.764356  2015-12-01   60.364670  645.488200 -585.123530\n",
       "3       -158.341467 -83.764423  2015-12-01   60.390097  645.572737 -585.182639\n",
       "4       -158.342679 -83.764490  2015-12-01   60.412078  645.588611 -585.176533\n",
       "...             ...        ...         ...         ...         ...         ...\n",
       "2651548  173.014007 -77.429764  2017-11-29 -440.545754   44.582638 -485.128392\n",
       "2651549  173.014100 -77.429601  2017-11-29 -287.678752   81.096675 -368.775427\n",
       "2651550  173.014193 -77.429437  2017-11-29 -177.775326  118.181577 -295.956903\n",
       "2651551  173.014286 -77.429273  2017-11-29  -20.910828  125.722537 -146.633365\n",
       "2651552  173.014380 -77.429109  2017-11-29 -339.649337  101.756597 -441.405934\n",
       "\n",
       "[2651553 rows x 6 columns]"
      ]
     },
     "execution_count": 8,
     "metadata": {},
     "output_type": "execute_result"
    }
   ],
   "source": [
    "# df.loc[df['A'] > 2, 'B'] = new_val\n",
    "df"
   ]
  },
  {
   "cell_type": "code",
   "execution_count": 25,
   "metadata": {},
   "outputs": [],
   "source": [
    "def preprocess(data):\n",
    "    \"\"\"Input a pd dataframe directly from Bedmap\"\"\"\n",
    "    # subset columns\n",
    "    df = data[[\"longitude (degree_east)\", \"latitude (degree_north)\", \"date\", \"surface_altitude (m)\", \"land_ice_thickness (m)\", \"bedrock_altitude (m)\"]]\n",
    "    # rename columns\n",
    "    df.columns = [\"lon\", \"lat\", \"date\", \"s\", \"t\", \"b\"]\n",
    "\n",
    "    # If s & t are given, fill b\n",
    "    df[\"b\"] = np.where([df[\"b\"] == -9999] and [df[\"s\"] != -9999] and [df[\"t\"] != -9999], (df[\"s\"] - df[\"t\"]), [df[\"b\"]])[0]\n",
    "    # Drop rows with missing bed elevation value\n",
    "    df = df.drop(np.where(df.b == -9999)[0])\n",
    "\n",
    "    # Project\n",
    "    lonlat_to_polarstereo = pyproj.Transformer.from_crs(crs_from = pyproj.CRS(\"epsg:4326\"), crs_to = pyproj.CRS(\"epsg:3031\"), always_xy = True) # lon, lat\n",
    "    \n",
    "    df[\"x\"], df[\"y\"] = lonlat_to_polarstereo.transform(df[\"lon\"], df[\"lat\"])\n",
    "\n",
    "    return df\n",
    "\n",
    "def gridding_error(df, zero_offset, res):\n",
    "    # x grid values for 500m grid\n",
    "    # 250 offset of 0 is first deducted\n",
    "    df[\"x_500\"] = (np.round((df.x - zero_offset) / res) * res) + zero_offset  \n",
    "    df[\"y_500\"] = (np.round((df.y - zero_offset) / res) * res) + zero_offset  \n",
    "\n",
    "    # Make categocial column based on grid cell index\n",
    "    df[\"id_500\"] = df[\"x_500\"].astype(int).astype(str) + \"_\" + df[\"y_500\"].astype(int).astype(str)\n",
    "\n",
    "    grid_b_series = df.groupby(by = \"id_500\")[\"b\"].mean()\n",
    "    grid_b_df = pd.DataFrame(grid_b_series)\n",
    "    grid_b_df = grid_b_df.rename(columns = {\"b\": \"grid_mean_b\"})\n",
    "    # count\n",
    "    grid_count = df.groupby(by = \"id_500\")[\"b\"].count()\n",
    "    # add to df\n",
    "    grid_b_df[\"count\"] = np.array(grid_count)\n",
    "\n",
    "    df_merged = df.merge(grid_b_df, on = \"id_500\")\n",
    "    df_merged[\"error\"] = df_merged[\"grid_mean_b\"] - df_merged[\"b\"]\n",
    "\n",
    "    # Calculate rate of grid cells without measurements (in square)\n",
    "    x_gridvalues = np.arange(np.min(df_merged.x_500), np.max(df_merged.x_500) + 1, res)\n",
    "    y_gridvalues = np.arange(np.min(df_merged.y_500), np.max(df_merged.y_500) + 1, res)\n",
    "    rate = grid_b_df.shape[0]/(x_gridvalues.shape[0] * y_gridvalues.shape[0])\n",
    "      \n",
    "    return  df_merged, rate"
   ]
  },
  {
   "cell_type": "code",
   "execution_count": 18,
   "metadata": {},
   "outputs": [
    {
     "name": "stderr",
     "output_type": "stream",
     "text": [
      "/tmp/ipykernel_1360789/2809085644.py:9: SettingWithCopyWarning: \n",
      "A value is trying to be set on a copy of a slice from a DataFrame.\n",
      "Try using .loc[row_indexer,col_indexer] = value instead\n",
      "\n",
      "See the caveats in the documentation: https://pandas.pydata.org/pandas-docs/stable/user_guide/indexing.html#returning-a-view-versus-a-copy\n",
      "  df[\"b\"] = np.where([df[\"b\"] == -9999] and [df[\"s\"] != -9999] and [df[\"t\"] != -9999], (df[\"s\"] - df[\"t\"]), [df[\"b\"]])[0]\n"
     ]
    }
   ],
   "source": [
    "df_pp = preprocess(pd_data)"
   ]
  },
  {
   "cell_type": "code",
   "execution_count": 28,
   "metadata": {},
   "outputs": [
    {
     "name": "stdout",
     "output_type": "stream",
     "text": [
      "20.02132239896138\n",
      "5.1263887104081975\n",
      "6.090664477007624\n",
      "6.648068308950073\n",
      "7.280165921467662\n",
      "8.266163502595314\n",
      "9.769279051707514\n"
     ]
    }
   ],
   "source": [
    "min_count = 3\n",
    "\n",
    "res_list = [31.25, 62.5, 125, 250, 500, 1000, 2000]\n",
    "# Initialise\n",
    "rmse_list = []\n",
    "mae_list = []\n",
    "rate_list = []\n",
    "\n",
    "for i in res_list:\n",
    "    zo = i/2\n",
    "    res = i\n",
    "    gridded_df, rate = gridding_error(df_pp, zero_offset = zo, res = res)\n",
    "    rmse = np.sqrt(np.mean(np.square(gridded_df[gridded_df[\"count\"] > min_count][\"error\"])))\n",
    "    print(rmse)\n",
    "    mae = np.mean(np.abs(gridded_df[gridded_df[\"count\"] > min_count][\"error\"]))\n",
    "    # Append\n",
    "    rmse_list.append(rmse)\n",
    "    mae_list.append(mae)\n",
    "    rate_list.append(rate)"
   ]
  },
  {
   "cell_type": "code",
   "execution_count": 27,
   "metadata": {},
   "outputs": [
    {
     "data": {
      "text/plain": [
       "<matplotlib.lines.Line2D at 0x7f4aa1d44100>"
      ]
     },
     "execution_count": 27,
     "metadata": {},
     "output_type": "execute_result"
    },
    {
     "data": {
      "image/png": "[encoded data removed]",
      "text/plain": [
       "<Figure size 640x480 with 1 Axes>"
      ]
     },
     "metadata": {},
     "output_type": "display_data"
    }
   ],
   "source": [
    "plt.plot(res_list, rmse_list)\n",
    "\n",
    "plt.xlabel(\"grid resolution\")\n",
    "plt.ylabel(\"RMSE\")\n",
    "plt.title(\"Gridding error (RMSE) by resolution for Ross Ice Shelf\")\n",
    "plt.axvline(x = 500, ls='--', color = \"lightgrey\")"
   ]
  },
  {
   "cell_type": "markdown",
   "metadata": {},
   "source": [
    "# Results for 500 m"
   ]
  },
  {
   "cell_type": "code",
   "execution_count": 17,
   "metadata": {},
   "outputs": [
    {
     "name": "stderr",
     "output_type": "stream",
     "text": [
      "/tmp/ipykernel_1360789/2809085644.py:9: SettingWithCopyWarning: \n",
      "A value is trying to be set on a copy of a slice from a DataFrame.\n",
      "Try using .loc[row_indexer,col_indexer] = value instead\n",
      "\n",
      "See the caveats in the documentation: https://pandas.pydata.org/pandas-docs/stable/user_guide/indexing.html#returning-a-view-versus-a-copy\n",
      "  df[\"b\"] = np.where([df[\"b\"] == -9999] and [df[\"s\"] != -9999] and [df[\"t\"] != -9999], (df[\"s\"] - df[\"t\"]), [df[\"b\"]])[0]\n"
     ]
    },
    {
     "name": "stdout",
     "output_type": "stream",
     "text": [
      "85087\n",
      "Rate of cells with measurements: 0.024\n",
      "rmse at 500 m 7.28\n",
      "MAE at 500 m 7.28\n"
     ]
    }
   ],
   "source": [
    "zo_500 = 250.0\n",
    "resso_500 = 500.0\n",
    "\n",
    "df_pp_500 = preprocess(pd_data)\n",
    "df_500, rate_500 = gridding_error(df_pp_500, zero_offset = zo_500, res = resso_500)\n",
    "\n",
    "rmse_500m = np.sqrt(np.mean(np.square(df_500[df_500[\"count\"] > min_count][\"error\"])))\n",
    "mae_500m = np.mean(np.abs(df_500[df_500[\"count\"] > min_count][\"error\"]))\n",
    "\n",
    "print(\"Rate of cells with measurements:\", np.round(rate_500, 3))\n",
    "print(\"rmse at 500 m\", np.round(rmse_500m, 2))\n",
    "print(\"MAE at 500 m\", np.round(rmse_500m, 2))\n",
    "# Indicating some expreme errors"
   ]
  },
  {
   "cell_type": "markdown",
   "metadata": {},
   "source": [
    "# Repeat for 250m"
   ]
  },
  {
   "cell_type": "code",
   "execution_count": 13,
   "metadata": {},
   "outputs": [
    {
     "name": "stderr",
     "output_type": "stream",
     "text": [
      "/tmp/ipykernel_1150192/2809085644.py:9: SettingWithCopyWarning: \n",
      "A value is trying to be set on a copy of a slice from a DataFrame.\n",
      "Try using .loc[row_indexer,col_indexer] = value instead\n",
      "\n",
      "See the caveats in the documentation: https://pandas.pydata.org/pandas-docs/stable/user_guide/indexing.html#returning-a-view-versus-a-copy\n",
      "  df[\"b\"] = np.where([df[\"b\"] == -9999] and [df[\"s\"] != -9999] and [df[\"t\"] != -9999], (df[\"s\"] - df[\"t\"]), [df[\"b\"]])[0]\n"
     ]
    },
    {
     "name": "stdout",
     "output_type": "stream",
     "text": [
      "167910\n",
      "Rate of cells with measurements: 0.012\n",
      "rmse at 250 m 6.65\n",
      "MAE at 250 m 1.26\n"
     ]
    }
   ],
   "source": [
    "zo_250 = 125.0\n",
    "resso_250 = 250.0\n",
    "\n",
    "df_pp_250 = preprocess(pd_data)\n",
    "df_250, rate_250 = gridding_error(df_pp_250, zero_offset = zo_250, res = resso_250)\n",
    "\n",
    "rmse_250m = np.sqrt(np.mean(np.square(df_250[\"error\"])))\n",
    "mae_250m = np.mean(np.abs(df_250[\"error\"]))\n",
    "\n",
    "print(\"Rate of cells with measurements:\", np.round(rate_250, 3))\n",
    "print(\"rmse at 250 m\", np.round(rmse_250m, 2))\n",
    "print(\"MAE at 250 m\", np.round(mae_250m, 2))\n",
    "# Indicating some expreme errors"
   ]
  },
  {
   "cell_type": "markdown",
   "metadata": {},
   "source": [
    "# 125"
   ]
  },
  {
   "cell_type": "code",
   "execution_count": 14,
   "metadata": {},
   "outputs": [
    {
     "name": "stderr",
     "output_type": "stream",
     "text": [
      "/tmp/ipykernel_1150192/2809085644.py:9: SettingWithCopyWarning: \n",
      "A value is trying to be set on a copy of a slice from a DataFrame.\n",
      "Try using .loc[row_indexer,col_indexer] = value instead\n",
      "\n",
      "See the caveats in the documentation: https://pandas.pydata.org/pandas-docs/stable/user_guide/indexing.html#returning-a-view-versus-a-copy\n",
      "  df[\"b\"] = np.where([df[\"b\"] == -9999] and [df[\"s\"] != -9999] and [df[\"t\"] != -9999], (df[\"s\"] - df[\"t\"]), [df[\"b\"]])[0]\n"
     ]
    },
    {
     "name": "stdout",
     "output_type": "stream",
     "text": [
      "332228\n",
      "Rate of cells with measurements: 0.006\n",
      "rmse at 125 m 6.11\n",
      "MAE at 125 m 0.86\n"
     ]
    }
   ],
   "source": [
    "zo_125 = 62.5\n",
    "resso_125 = 125.0\n",
    "\n",
    "df_pp_125 = preprocess(pd_data)\n",
    "df_125, rate_125 = gridding_error(df_pp_125, zero_offset = zo_125, res = resso_125)\n",
    "\n",
    "rmse_125m = np.sqrt(np.mean(np.square(df_125[\"error\"])))\n",
    "mae_125m = np.mean(np.abs(df_125[\"error\"]))\n",
    "\n",
    "print(\"Rate of cells with measurements:\", np.round(rate_125, 3))\n",
    "print(\"rmse at 125 m\", np.round(rmse_125m, 2))\n",
    "print(\"MAE at 125 m\", np.round(mae_125m, 2))\n",
    "# Indicating some expreme errors"
   ]
  },
  {
   "cell_type": "markdown",
   "metadata": {},
   "source": [
    "# 62.5"
   ]
  },
  {
   "cell_type": "code",
   "execution_count": 15,
   "metadata": {},
   "outputs": [
    {
     "name": "stderr",
     "output_type": "stream",
     "text": [
      "/tmp/ipykernel_1150192/2809085644.py:9: SettingWithCopyWarning: \n",
      "A value is trying to be set on a copy of a slice from a DataFrame.\n",
      "Try using .loc[row_indexer,col_indexer] = value instead\n",
      "\n",
      "See the caveats in the documentation: https://pandas.pydata.org/pandas-docs/stable/user_guide/indexing.html#returning-a-view-versus-a-copy\n",
      "  df[\"b\"] = np.where([df[\"b\"] == -9999] and [df[\"s\"] != -9999] and [df[\"t\"] != -9999], (df[\"s\"] - df[\"t\"]), [df[\"b\"]])[0]\n"
     ]
    },
    {
     "name": "stdout",
     "output_type": "stream",
     "text": [
      "659932\n",
      "Rate of cells with measurements: 0.003\n",
      "rmse at 62.5 m 5.35\n",
      "MAE at 62.5 m 0.6\n"
     ]
    }
   ],
   "source": [
    "zo_62 = 31.25\n",
    "resso_62 = 62.5\n",
    "\n",
    "df_pp_62 = preprocess(pd_data)\n",
    "df_62, rate_62 = gridding_error(df_pp_62, zero_offset = zo_62, res = resso_62)\n",
    "\n",
    "rmse_62m = np.sqrt(np.mean(np.square(df_62[\"error\"])))\n",
    "mae_62m = np.mean(np.abs(df_62[\"error\"]))\n",
    "\n",
    "print(\"Rate of cells with measurements:\", np.round(rate_62, 3))\n",
    "print(\"rmse at 62.5 m\", np.round(rmse_62m, 2))\n",
    "print(\"MAE at 62.5 m\", np.round(mae_62m, 2))\n",
    "# Indicating some expreme errors"
   ]
  },
  {
   "cell_type": "markdown",
   "metadata": {},
   "source": [
    "# 31.25\n",
    "\n",
    "~2 values per field"
   ]
  },
  {
   "cell_type": "code",
   "execution_count": 16,
   "metadata": {},
   "outputs": [
    {
     "name": "stderr",
     "output_type": "stream",
     "text": [
      "/tmp/ipykernel_1150192/2809085644.py:9: SettingWithCopyWarning: \n",
      "A value is trying to be set on a copy of a slice from a DataFrame.\n",
      "Try using .loc[row_indexer,col_indexer] = value instead\n",
      "\n",
      "See the caveats in the documentation: https://pandas.pydata.org/pandas-docs/stable/user_guide/indexing.html#returning-a-view-versus-a-copy\n",
      "  df[\"b\"] = np.where([df[\"b\"] == -9999] and [df[\"s\"] != -9999] and [df[\"t\"] != -9999], (df[\"s\"] - df[\"t\"]), [df[\"b\"]])[0]\n"
     ]
    },
    {
     "name": "stdout",
     "output_type": "stream",
     "text": [
      "1314319\n",
      "Rate of cells with measurements: 0.001\n",
      "rmse at 31.25 m 4.04\n",
      "MAE at 31.25 m 0.37\n"
     ]
    }
   ],
   "source": [
    "zo_31 = 15.625\n",
    "resso_31 = 31.25\n",
    "\n",
    "df_pp_31 = preprocess(pd_data)\n",
    "df_31, rate_31 = gridding_error(df_pp_31, zero_offset = zo_31, res = resso_31)\n",
    "\n",
    "rmse_31m = np.sqrt(np.mean(np.square(df_31[\"error\"])))\n",
    "mae_31m = np.mean(np.abs(df_31[\"error\"]))\n",
    "\n",
    "print(\"Rate of cells with measurements:\", np.round(rate_31, 3))\n",
    "print(\"rmse at 31.25 m\", np.round(rmse_31m, 2))\n",
    "print(\"MAE at 31.25 m\", np.round(mae_31m, 2))\n",
    "# Indicating some expreme errors"
   ]
  },
  {
   "cell_type": "markdown",
   "metadata": {},
   "source": [
    "# Sub spacing scale:\n",
    "\n",
    "Max 1 value per grid"
   ]
  },
  {
   "cell_type": "code",
   "execution_count": 17,
   "metadata": {},
   "outputs": [
    {
     "name": "stderr",
     "output_type": "stream",
     "text": [
      "/tmp/ipykernel_1150192/2809085644.py:9: SettingWithCopyWarning: \n",
      "A value is trying to be set on a copy of a slice from a DataFrame.\n",
      "Try using .loc[row_indexer,col_indexer] = value instead\n",
      "\n",
      "See the caveats in the documentation: https://pandas.pydata.org/pandas-docs/stable/user_guide/indexing.html#returning-a-view-versus-a-copy\n",
      "  df[\"b\"] = np.where([df[\"b\"] == -9999] and [df[\"s\"] != -9999] and [df[\"t\"] != -9999], (df[\"s\"] - df[\"t\"]), [df[\"b\"]])[0]\n"
     ]
    },
    {
     "name": "stdout",
     "output_type": "stream",
     "text": [
      "2558592\n",
      "Rate of cells with measurements: 0.001\n",
      "rmse at 15.625 m 0.8\n",
      "MAE at 15.625 m 0.02\n"
     ]
    }
   ],
   "source": [
    "zo_15 = 7.8125\n",
    "resso_15 = 15.625\n",
    "\n",
    "df_pp_15 = preprocess(pd_data)\n",
    "df_15, rate_15 = gridding_error(df_pp_15, zero_offset = zo_15, res = resso_15)\n",
    "\n",
    "rmse_15m = np.sqrt(np.mean(np.square(df_15[\"error\"])))\n",
    "mae_15m = np.mean(np.abs(df_15[\"error\"]))\n",
    "\n",
    "print(\"Rate of cells with measurements:\", np.round(rate_15, 3))\n",
    "print(\"rmse at 15.625 m\", np.round(rmse_15m, 2))\n",
    "print(\"MAE at 15.625 m\", np.round(mae_15m, 2))\n",
    "# Indicating some expreme errors"
   ]
  },
  {
   "cell_type": "markdown",
   "metadata": {},
   "source": [
    "# 1000"
   ]
  },
  {
   "cell_type": "code",
   "execution_count": 23,
   "metadata": {},
   "outputs": [
    {
     "name": "stderr",
     "output_type": "stream",
     "text": [
      "/tmp/ipykernel_1150192/2809085644.py:9: SettingWithCopyWarning: \n",
      "A value is trying to be set on a copy of a slice from a DataFrame.\n",
      "Try using .loc[row_indexer,col_indexer] = value instead\n",
      "\n",
      "See the caveats in the documentation: https://pandas.pydata.org/pandas-docs/stable/user_guide/indexing.html#returning-a-view-versus-a-copy\n",
      "  df[\"b\"] = np.where([df[\"b\"] == -9999] and [df[\"s\"] != -9999] and [df[\"t\"] != -9999], (df[\"s\"] - df[\"t\"]), [df[\"b\"]])[0]\n"
     ]
    },
    {
     "name": "stdout",
     "output_type": "stream",
     "text": [
      "43239\n",
      "Rate of cells with measurements: 0.05\n",
      "rmse at 1000 m 8.27\n",
      "MAE at 1000 m 2.67\n"
     ]
    }
   ],
   "source": [
    "zo_1000 = 500.0\n",
    "resso_1000 = 1000.0\n",
    "\n",
    "df_pp_1000 = preprocess(pd_data)\n",
    "df_1000, rate_1000 = gridding_error(df_pp_1000, zero_offset = zo_1000, res = resso_1000)\n",
    "\n",
    "rmse_1000m = np.sqrt(np.mean(np.square(df_1000[\"error\"])))\n",
    "mae_1000m = np.mean(np.abs(df_1000[\"error\"]))\n",
    "\n",
    "print(\"Rate of cells with measurements:\", np.round(rate_1000, 3))\n",
    "print(\"rmse at 1000 m\", np.round(rmse_1000m, 2))\n",
    "print(\"MAE at 1000 m\", np.round(mae_1000m, 2))\n",
    "# Indicating some expreme errors"
   ]
  },
  {
   "cell_type": "markdown",
   "metadata": {},
   "source": [
    "# 2000"
   ]
  },
  {
   "cell_type": "code",
   "execution_count": 24,
   "metadata": {},
   "outputs": [
    {
     "name": "stderr",
     "output_type": "stream",
     "text": [
      "/tmp/ipykernel_1150192/2809085644.py:9: SettingWithCopyWarning: \n",
      "A value is trying to be set on a copy of a slice from a DataFrame.\n",
      "Try using .loc[row_indexer,col_indexer] = value instead\n",
      "\n",
      "See the caveats in the documentation: https://pandas.pydata.org/pandas-docs/stable/user_guide/indexing.html#returning-a-view-versus-a-copy\n",
      "  df[\"b\"] = np.where([df[\"b\"] == -9999] and [df[\"s\"] != -9999] and [df[\"t\"] != -9999], (df[\"s\"] - df[\"t\"]), [df[\"b\"]])[0]\n"
     ]
    },
    {
     "name": "stdout",
     "output_type": "stream",
     "text": [
      "21937\n",
      "Rate of cells with measurements: 0.101\n",
      "rmse at 1000 m 9.77\n",
      "MAE at 1000 m 3.73\n"
     ]
    }
   ],
   "source": [
    "zo_2000 = 1000.0\n",
    "resso_2000 = 2000.0\n",
    "\n",
    "df_pp_2000 = preprocess(pd_data)\n",
    "df_2000, rate_2000 = gridding_error(df_pp_2000, zero_offset = zo_2000, res = resso_2000)\n",
    "\n",
    "rmse_2000m = np.sqrt(np.mean(np.square(df_2000[\"error\"])))\n",
    "mae_2000m = np.mean(np.abs(df_2000[\"error\"]))\n",
    "\n",
    "print(\"Rate of cells with measurements:\", np.round(rate_2000, 3))\n",
    "print(\"rmse at 1000 m\", np.round(rmse_2000m, 2))\n",
    "print(\"MAE at 1000 m\", np.round(mae_2000m, 2))\n",
    "# Indicating some expreme errors"
   ]
  },
  {
   "cell_type": "markdown",
   "metadata": {},
   "source": [
    "# Graph"
   ]
  },
  {
   "cell_type": "code",
   "execution_count": 25,
   "metadata": {},
   "outputs": [],
   "source": [
    "rmse_array = np.array([rmse_15m, rmse_31m, rmse_62m, rmse_125m, rmse_250m, rmse_500m, rmse_1000m, rmse_2000m])\n",
    "mae_array = np.array([mae_15m, mae_31m, mae_62m, mae_125m, mae_250m, mae_500m, mae_1000m, mae_2000m])\n",
    "rate_array = np.array([rate_15, rate_31, rate_62, rate_125, rate_250, rate_500, rate_1000, rate_2000])\n",
    "res_array = np.array([15.625, 31.25, 62.5, 125, 250, 500, 1000, 2000])"
   ]
  },
  {
   "cell_type": "code",
   "execution_count": 35,
   "metadata": {},
   "outputs": [
    {
     "data": {
      "text/plain": [
       "<matplotlib.lines.Line2D at 0x7efc07ac6670>"
      ]
     },
     "execution_count": 35,
     "metadata": {},
     "output_type": "execute_result"
    },
    {
     "data": {
      "image/png": "[encoded data removed]",
      "text/plain": [
       "<Figure size 640x480 with 1 Axes>"
      ]
     },
     "metadata": {},
     "output_type": "display_data"
    }
   ],
   "source": [
    "plt.plot(res_array, rmse_array)\n",
    "\n",
    "plt.xlabel(\"grid resolution\")\n",
    "plt.ylabel(\"RMSE\")\n",
    "plt.title(\"Gridding error (RMSE) by resolution for Ross Ice Shelf\")\n",
    "plt.axvline(x = 500, ls='--', color = \"lightgrey\")"
   ]
  },
  {
   "cell_type": "code",
   "execution_count": 1,
   "metadata": {},
   "outputs": [
    {
     "ename": "NameError",
     "evalue": "name 'plt' is not defined",
     "output_type": "error",
     "traceback": [
      "\u001b[0;31m---------------------------------------------------------------------------\u001b[0m",
      "\u001b[0;31mNameError\u001b[0m                                 Traceback (most recent call last)",
      "Cell \u001b[0;32mIn[1], line 2\u001b[0m\n\u001b[1;32m      1\u001b[0m \u001b[38;5;66;03m# Visualise without 15\u001b[39;00m\n\u001b[0;32m----> 2\u001b[0m \u001b[43mplt\u001b[49m\u001b[38;5;241m.\u001b[39mplot(res_array[\u001b[38;5;241m1\u001b[39m:], rmse_array[\u001b[38;5;241m1\u001b[39m:])\n",
      "\u001b[0;31mNameError\u001b[0m: name 'plt' is not defined"
     ]
    }
   ],
   "source": [
    "# Visualise without 15\n",
    "plt.plot(res_array[1:], rmse_array[1:])"
   ]
  },
  {
   "cell_type": "code",
   "execution_count": 75,
   "metadata": {},
   "outputs": [
    {
     "data": {
      "text/plain": [
       "[<matplotlib.lines.Line2D at 0x7f5509bdb460>]"
      ]
     },
     "execution_count": 75,
     "metadata": {},
     "output_type": "execute_result"
    },
    {
     "data": {
      "image/png": "[encoded data removed]",
      "text/plain": [
       "<Figure size 640x480 with 1 Axes>"
      ]
     },
     "metadata": {},
     "output_type": "display_data"
    }
   ],
   "source": [
    "plt.plot(res_array, mae_array)"
   ]
  },
  {
   "cell_type": "code",
   "execution_count": 34,
   "metadata": {},
   "outputs": [
    {
     "data": {
      "text/plain": [
       "<matplotlib.lines.Line2D at 0x7efbe9f0bcd0>"
      ]
     },
     "execution_count": 34,
     "metadata": {},
     "output_type": "execute_result"
    },
    {
     "data": {
      "image/png": "[encoded data removed]",
      "text/plain": [
       "<Figure size 640x480 with 1 Axes>"
      ]
     },
     "metadata": {},
     "output_type": "display_data"
    }
   ],
   "source": [
    "plt.plot(res_array, mae_array)\n",
    "\n",
    "plt.xlabel(\"grid resolution\")\n",
    "plt.ylabel(\"MAE\")\n",
    "plt.title(\"Gridding error (MAE) by resolution for Ross Ice Shelf\")\n",
    "plt.axvline(x = 500, ls='--', color = \"lightgrey\")"
   ]
  },
  {
   "cell_type": "code",
   "execution_count": 77,
   "metadata": {},
   "outputs": [
    {
     "data": {
      "text/plain": [
       "[<matplotlib.lines.Line2D at 0x7f53e7c6ba60>]"
      ]
     },
     "execution_count": 77,
     "metadata": {},
     "output_type": "execute_result"
    },
    {
     "data": {
      "image/png": "[encoded data removed]",
      "text/plain": [
       "<Figure size 640x480 with 1 Axes>"
      ]
     },
     "metadata": {},
     "output_type": "display_data"
    }
   ],
   "source": [
    "plt.plot(res_array, rate_array)"
   ]
  },
  {
   "cell_type": "markdown",
   "metadata": {},
   "source": [
    "# Checks"
   ]
  },
  {
   "cell_type": "code",
   "execution_count": null,
   "metadata": {},
   "outputs": [],
   "source": [
    "# Check that distance of any point to grid cell midpoint is never > 250.\n",
    "print(np.min((df[\"y\"]- df[\"y_500\"])))\n",
    "print(np.max((df[\"y\"]- df[\"y_500\"])))\n",
    "print(np.min((df[\"x\"]- df[\"x_500\"])))\n",
    "print(np.max((df[\"x\"]- df[\"x_500\"])))"
   ]
  },
  {
   "cell_type": "code",
   "execution_count": null,
   "metadata": {},
   "outputs": [],
   "source": [
    "x = np.arange(-3333250, 3333750, 500)\n",
    "x[6166]"
   ]
  },
  {
   "cell_type": "code",
   "execution_count": null,
   "metadata": {},
   "outputs": [],
   "source": [
    "(np.round((df.x - 250.0) / 500.0) * 500.0) + 250.0"
   ]
  },
  {
   "cell_type": "markdown",
   "metadata": {},
   "source": [
    "Only interested in bed topo:\n",
    "- Impute if surface & thickness are given\n",
    "- remote remaining rows without bed elevation value."
   ]
  },
  {
   "cell_type": "code",
   "execution_count": null,
   "metadata": {},
   "outputs": [],
   "source": [
    "# Convert pandas dataframe to xarray data set\n",
    "xr_data = xr.Dataset.from_dataframe(pd_data)\n",
    "xr_data"
   ]
  },
  {
   "cell_type": "markdown",
   "metadata": {},
   "source": [
    "# Geotif"
   ]
  },
  {
   "cell_type": "code",
   "execution_count": null,
   "metadata": {},
   "outputs": [],
   "source": [
    "# Create a geo dataframe\n",
    "gdf = gpd.GeoDataFrame(data, \n",
    "                       geometry = gpd.points_from_xy(data['longitude (degree_east)'], data['latitude (degree_north)']))\n",
    " "
   ]
  },
  {
   "cell_type": "code",
   "execution_count": null,
   "metadata": {},
   "outputs": [],
   "source": [
    "gdf.head()"
   ]
  },
  {
   "cell_type": "code",
   "execution_count": null,
   "metadata": {},
   "outputs": [],
   "source": [
    "gdf = gdf.set_crs(\"EPSG:4326\")"
   ]
  },
  {
   "cell_type": "code",
   "execution_count": null,
   "metadata": {},
   "outputs": [],
   "source": [
    "# Convert geography column to Polar Stereographic\n",
    "gdf = gdf.to_crs(\"EPSG:3031\")\n",
    "# https://epsg.io/3031"
   ]
  },
  {
   "cell_type": "code",
   "execution_count": null,
   "metadata": {},
   "outputs": [],
   "source": [
    "gdf.head()"
   ]
  },
  {
   "cell_type": "code",
   "execution_count": null,
   "metadata": {},
   "outputs": [],
   "source": [
    "plt.rcParams[\"figure.figsize\"] = (100, 100)\n",
    "fig, ax = plt.subplots(1, 1)\n",
    "fig = plt.figure(figsize = (100, 100), dpi = 100, facecolor = 'w', edgecolor = 'k')\n",
    "gdf.plot(column = 'land_ice_thickness (m)', ax = ax, legend = True, legend_kwds = {'label': \"Ice Thickness (m)\",'orientation': \"horizontal\"})"
   ]
  },
  {
   "cell_type": "code",
   "execution_count": null,
   "metadata": {},
   "outputs": [],
   "source": [
    "# Export formats in geopandas\n",
    "gdf.to_file(\"/home/kim/data/bedmap/geopackage/BAS_2007_AGAP_AIR_BM2_points.gpkg\", layer = 'Points', driver = \"GPKG\")\n"
   ]
  },
  {
   "cell_type": "code",
   "execution_count": null,
   "metadata": {},
   "outputs": [],
   "source": [
    "gdf.to_file(\"/home/kim/data/bedmap/shapefile/BAS_2007_AGAP_AIR_BM2_points.gpkg\", driver = \"ESRI Shapefile\")"
   ]
  },
  {
   "cell_type": "markdown",
   "metadata": {},
   "source": [
    "Additional steps do not work on top of the already provided files but start from scratch with the .csv files\n",
    "- refIm = \"input_grid/BEDMAP3_shapefile_processing_Input_extent500x500_crop.tif\" not provided"
   ]
  },
  {
   "cell_type": "code",
   "execution_count": null,
   "metadata": {},
   "outputs": [],
   "source": [
    "path_to_raster = \"/home/kim/data/bedmap/input_grid/BEDMAP3_shapefile_processing_Input_extent500x500_crop.tif\""
   ]
  },
  {
   "cell_type": "markdown",
   "metadata": {},
   "source": [
    "Use gdal library for raster\n",
    "\n",
    "https://gdal.org/index.html \n",
    "Gdal install issues: Install wheeln straight from here: http://pypi.naturalcapitalproject.org/simple/gdal/index.html\n",
    "and install locally from wheel\n",
    "cp is the python version \n",
    "gdal only supported up to python 3.08 \n",
    "\n",
    "\"/usr/bin/python3.8\"\n",
    "\n",
    "virtualenv --python=\"/usr/bin/python3.8\"\n",
    "venv --python=\"/usr/bin/python3.8\"\n",
    "\n",
    "virtualenv .venv --python=\"/usr/bin/python3.8\"\n",
    "\n",
    "assign indices to cells and then "
   ]
  },
  {
   "cell_type": "code",
   "execution_count": null,
   "metadata": {},
   "outputs": [],
   "source": [
    "ds = gdal.Open(path_to_raster)"
   ]
  },
  {
   "cell_type": "code",
   "execution_count": null,
   "metadata": {},
   "outputs": [],
   "source": [
    "# Opening reference GeoTIFF and get relevant parameters\n",
    "refIm = \"input_grid/BEDMAP3_shapefile_processing_Input_extent500x500_crop.tif\" \n",
    "ds = gdal.Open(refIm)\n",
    "ar = ds.GetRasterBand(1).ReadAsArray()\n",
    "gt = ds.GetGeoTransform()\n",
    "res = gt[1]\n",
    "xmin = gt[0]\n",
    "ymax = gt[3]\n",
    "xsize = ds.RasterXSize\n",
    "ysize = ds.RasterYSize\n",
    "ds = None\n",
    "xstart = xmin + res/2 \n",
    "ystart = ymax - res/2\n",
    "\n",
    "# Create array of x and y values at the centre of each pixel\n",
    "x = np.arange(xstart, xstart + xsize * res, res)\n",
    "y = np.arange(ystart, ystart -ysize * res, -res )"
   ]
  }
 ],
 "metadata": {
  "kernelspec": {
   "display_name": ".venv",
   "language": "python",
   "name": "python3"
  },
  "language_info": {
   "codemirror_mode": {
    "name": "ipython",
    "version": 3
   },
   "file_extension": ".py",
   "mimetype": "text/x-python",
   "name": "python",
   "nbconvert_exporter": "python",
   "pygments_lexer": "ipython3",
   "version": "3.8.12"
  }
 },
 "nbformat": 4,
 "nbformat_minor": 2
}
