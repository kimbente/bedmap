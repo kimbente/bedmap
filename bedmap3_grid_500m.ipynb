{
 "cells": [
  {
   "cell_type": "code",
   "execution_count": 1,
   "metadata": {},
   "outputs": [],
   "source": [
    "import pandas as pd\n",
    "import xarray as xr\n",
    "# case sensitive\n",
    "# from PIL import Image"
   ]
  },
  {
   "cell_type": "markdown",
   "metadata": {},
   "source": [
    "# Investigate Bedmap3 grid\n",
    "\n",
    "- File: \"BEDMAP3_shapefile_processing_Input_extent500x500_crop.tif\" \n",
    "- Downloaded from: https://github.com/antarctica/PDC_GeophysicsBook/tree/main/book/BEDMAP/input_grid\n",
    "\n",
    "## Load tif's into python\n",
    "- xarray via rasterio\n",
    "- imageio\n",
    "- PIL (package is called pillow)"
   ]
  },
  {
   "cell_type": "code",
   "execution_count": 2,
   "metadata": {},
   "outputs": [],
   "source": [
    "path_to_grid_tif = '/home/kim/data/bedmap/input_grid/BEDMAP3_shapefile_processing_Input_extent500x500_crop.tif'"
   ]
  },
  {
   "cell_type": "code",
   "execution_count": 3,
   "metadata": {},
   "outputs": [
    {
     "ename": "AttributeError",
     "evalue": "module 'xarray' has no attribute 'open_rasterio'",
     "output_type": "error",
     "traceback": [
      "\u001b[0;31m---------------------------------------------------------------------------\u001b[0m",
      "\u001b[0;31mAttributeError\u001b[0m                            Traceback (most recent call last)",
      "Cell \u001b[0;32mIn[3], line 1\u001b[0m\n\u001b[0;32m----> 1\u001b[0m grid_img \u001b[38;5;241m=\u001b[39m \u001b[43mxr\u001b[49m\u001b[38;5;241;43m.\u001b[39;49m\u001b[43mopen_rasterio\u001b[49m(path_to_grid_tif)\n",
      "\u001b[0;31mAttributeError\u001b[0m: module 'xarray' has no attribute 'open_rasterio'"
     ]
    }
   ],
   "source": [
    "grid_img = xr.open_rasterio(path_to_grid_tif)"
   ]
  },
  {
   "cell_type": "code",
   "execution_count": null,
   "metadata": {},
   "outputs": [],
   "source": [
    "\n",
    "im = Image.open('/home/kim/finetune-HAT/scottland_DEM/output_SRTM15Plus.tif')\n",
    "imarray = np.array(im)"
   ]
  }
 ],
 "metadata": {
  "kernelspec": {
   "display_name": "Python 3",
   "language": "python",
   "name": "python3"
  },
  "language_info": {
   "codemirror_mode": {
    "name": "ipython",
    "version": 3
   },
   "file_extension": ".py",
   "mimetype": "text/x-python",
   "name": "python",
   "nbconvert_exporter": "python",
   "pygments_lexer": "ipython3",
   "version": "3.11.7"
  }
 },
 "nbformat": 4,
 "nbformat_minor": 2
}
