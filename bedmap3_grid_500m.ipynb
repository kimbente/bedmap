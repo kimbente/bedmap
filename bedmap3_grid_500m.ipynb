{
 "cells": [
  {
   "cell_type": "code",
   "execution_count": 1,
   "metadata": {},
   "outputs": [],
   "source": [
    "# import pandas as pd\n",
    "import numpy as np\n",
    "\n",
    "# Issue when running import gdal\n",
    "from osgeo import gdal"
   ]
  },
  {
   "cell_type": "markdown",
   "metadata": {},
   "source": [
    "# Investigate grid (geotiff) used in Bedmap3\n",
    "\n",
    "- use GDAL (Geospatial Data Abstraction Library)\n",
    "- separate environment due to issues\n",
    "- only worked with file saved locally\n",
    "- OUTPUT: centrepoints of grid: \n",
    "    - x = np.arange(-3333250, 3333750, 500)\n",
    "    - y = np.arange(3333250, -3333750, 500)\n",
    "- Now deleted file and .conda-tif\n",
    "\n",
    "## Data\n",
    "- File: \"BEDMAP3_shapefile_processing_Input_extent500x500_crop.tif\" \n",
    "- Downloaded from: https://github.com/antarctica/PDC_GeophysicsBook/tree/main/book/BEDMAP/input_grid\n",
    "\n",
    "## Load tif's into python\n",
    "- gdal is used in the tutorial\n",
    "Others:\n",
    "- xarray via rasterio\n",
    "- imageio\n",
    "- PIL (package is called pillow)"
   ]
  },
  {
   "cell_type": "code",
   "execution_count": 2,
   "metadata": {},
   "outputs": [
    {
     "name": "stderr",
     "output_type": "stream",
     "text": [
      "ERROR 4: BEDMAP3_shapefile_processing_Input_extent500x500_crop.tif: No such file or directory\n"
     ]
    },
    {
     "ename": "AttributeError",
     "evalue": "'NoneType' object has no attribute 'GetRasterBand'",
     "output_type": "error",
     "traceback": [
      "\u001b[0;31m---------------------------------------------------------------------------\u001b[0m",
      "\u001b[0;31mAttributeError\u001b[0m                            Traceback (most recent call last)",
      "Cell \u001b[0;32mIn[2], line 7\u001b[0m\n\u001b[1;32m      5\u001b[0m ds \u001b[38;5;241m=\u001b[39m gdal\u001b[38;5;241m.\u001b[39mOpen(path_to_grid_tif)\n\u001b[1;32m      6\u001b[0m \u001b[38;5;66;03m# array data is only filled with placeholder 1's\u001b[39;00m\n\u001b[0;32m----> 7\u001b[0m ar \u001b[38;5;241m=\u001b[39m \u001b[43mds\u001b[49m\u001b[38;5;241;43m.\u001b[39;49m\u001b[43mGetRasterBand\u001b[49m(\u001b[38;5;241m1\u001b[39m)\u001b[38;5;241m.\u001b[39mReadAsArray()\n\u001b[1;32m      8\u001b[0m \u001b[38;5;66;03m# Geotransform\u001b[39;00m\n\u001b[1;32m      9\u001b[0m gt \u001b[38;5;241m=\u001b[39m ds\u001b[38;5;241m.\u001b[39mGetGeoTransform()\n",
      "\u001b[0;31mAttributeError\u001b[0m: 'NoneType' object has no attribute 'GetRasterBand'"
     ]
    }
   ],
   "source": [
    "# Opening reference GeoTIFF and get relevant parameters\n",
    "# path_to_grid_tif = \"/home/kim/data/bedmap/input_grid/BEDMAP3_shapefile_processing_Input_extent500x500_crop.tif\"\n",
    "# KB: Only worked with filed stored locally\n",
    "path_to_grid_tif = \"BEDMAP3_shapefile_processing_Input_extent500x500_crop.tif\"\n",
    "ds = gdal.Open(path_to_grid_tif)\n",
    "# array data is only filled with placeholder 1's\n",
    "ar = ds.GetRasterBand(1).ReadAsArray()\n",
    "# Geotransform\n",
    "gt = ds.GetGeoTransform()\n",
    "res = gt[1]\n",
    "xmin = gt[0]\n",
    "ymax = gt[3]\n",
    "\n",
    "xsize = ds.RasterXSize\n",
    "ysize = ds.RasterYSize\n",
    "ds = None\n",
    "# True xmin plus half a grid cell to get centre of grid cell\n",
    "xstart = xmin + res/2 \n",
    "# ymax because it is top left\n",
    "ystart = ymax - res/2\n",
    "\n",
    "# Create array of x and y values at the centre of each pixel\n",
    "x = np.arange(xstart, xstart + xsize * res, res)\n",
    "y = np.arange(ystart, ystart -ysize * res, -res )"
   ]
  },
  {
   "cell_type": "code",
   "execution_count": 11,
   "metadata": {},
   "outputs": [
    {
     "data": {
      "text/plain": [
       "(13334, 13334)"
      ]
     },
     "execution_count": 11,
     "metadata": {},
     "output_type": "execute_result"
    }
   ],
   "source": [
    "ar.shape"
   ]
  },
  {
   "cell_type": "markdown",
   "metadata": {},
   "source": [
    "## Alternative from Chat GPT"
   ]
  },
  {
   "cell_type": "code",
   "execution_count": 5,
   "metadata": {},
   "outputs": [],
   "source": [
    "# Open the GeoTIFF file\n",
    "dataset = gdal.Open(\"BEDMAP3_shapefile_processing_Input_extent500x500_crop.tif\")\n",
    "\n",
    "# Read the data as a NumPy array\n",
    "data = dataset.ReadAsArray()\n",
    "\n",
    "# Access geospatial information\n",
    "geotransform = dataset.GetGeoTransform()\n",
    "# (-3333500.0, 500.0, 0.0, 3333500.0, 0.0, -500.0)\n",
    "projection = dataset.GetProjection()\n",
    "# 'PROJCS[\"WGS_1984_Stereographic_South_Pole\",GEOGCS[\"WGS 84\",DATUM[\"WGS_1984\",SPHEROID[\"WGS 84\",6378137,298.257223563,AUTHORITY[\"EPSG\",\"7030\"]],AUTHORITY[\"EPSG\",\"6326\"]],PRIMEM[\"Greenwich\",0],UNIT[\"degree\",0.0174532925199433,AUTHORITY[\"EPSG\",\"9122\"]],AUTHORITY[\"EPSG\",\"4326\"]],PROJECTION[\"Polar_Stereographic\"],PARAMETER[\"latitude_of_origin\",-71],PARAMETER[\"central_meridian\",0],PARAMETER[\"false_easting\",0],PARAMETER[\"false_northing\",0],UNIT[\"metre\",1],AXIS[\"Easting\",NORTH],AXIS[\"Northing\",NORTH]]'\n",
    "\n",
    "# Now you can work with the 'data' array and geospatial information\n",
    "# For example, display the image using Matplotlib\n",
    "# plt.imshow(data, cmap = 'viridis')\n",
    "# plt.show()\n",
    "\n",
    "# Close the dataset\n",
    "dataset = None"
   ]
  },
  {
   "cell_type": "code",
   "execution_count": 12,
   "metadata": {},
   "outputs": [
    {
     "data": {
      "text/plain": [
       "(-3333500.0, 500.0, 0.0, 3333500.0, 0.0, -500.0)"
      ]
     },
     "execution_count": 12,
     "metadata": {},
     "output_type": "execute_result"
    }
   ],
   "source": [
    "geotransform\n",
    "# Enables transformation of tiff data (array) to raster\n",
    "# Top-left x-coordinate (GeoTransform[0]): The x-coordinate of the top-left corner of the top-left pixel.\n",
    "# Pixel width (GeoTransform[1]): The width of a pixel in the x-direction.\n",
    "# Rotation coefficient (GeoTransform[2]): Rotation coefficient, usually 0.\n",
    "# Top-left y-coordinate (GeoTransform[3]): The y-coordinate of the top-left corner of the top-left pixel.\n",
    "# Rotation coefficient (GeoTransform[4]): Rotation coefficient, usually 0.\n",
    "# Pixel height (GeoTransform[5]): The height of a pixel in the y-direction. It is negative for north-up images."
   ]
  },
  {
   "cell_type": "markdown",
   "metadata": {},
   "source": [
    "# Gridding around South pole\n",
    "\n",
    "- South Pole is where grid intersection is\n",
    "- (250, 250) is centrepoint of grid cell"
   ]
  },
  {
   "cell_type": "code",
   "execution_count": null,
   "metadata": {},
   "outputs": [],
   "source": [
    "print(x[6666])\n",
    "print(x[6667])\n",
    "\n",
    "print(y[6666])\n",
    "print(y[6667])"
   ]
  },
  {
   "cell_type": "code",
   "execution_count": null,
   "metadata": {},
   "outputs": [],
   "source": [
    "# xsize = 13334\n",
    "# ysize = 13334\n",
    "# x = np.arange(-3333250, 3333750, 500)\n",
    "# y = np.arange(3333250, -3333750, 500) from top down"
   ]
  }
 ],
 "metadata": {
  "kernelspec": {
   "display_name": "Python 3",
   "language": "python",
   "name": "python3"
  },
  "language_info": {
   "codemirror_mode": {
    "name": "ipython",
    "version": 3
   },
   "file_extension": ".py",
   "mimetype": "text/x-python",
   "name": "python",
   "nbconvert_exporter": "python",
   "pygments_lexer": "ipython3",
   "version": "3.11.7"
  }
 },
 "nbformat": 4,
 "nbformat_minor": 2
}
