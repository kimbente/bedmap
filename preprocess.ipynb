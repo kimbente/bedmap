{
 "cells": [
  {
   "cell_type": "code",
   "execution_count": 1,
   "metadata": {},
   "outputs": [],
   "source": [
    "import pandas as pd\n",
    "# Geopandas is a geo dataframe\n",
    "# import geopandas as gpd\n",
    "import numpy as np\n",
    "import matplotlib.pyplot as plt"
   ]
  },
  {
   "cell_type": "markdown",
   "metadata": {},
   "source": [
    "# Load combined data set"
   ]
  },
  {
   "cell_type": "code",
   "execution_count": 2,
   "metadata": {},
   "outputs": [],
   "source": [
    "all = pd.read_csv(\"/home/kim/data/bedmap/bedmap123.csv\")\n",
    "# loading data takes 2 min, 67.7 M data points"
   ]
  },
  {
   "cell_type": "code",
   "execution_count": null,
   "metadata": {},
   "outputs": [],
   "source": [
    "all.head()"
   ]
  },
  {
   "cell_type": "code",
   "execution_count": null,
   "metadata": {},
   "outputs": [],
   "source": [
    "all.shape"
   ]
  },
  {
   "cell_type": "markdown",
   "metadata": {},
   "source": [
    "# Preprocess"
   ]
  },
  {
   "cell_type": "markdown",
   "metadata": {},
   "source": [
    "## Check bounds"
   ]
  },
  {
   "cell_type": "code",
   "execution_count": null,
   "metadata": {},
   "outputs": [],
   "source": [
    "all = all.drop(all.loc[(all['x'] > 3333000) | (all['x'] < -3333000) | (all['y'] > 3333000) | (all['y'] < -3333000)].index)"
   ]
  },
  {
   "cell_type": "markdown",
   "metadata": {},
   "source": [
    "all.shape"
   ]
  },
  {
   "cell_type": "markdown",
   "metadata": {},
   "source": [
    "## Check b,s,t, replaced with 9999 instead of -9999"
   ]
  },
  {
   "cell_type": "markdown",
   "metadata": {},
   "source": [
    "### b == 9999"
   ]
  },
  {
   "cell_type": "code",
   "execution_count": null,
   "metadata": {},
   "outputs": [],
   "source": [
    "# 6 values from BEDMAP1_1966-2000_AIR_BM1.csv but with s > 10000 so I am removing these\n",
    "all.loc[all[\"b\"] == 9999]"
   ]
  },
  {
   "cell_type": "code",
   "execution_count": null,
   "metadata": {},
   "outputs": [],
   "source": [
    "all = all.drop(all.loc[all[\"b\"] == 9999].index)"
   ]
  },
  {
   "cell_type": "markdown",
   "metadata": {},
   "source": [
    "### s == 9999"
   ]
  },
  {
   "cell_type": "code",
   "execution_count": null,
   "metadata": {},
   "outputs": [],
   "source": [
    "# 2 values but also something clearly wrong\n",
    "all.loc[all[\"s\"] == 9999]"
   ]
  },
  {
   "cell_type": "code",
   "execution_count": null,
   "metadata": {},
   "outputs": [],
   "source": [
    "all = all.drop(all.loc[all[\"s\"] == 9999].index)"
   ]
  },
  {
   "cell_type": "markdown",
   "metadata": {},
   "source": [
    "### t == 9999"
   ]
  },
  {
   "cell_type": "code",
   "execution_count": null,
   "metadata": {},
   "outputs": [],
   "source": [
    "all.loc[all[\"t\"] == 9999]"
   ]
  },
  {
   "cell_type": "markdown",
   "metadata": {},
   "source": [
    "### t, b given, s missing"
   ]
  },
  {
   "cell_type": "markdown",
   "metadata": {},
   "source": [
    "# Surface missing, t and b given: can't check really\n",
    "all.loc[(all['s'] == -9999) & (all['t'] != -9999) & (all['b'] != -9999)]"
   ]
  },
  {
   "cell_type": "markdown",
   "metadata": {},
   "source": [
    "## b, s given, t missing"
   ]
  },
  {
   "cell_type": "markdown",
   "metadata": {},
   "source": [
    "# Thickness missing, b & s given\n",
    "# Check if b > s: 92 k\n",
    "# Bedmap paper states imputation\n",
    "bed_surface_threshold = 0.0\n",
    "all.loc[(all['s'] != -9999) & (all['t'] == -9999) & (all['b'] != -9999) & (all['b'] - all['s'] > bed_surface_threshold)]"
   ]
  },
  {
   "cell_type": "code",
   "execution_count": null,
   "metadata": {},
   "outputs": [],
   "source": [
    "# remove\n",
    "all = all.drop(all.loc[(all['s'] != -9999) & (all['t'] == -9999) & (all['b'] != -9999) & (all['b'] - all['s'] > bed_surface_threshold)].index)"
   ]
  },
  {
   "cell_type": "markdown",
   "metadata": {},
   "source": [
    "### traingle:"
   ]
  },
  {
   "cell_type": "code",
   "execution_count": null,
   "metadata": {},
   "outputs": [],
   "source": [
    "# Inspect values where all 3 fields are given and b > s\n",
    "# > 2 M \n",
    "all.loc[(all['s'] != -9999) & (all['t'] != -9999) & (all['b'] != -9999) & (all['s'] < all['b'])]"
   ]
  },
  {
   "cell_type": "code",
   "execution_count": null,
   "metadata": {},
   "outputs": [],
   "source": [
    "# deleting an extra 100k because of inconsistency\n",
    "traingle_threshold = 5.0\n",
    "all.loc[(all['s'] != -9999) & (all['t'] != -9999) & (all['b'] != -9999) & (np.abs(all['s'] - all['t'] - all['b']) > traingle_threshold)]"
   ]
  },
  {
   "cell_type": "code",
   "execution_count": null,
   "metadata": {},
   "outputs": [],
   "source": [
    "# Triangle check for all complete values\n",
    "traingle_threshold = 5.0\n",
    "all = all.drop(all.loc[(all['s'] != -9999) & (all['t'] != -9999) & (all['b'] != -9999) & (np.abs(all['s'] - all['t'] - all['b']) > traingle_threshold)].index)"
   ]
  },
  {
   "cell_type": "code",
   "execution_count": null,
   "metadata": {},
   "outputs": [],
   "source": [
    "all.shape"
   ]
  },
  {
   "cell_type": "code",
   "execution_count": null,
   "metadata": {},
   "outputs": [],
   "source": [
    "# Repeat with stricter threshold for b > s\n",
    "# bed elevation > surface\n",
    "bed_surface_threshold = 0.0\n",
    "all = all.drop(all.loc[(all['s'] != -9999) & (all['t'] != -9999) & (all['b'] != -9999) & (all['b'] - all['s'] > bed_surface_threshold)].index)"
   ]
  },
  {
   "cell_type": "markdown",
   "metadata": {},
   "source": [
    "# Very high bedrock"
   ]
  },
  {
   "cell_type": "code",
   "execution_count": null,
   "metadata": {},
   "outputs": [],
   "source": [
    "all.shape"
   ]
  },
  {
   "cell_type": "code",
   "execution_count": null,
   "metadata": {},
   "outputs": [],
   "source": [
    "all.loc[(all['b'] > 3600)][\"source\"].value_counts()"
   ]
  },
  {
   "cell_type": "code",
   "execution_count": null,
   "metadata": {},
   "outputs": [],
   "source": [
    "all.loc[(all['b'] > 3600) & (all[\"source\"] == \"BEDMAP1_1966-2000_AIR_BM1.csv\")]"
   ]
  },
  {
   "cell_type": "code",
   "execution_count": null,
   "metadata": {},
   "outputs": [],
   "source": [
    "# appears to be an error\n",
    "all.loc[(all['b'] > 3600) & (all[\"source\"] == \"NASA_2012_ICEBRIDGE_AIR_BM2.csv\")]"
   ]
  },
  {
   "cell_type": "code",
   "execution_count": null,
   "metadata": {},
   "outputs": [],
   "source": [
    "# way too high\n",
    "all.loc[(all['b'] > 3600) & (all[\"source\"] == \"UTIG_1998_West-Marie-Byrd-Land_AIR_BM2.csv\")]"
   ]
  },
  {
   "cell_type": "code",
   "execution_count": null,
   "metadata": {},
   "outputs": [],
   "source": [
    "# way too high\n",
    "all.loc[(all['b'] > 3600) & (all[\"source\"] == \"NASA_2010_ICEBRIDGE_AIR_BM2.csv\")]"
   ]
  },
  {
   "cell_type": "code",
   "execution_count": null,
   "metadata": {},
   "outputs": [],
   "source": [
    "all = all.drop(all.loc[(all['b'] > 3600)].index)"
   ]
  },
  {
   "cell_type": "markdown",
   "metadata": {},
   "source": [
    "### Very high surface"
   ]
  },
  {
   "cell_type": "code",
   "execution_count": null,
   "metadata": {},
   "outputs": [],
   "source": [
    "# plausible\n",
    "all.loc[(all['s'] > 4200)]"
   ]
  },
  {
   "cell_type": "code",
   "execution_count": null,
   "metadata": {},
   "outputs": [],
   "source": [
    "# ice is thick where the bed is very low\n",
    "all.loc[(all['t'] > 4700)]"
   ]
  },
  {
   "cell_type": "markdown",
   "metadata": {},
   "source": [
    "# Export cleaned data"
   ]
  },
  {
   "cell_type": "code",
   "execution_count": null,
   "metadata": {},
   "outputs": [],
   "source": [
    "all.to_csv(\"/home/kim/data/bedmap/bedmap123_preprocessed.csv\")"
   ]
  }
 ],
 "metadata": {
  "kernelspec": {
   "display_name": "Python 3",
   "language": "python",
   "name": "python3"
  },
  "language_info": {
   "codemirror_mode": {
    "name": "ipython",
    "version": 3
   },
   "file_extension": ".py",
   "mimetype": "text/x-python",
   "name": "python",
   "nbconvert_exporter": "python",
   "pygments_lexer": "ipython3",
   "version": "3.8.12"
  }
 },
 "nbformat": 4,
 "nbformat_minor": 2
}
